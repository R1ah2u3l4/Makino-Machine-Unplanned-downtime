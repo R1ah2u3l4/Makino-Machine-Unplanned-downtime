{
 "cells": [
  {
   "cell_type": "code",
   "execution_count": 62,
   "id": "ca6f69af",
   "metadata": {},
   "outputs": [],
   "source": [
    "import pandas as pd\n",
    "import numpy as np\n",
    "import matplotlib.pyplot as plt\n",
    "import seaborn as sns"
   ]
  },
  {
   "cell_type": "code",
   "execution_count": 63,
   "id": "6c730baf",
   "metadata": {},
   "outputs": [],
   "source": [
    "dfm = pd.read_csv(r\"C:\\Users\\hp\\Downloads\\data_makino.csv\")"
   ]
  },
  {
   "cell_type": "code",
   "execution_count": 64,
   "id": "a5fe8960",
   "metadata": {},
   "outputs": [
    {
     "data": {
      "text/html": [
       "<div>\n",
       "<style scoped>\n",
       "    .dataframe tbody tr th:only-of-type {\n",
       "        vertical-align: middle;\n",
       "    }\n",
       "\n",
       "    .dataframe tbody tr th {\n",
       "        vertical-align: top;\n",
       "    }\n",
       "\n",
       "    .dataframe thead th {\n",
       "        text-align: right;\n",
       "    }\n",
       "</style>\n",
       "<table border=\"1\" class=\"dataframe\">\n",
       "  <thead>\n",
       "    <tr style=\"text-align: right;\">\n",
       "      <th></th>\n",
       "      <th>Date</th>\n",
       "      <th>Machine_ID</th>\n",
       "      <th>Assembly_Line_No</th>\n",
       "      <th>Hydraulic_Pressure(bar)</th>\n",
       "      <th>Coolant_Pressure(bar)</th>\n",
       "      <th>Air_System_Pressure(bar)</th>\n",
       "      <th>Coolant_Temperature(°C)</th>\n",
       "      <th>Hydraulic_Oil_Temperature(°C)</th>\n",
       "      <th>Spindle_Bearing_Temperature(°C)</th>\n",
       "      <th>Spindle_Vibration(µm)</th>\n",
       "      <th>Tool_Vibration(µm)</th>\n",
       "      <th>Spindle_Speed(RPM)</th>\n",
       "      <th>Voltage(volts)</th>\n",
       "      <th>Torque(Nm)</th>\n",
       "      <th>Cutting(kN)</th>\n",
       "      <th>Downtime</th>\n",
       "    </tr>\n",
       "  </thead>\n",
       "  <tbody>\n",
       "    <tr>\n",
       "      <th>0</th>\n",
       "      <td>31-12-2021</td>\n",
       "      <td>Makino-L1-Unit1-2013</td>\n",
       "      <td>Shopfloor-L1</td>\n",
       "      <td>71.040000</td>\n",
       "      <td>6.933725</td>\n",
       "      <td>6.284965</td>\n",
       "      <td>25.6</td>\n",
       "      <td>46.0</td>\n",
       "      <td>33.4</td>\n",
       "      <td>1.291</td>\n",
       "      <td>26.492</td>\n",
       "      <td>25892.0</td>\n",
       "      <td>335.0</td>\n",
       "      <td>24.055326</td>\n",
       "      <td>3.58</td>\n",
       "      <td>Machine_Failure</td>\n",
       "    </tr>\n",
       "    <tr>\n",
       "      <th>1</th>\n",
       "      <td>31-12-2021</td>\n",
       "      <td>Makino-L1-Unit1-2013</td>\n",
       "      <td>Shopfloor-L1</td>\n",
       "      <td>125.330000</td>\n",
       "      <td>4.936892</td>\n",
       "      <td>6.196733</td>\n",
       "      <td>35.3</td>\n",
       "      <td>47.4</td>\n",
       "      <td>34.6</td>\n",
       "      <td>1.382</td>\n",
       "      <td>25.274</td>\n",
       "      <td>19856.0</td>\n",
       "      <td>368.0</td>\n",
       "      <td>14.202890</td>\n",
       "      <td>2.68</td>\n",
       "      <td>Machine_Failure</td>\n",
       "    </tr>\n",
       "    <tr>\n",
       "      <th>2</th>\n",
       "      <td>31-12-2021</td>\n",
       "      <td>Makino-L3-Unit1-2015</td>\n",
       "      <td>Shopfloor-L3</td>\n",
       "      <td>71.120000</td>\n",
       "      <td>6.839413</td>\n",
       "      <td>6.655448</td>\n",
       "      <td>13.1</td>\n",
       "      <td>40.7</td>\n",
       "      <td>33.0</td>\n",
       "      <td>1.319</td>\n",
       "      <td>30.608</td>\n",
       "      <td>19851.0</td>\n",
       "      <td>325.0</td>\n",
       "      <td>24.049267</td>\n",
       "      <td>3.55</td>\n",
       "      <td>Machine_Failure</td>\n",
       "    </tr>\n",
       "    <tr>\n",
       "      <th>3</th>\n",
       "      <td>31-05-2022</td>\n",
       "      <td>Makino-L2-Unit1-2015</td>\n",
       "      <td>Shopfloor-L2</td>\n",
       "      <td>139.340000</td>\n",
       "      <td>4.574382</td>\n",
       "      <td>6.560394</td>\n",
       "      <td>24.4</td>\n",
       "      <td>44.2</td>\n",
       "      <td>40.6</td>\n",
       "      <td>0.618</td>\n",
       "      <td>30.791</td>\n",
       "      <td>18461.0</td>\n",
       "      <td>360.0</td>\n",
       "      <td>25.860029</td>\n",
       "      <td>3.55</td>\n",
       "      <td>Machine_Failure</td>\n",
       "    </tr>\n",
       "    <tr>\n",
       "      <th>4</th>\n",
       "      <td>31-03-2022</td>\n",
       "      <td>Makino-L1-Unit1-2013</td>\n",
       "      <td>Shopfloor-L1</td>\n",
       "      <td>60.510000</td>\n",
       "      <td>6.893182</td>\n",
       "      <td>6.141238</td>\n",
       "      <td>4.1</td>\n",
       "      <td>47.3</td>\n",
       "      <td>31.4</td>\n",
       "      <td>0.983</td>\n",
       "      <td>25.516</td>\n",
       "      <td>26526.0</td>\n",
       "      <td>354.0</td>\n",
       "      <td>25.515874</td>\n",
       "      <td>3.55</td>\n",
       "      <td>Machine_Failure</td>\n",
       "    </tr>\n",
       "    <tr>\n",
       "      <th>...</th>\n",
       "      <td>...</td>\n",
       "      <td>...</td>\n",
       "      <td>...</td>\n",
       "      <td>...</td>\n",
       "      <td>...</td>\n",
       "      <td>...</td>\n",
       "      <td>...</td>\n",
       "      <td>...</td>\n",
       "      <td>...</td>\n",
       "      <td>...</td>\n",
       "      <td>...</td>\n",
       "      <td>...</td>\n",
       "      <td>...</td>\n",
       "      <td>...</td>\n",
       "      <td>...</td>\n",
       "      <td>...</td>\n",
       "    </tr>\n",
       "    <tr>\n",
       "      <th>2495</th>\n",
       "      <td>01-02-2022</td>\n",
       "      <td>Makino-L1-Unit1-2013</td>\n",
       "      <td>Shopfloor-L1</td>\n",
       "      <td>112.715506</td>\n",
       "      <td>5.220885</td>\n",
       "      <td>6.196610</td>\n",
       "      <td>22.3</td>\n",
       "      <td>48.8</td>\n",
       "      <td>37.2</td>\n",
       "      <td>0.910</td>\n",
       "      <td>20.282</td>\n",
       "      <td>20974.0</td>\n",
       "      <td>282.0</td>\n",
       "      <td>22.761610</td>\n",
       "      <td>2.72</td>\n",
       "      <td>No_Machine_Failure</td>\n",
       "    </tr>\n",
       "    <tr>\n",
       "      <th>2496</th>\n",
       "      <td>01-02-2022</td>\n",
       "      <td>Makino-L1-Unit1-2013</td>\n",
       "      <td>Shopfloor-L1</td>\n",
       "      <td>103.086653</td>\n",
       "      <td>5.211886</td>\n",
       "      <td>7.074653</td>\n",
       "      <td>11.9</td>\n",
       "      <td>48.3</td>\n",
       "      <td>31.5</td>\n",
       "      <td>1.106</td>\n",
       "      <td>34.708</td>\n",
       "      <td>20951.0</td>\n",
       "      <td>319.0</td>\n",
       "      <td>22.786597</td>\n",
       "      <td>2.94</td>\n",
       "      <td>No_Machine_Failure</td>\n",
       "    </tr>\n",
       "    <tr>\n",
       "      <th>2497</th>\n",
       "      <td>01-02-2022</td>\n",
       "      <td>Makino-L2-Unit1-2015</td>\n",
       "      <td>Shopfloor-L2</td>\n",
       "      <td>118.643165</td>\n",
       "      <td>5.212991</td>\n",
       "      <td>6.530049</td>\n",
       "      <td>4.5</td>\n",
       "      <td>49.9</td>\n",
       "      <td>36.2</td>\n",
       "      <td>0.288</td>\n",
       "      <td>16.828</td>\n",
       "      <td>20958.0</td>\n",
       "      <td>335.0</td>\n",
       "      <td>22.778987</td>\n",
       "      <td>NaN</td>\n",
       "      <td>No_Machine_Failure</td>\n",
       "    </tr>\n",
       "    <tr>\n",
       "      <th>2498</th>\n",
       "      <td>01-02-2022</td>\n",
       "      <td>Makino-L3-Unit1-2015</td>\n",
       "      <td>Shopfloor-L3</td>\n",
       "      <td>145.855859</td>\n",
       "      <td>5.207777</td>\n",
       "      <td>6.402655</td>\n",
       "      <td>12.2</td>\n",
       "      <td>44.5</td>\n",
       "      <td>32.1</td>\n",
       "      <td>0.995</td>\n",
       "      <td>26.498</td>\n",
       "      <td>20935.0</td>\n",
       "      <td>376.0</td>\n",
       "      <td>22.804012</td>\n",
       "      <td>2.79</td>\n",
       "      <td>No_Machine_Failure</td>\n",
       "    </tr>\n",
       "    <tr>\n",
       "      <th>2499</th>\n",
       "      <td>01-02-2022</td>\n",
       "      <td>Makino-L2-Unit1-2015</td>\n",
       "      <td>Shopfloor-L2</td>\n",
       "      <td>96.690000</td>\n",
       "      <td>5.936610</td>\n",
       "      <td>7.109355</td>\n",
       "      <td>29.8</td>\n",
       "      <td>53.2</td>\n",
       "      <td>36.2</td>\n",
       "      <td>0.840</td>\n",
       "      <td>31.580</td>\n",
       "      <td>23576.0</td>\n",
       "      <td>385.0</td>\n",
       "      <td>24.409551</td>\n",
       "      <td>3.55</td>\n",
       "      <td>Machine_Failure</td>\n",
       "    </tr>\n",
       "  </tbody>\n",
       "</table>\n",
       "<p>2500 rows × 16 columns</p>\n",
       "</div>"
      ],
      "text/plain": [
       "            Date            Machine_ID Assembly_Line_No  \\\n",
       "0     31-12-2021  Makino-L1-Unit1-2013     Shopfloor-L1   \n",
       "1     31-12-2021  Makino-L1-Unit1-2013     Shopfloor-L1   \n",
       "2     31-12-2021  Makino-L3-Unit1-2015     Shopfloor-L3   \n",
       "3     31-05-2022  Makino-L2-Unit1-2015     Shopfloor-L2   \n",
       "4     31-03-2022  Makino-L1-Unit1-2013     Shopfloor-L1   \n",
       "...          ...                   ...              ...   \n",
       "2495  01-02-2022  Makino-L1-Unit1-2013     Shopfloor-L1   \n",
       "2496  01-02-2022  Makino-L1-Unit1-2013     Shopfloor-L1   \n",
       "2497  01-02-2022  Makino-L2-Unit1-2015     Shopfloor-L2   \n",
       "2498  01-02-2022  Makino-L3-Unit1-2015     Shopfloor-L3   \n",
       "2499  01-02-2022  Makino-L2-Unit1-2015     Shopfloor-L2   \n",
       "\n",
       "      Hydraulic_Pressure(bar)  Coolant_Pressure(bar)  \\\n",
       "0                   71.040000               6.933725   \n",
       "1                  125.330000               4.936892   \n",
       "2                   71.120000               6.839413   \n",
       "3                  139.340000               4.574382   \n",
       "4                   60.510000               6.893182   \n",
       "...                       ...                    ...   \n",
       "2495               112.715506               5.220885   \n",
       "2496               103.086653               5.211886   \n",
       "2497               118.643165               5.212991   \n",
       "2498               145.855859               5.207777   \n",
       "2499                96.690000               5.936610   \n",
       "\n",
       "      Air_System_Pressure(bar)  Coolant_Temperature(°C)  \\\n",
       "0                     6.284965                     25.6   \n",
       "1                     6.196733                     35.3   \n",
       "2                     6.655448                     13.1   \n",
       "3                     6.560394                     24.4   \n",
       "4                     6.141238                      4.1   \n",
       "...                        ...                      ...   \n",
       "2495                  6.196610                     22.3   \n",
       "2496                  7.074653                     11.9   \n",
       "2497                  6.530049                      4.5   \n",
       "2498                  6.402655                     12.2   \n",
       "2499                  7.109355                     29.8   \n",
       "\n",
       "      Hydraulic_Oil_Temperature(°C)  Spindle_Bearing_Temperature(°C)  \\\n",
       "0                              46.0                             33.4   \n",
       "1                              47.4                             34.6   \n",
       "2                              40.7                             33.0   \n",
       "3                              44.2                             40.6   \n",
       "4                              47.3                             31.4   \n",
       "...                             ...                              ...   \n",
       "2495                           48.8                             37.2   \n",
       "2496                           48.3                             31.5   \n",
       "2497                           49.9                             36.2   \n",
       "2498                           44.5                             32.1   \n",
       "2499                           53.2                             36.2   \n",
       "\n",
       "      Spindle_Vibration(µm)  Tool_Vibration(µm)  Spindle_Speed(RPM)  \\\n",
       "0                     1.291              26.492             25892.0   \n",
       "1                     1.382              25.274             19856.0   \n",
       "2                     1.319              30.608             19851.0   \n",
       "3                     0.618              30.791             18461.0   \n",
       "4                     0.983              25.516             26526.0   \n",
       "...                     ...                 ...                 ...   \n",
       "2495                  0.910              20.282             20974.0   \n",
       "2496                  1.106              34.708             20951.0   \n",
       "2497                  0.288              16.828             20958.0   \n",
       "2498                  0.995              26.498             20935.0   \n",
       "2499                  0.840              31.580             23576.0   \n",
       "\n",
       "      Voltage(volts)  Torque(Nm)  Cutting(kN)            Downtime  \n",
       "0              335.0   24.055326         3.58     Machine_Failure  \n",
       "1              368.0   14.202890         2.68     Machine_Failure  \n",
       "2              325.0   24.049267         3.55     Machine_Failure  \n",
       "3              360.0   25.860029         3.55     Machine_Failure  \n",
       "4              354.0   25.515874         3.55     Machine_Failure  \n",
       "...              ...         ...          ...                 ...  \n",
       "2495           282.0   22.761610         2.72  No_Machine_Failure  \n",
       "2496           319.0   22.786597         2.94  No_Machine_Failure  \n",
       "2497           335.0   22.778987          NaN  No_Machine_Failure  \n",
       "2498           376.0   22.804012         2.79  No_Machine_Failure  \n",
       "2499           385.0   24.409551         3.55     Machine_Failure  \n",
       "\n",
       "[2500 rows x 16 columns]"
      ]
     },
     "execution_count": 64,
     "metadata": {},
     "output_type": "execute_result"
    }
   ],
   "source": [
    "dfm"
   ]
  },
  {
   "cell_type": "code",
   "execution_count": 65,
   "id": "f9fb69fe",
   "metadata": {},
   "outputs": [
    {
     "name": "stdout",
     "output_type": "stream",
     "text": [
      "<class 'pandas.core.frame.DataFrame'>\n",
      "RangeIndex: 2500 entries, 0 to 2499\n",
      "Data columns (total 16 columns):\n",
      " #   Column                           Non-Null Count  Dtype  \n",
      "---  ------                           --------------  -----  \n",
      " 0   Date                             2500 non-null   object \n",
      " 1   Machine_ID                       2500 non-null   object \n",
      " 2   Assembly_Line_No                 2500 non-null   object \n",
      " 3   Hydraulic_Pressure(bar)          2490 non-null   float64\n",
      " 4   Coolant_Pressure(bar)            2481 non-null   float64\n",
      " 5   Air_System_Pressure(bar)         2483 non-null   float64\n",
      " 6   Coolant_Temperature(°C)          2488 non-null   float64\n",
      " 7   Hydraulic_Oil_Temperature(°C)    2484 non-null   float64\n",
      " 8   Spindle_Bearing_Temperature(°C)  2493 non-null   float64\n",
      " 9   Spindle_Vibration(µm)            2489 non-null   float64\n",
      " 10  Tool_Vibration(µm)               2489 non-null   float64\n",
      " 11  Spindle_Speed(RPM)               2494 non-null   float64\n",
      " 12  Voltage(volts)                   2494 non-null   float64\n",
      " 13  Torque(Nm)                       2479 non-null   float64\n",
      " 14  Cutting(kN)                      2493 non-null   float64\n",
      " 15  Downtime                         2500 non-null   object \n",
      "dtypes: float64(12), object(4)\n",
      "memory usage: 312.6+ KB\n"
     ]
    }
   ],
   "source": [
    "dfm.info()"
   ]
  },
  {
   "cell_type": "code",
   "execution_count": 66,
   "id": "1d4e9e7a",
   "metadata": {},
   "outputs": [
    {
     "data": {
      "text/plain": [
       "Index(['Date', 'Machine_ID', 'Assembly_Line_No', 'Hydraulic_Pressure(bar)',\n",
       "       'Coolant_Pressure(bar)', 'Air_System_Pressure(bar)',\n",
       "       'Coolant_Temperature(°C)', 'Hydraulic_Oil_Temperature(°C)',\n",
       "       'Spindle_Bearing_Temperature(°C)', 'Spindle_Vibration(µm)',\n",
       "       'Tool_Vibration(µm)', 'Spindle_Speed(RPM)', 'Voltage(volts)',\n",
       "       'Torque(Nm)', 'Cutting(kN)', 'Downtime'],\n",
       "      dtype='object')"
      ]
     },
     "execution_count": 66,
     "metadata": {},
     "output_type": "execute_result"
    }
   ],
   "source": [
    "dfm.columns"
   ]
  },
  {
   "cell_type": "code",
   "execution_count": 67,
   "id": "dbcb304d",
   "metadata": {},
   "outputs": [],
   "source": [
    "dfm.columns = ['Date', 'Machine_ID', 'Assembly_Line_No', 'Hydraulic_Pressure',\n",
    "       'Coolant_Pressure', 'Air_System_Pressure',\n",
    "       'Coolant_Temperature', 'Hydraulic_Oil_Temperature',\n",
    "       'Spindle_Bearing_Temperature', 'Spindle_Vibration',\n",
    "       'Tool_Vibration', 'Spindle_Speed', 'Voltage',\n",
    "       'Torque', 'Cutting', 'Downtime']"
   ]
  },
  {
   "cell_type": "code",
   "execution_count": 68,
   "id": "0f1e5290",
   "metadata": {},
   "outputs": [
    {
     "data": {
      "text/html": [
       "<div>\n",
       "<style scoped>\n",
       "    .dataframe tbody tr th:only-of-type {\n",
       "        vertical-align: middle;\n",
       "    }\n",
       "\n",
       "    .dataframe tbody tr th {\n",
       "        vertical-align: top;\n",
       "    }\n",
       "\n",
       "    .dataframe thead th {\n",
       "        text-align: right;\n",
       "    }\n",
       "</style>\n",
       "<table border=\"1\" class=\"dataframe\">\n",
       "  <thead>\n",
       "    <tr style=\"text-align: right;\">\n",
       "      <th></th>\n",
       "      <th>Date</th>\n",
       "      <th>Machine_ID</th>\n",
       "      <th>Assembly_Line_No</th>\n",
       "      <th>Hydraulic_Pressure</th>\n",
       "      <th>Coolant_Pressure</th>\n",
       "      <th>Air_System_Pressure</th>\n",
       "      <th>Coolant_Temperature</th>\n",
       "      <th>Hydraulic_Oil_Temperature</th>\n",
       "      <th>Spindle_Bearing_Temperature</th>\n",
       "      <th>Spindle_Vibration</th>\n",
       "      <th>Tool_Vibration</th>\n",
       "      <th>Spindle_Speed</th>\n",
       "      <th>Voltage</th>\n",
       "      <th>Torque</th>\n",
       "      <th>Cutting</th>\n",
       "      <th>Downtime</th>\n",
       "    </tr>\n",
       "  </thead>\n",
       "  <tbody>\n",
       "    <tr>\n",
       "      <th>0</th>\n",
       "      <td>31-12-2021</td>\n",
       "      <td>Makino-L1-Unit1-2013</td>\n",
       "      <td>Shopfloor-L1</td>\n",
       "      <td>71.040000</td>\n",
       "      <td>6.933725</td>\n",
       "      <td>6.284965</td>\n",
       "      <td>25.6</td>\n",
       "      <td>46.0</td>\n",
       "      <td>33.4</td>\n",
       "      <td>1.291</td>\n",
       "      <td>26.492</td>\n",
       "      <td>25892.0</td>\n",
       "      <td>335.0</td>\n",
       "      <td>24.055326</td>\n",
       "      <td>3.58</td>\n",
       "      <td>Machine_Failure</td>\n",
       "    </tr>\n",
       "    <tr>\n",
       "      <th>1</th>\n",
       "      <td>31-12-2021</td>\n",
       "      <td>Makino-L1-Unit1-2013</td>\n",
       "      <td>Shopfloor-L1</td>\n",
       "      <td>125.330000</td>\n",
       "      <td>4.936892</td>\n",
       "      <td>6.196733</td>\n",
       "      <td>35.3</td>\n",
       "      <td>47.4</td>\n",
       "      <td>34.6</td>\n",
       "      <td>1.382</td>\n",
       "      <td>25.274</td>\n",
       "      <td>19856.0</td>\n",
       "      <td>368.0</td>\n",
       "      <td>14.202890</td>\n",
       "      <td>2.68</td>\n",
       "      <td>Machine_Failure</td>\n",
       "    </tr>\n",
       "    <tr>\n",
       "      <th>2</th>\n",
       "      <td>31-12-2021</td>\n",
       "      <td>Makino-L3-Unit1-2015</td>\n",
       "      <td>Shopfloor-L3</td>\n",
       "      <td>71.120000</td>\n",
       "      <td>6.839413</td>\n",
       "      <td>6.655448</td>\n",
       "      <td>13.1</td>\n",
       "      <td>40.7</td>\n",
       "      <td>33.0</td>\n",
       "      <td>1.319</td>\n",
       "      <td>30.608</td>\n",
       "      <td>19851.0</td>\n",
       "      <td>325.0</td>\n",
       "      <td>24.049267</td>\n",
       "      <td>3.55</td>\n",
       "      <td>Machine_Failure</td>\n",
       "    </tr>\n",
       "    <tr>\n",
       "      <th>3</th>\n",
       "      <td>31-05-2022</td>\n",
       "      <td>Makino-L2-Unit1-2015</td>\n",
       "      <td>Shopfloor-L2</td>\n",
       "      <td>139.340000</td>\n",
       "      <td>4.574382</td>\n",
       "      <td>6.560394</td>\n",
       "      <td>24.4</td>\n",
       "      <td>44.2</td>\n",
       "      <td>40.6</td>\n",
       "      <td>0.618</td>\n",
       "      <td>30.791</td>\n",
       "      <td>18461.0</td>\n",
       "      <td>360.0</td>\n",
       "      <td>25.860029</td>\n",
       "      <td>3.55</td>\n",
       "      <td>Machine_Failure</td>\n",
       "    </tr>\n",
       "    <tr>\n",
       "      <th>4</th>\n",
       "      <td>31-03-2022</td>\n",
       "      <td>Makino-L1-Unit1-2013</td>\n",
       "      <td>Shopfloor-L1</td>\n",
       "      <td>60.510000</td>\n",
       "      <td>6.893182</td>\n",
       "      <td>6.141238</td>\n",
       "      <td>4.1</td>\n",
       "      <td>47.3</td>\n",
       "      <td>31.4</td>\n",
       "      <td>0.983</td>\n",
       "      <td>25.516</td>\n",
       "      <td>26526.0</td>\n",
       "      <td>354.0</td>\n",
       "      <td>25.515874</td>\n",
       "      <td>3.55</td>\n",
       "      <td>Machine_Failure</td>\n",
       "    </tr>\n",
       "    <tr>\n",
       "      <th>...</th>\n",
       "      <td>...</td>\n",
       "      <td>...</td>\n",
       "      <td>...</td>\n",
       "      <td>...</td>\n",
       "      <td>...</td>\n",
       "      <td>...</td>\n",
       "      <td>...</td>\n",
       "      <td>...</td>\n",
       "      <td>...</td>\n",
       "      <td>...</td>\n",
       "      <td>...</td>\n",
       "      <td>...</td>\n",
       "      <td>...</td>\n",
       "      <td>...</td>\n",
       "      <td>...</td>\n",
       "      <td>...</td>\n",
       "    </tr>\n",
       "    <tr>\n",
       "      <th>2495</th>\n",
       "      <td>01-02-2022</td>\n",
       "      <td>Makino-L1-Unit1-2013</td>\n",
       "      <td>Shopfloor-L1</td>\n",
       "      <td>112.715506</td>\n",
       "      <td>5.220885</td>\n",
       "      <td>6.196610</td>\n",
       "      <td>22.3</td>\n",
       "      <td>48.8</td>\n",
       "      <td>37.2</td>\n",
       "      <td>0.910</td>\n",
       "      <td>20.282</td>\n",
       "      <td>20974.0</td>\n",
       "      <td>282.0</td>\n",
       "      <td>22.761610</td>\n",
       "      <td>2.72</td>\n",
       "      <td>No_Machine_Failure</td>\n",
       "    </tr>\n",
       "    <tr>\n",
       "      <th>2496</th>\n",
       "      <td>01-02-2022</td>\n",
       "      <td>Makino-L1-Unit1-2013</td>\n",
       "      <td>Shopfloor-L1</td>\n",
       "      <td>103.086653</td>\n",
       "      <td>5.211886</td>\n",
       "      <td>7.074653</td>\n",
       "      <td>11.9</td>\n",
       "      <td>48.3</td>\n",
       "      <td>31.5</td>\n",
       "      <td>1.106</td>\n",
       "      <td>34.708</td>\n",
       "      <td>20951.0</td>\n",
       "      <td>319.0</td>\n",
       "      <td>22.786597</td>\n",
       "      <td>2.94</td>\n",
       "      <td>No_Machine_Failure</td>\n",
       "    </tr>\n",
       "    <tr>\n",
       "      <th>2497</th>\n",
       "      <td>01-02-2022</td>\n",
       "      <td>Makino-L2-Unit1-2015</td>\n",
       "      <td>Shopfloor-L2</td>\n",
       "      <td>118.643165</td>\n",
       "      <td>5.212991</td>\n",
       "      <td>6.530049</td>\n",
       "      <td>4.5</td>\n",
       "      <td>49.9</td>\n",
       "      <td>36.2</td>\n",
       "      <td>0.288</td>\n",
       "      <td>16.828</td>\n",
       "      <td>20958.0</td>\n",
       "      <td>335.0</td>\n",
       "      <td>22.778987</td>\n",
       "      <td>NaN</td>\n",
       "      <td>No_Machine_Failure</td>\n",
       "    </tr>\n",
       "    <tr>\n",
       "      <th>2498</th>\n",
       "      <td>01-02-2022</td>\n",
       "      <td>Makino-L3-Unit1-2015</td>\n",
       "      <td>Shopfloor-L3</td>\n",
       "      <td>145.855859</td>\n",
       "      <td>5.207777</td>\n",
       "      <td>6.402655</td>\n",
       "      <td>12.2</td>\n",
       "      <td>44.5</td>\n",
       "      <td>32.1</td>\n",
       "      <td>0.995</td>\n",
       "      <td>26.498</td>\n",
       "      <td>20935.0</td>\n",
       "      <td>376.0</td>\n",
       "      <td>22.804012</td>\n",
       "      <td>2.79</td>\n",
       "      <td>No_Machine_Failure</td>\n",
       "    </tr>\n",
       "    <tr>\n",
       "      <th>2499</th>\n",
       "      <td>01-02-2022</td>\n",
       "      <td>Makino-L2-Unit1-2015</td>\n",
       "      <td>Shopfloor-L2</td>\n",
       "      <td>96.690000</td>\n",
       "      <td>5.936610</td>\n",
       "      <td>7.109355</td>\n",
       "      <td>29.8</td>\n",
       "      <td>53.2</td>\n",
       "      <td>36.2</td>\n",
       "      <td>0.840</td>\n",
       "      <td>31.580</td>\n",
       "      <td>23576.0</td>\n",
       "      <td>385.0</td>\n",
       "      <td>24.409551</td>\n",
       "      <td>3.55</td>\n",
       "      <td>Machine_Failure</td>\n",
       "    </tr>\n",
       "  </tbody>\n",
       "</table>\n",
       "<p>2500 rows × 16 columns</p>\n",
       "</div>"
      ],
      "text/plain": [
       "            Date            Machine_ID Assembly_Line_No  Hydraulic_Pressure  \\\n",
       "0     31-12-2021  Makino-L1-Unit1-2013     Shopfloor-L1           71.040000   \n",
       "1     31-12-2021  Makino-L1-Unit1-2013     Shopfloor-L1          125.330000   \n",
       "2     31-12-2021  Makino-L3-Unit1-2015     Shopfloor-L3           71.120000   \n",
       "3     31-05-2022  Makino-L2-Unit1-2015     Shopfloor-L2          139.340000   \n",
       "4     31-03-2022  Makino-L1-Unit1-2013     Shopfloor-L1           60.510000   \n",
       "...          ...                   ...              ...                 ...   \n",
       "2495  01-02-2022  Makino-L1-Unit1-2013     Shopfloor-L1          112.715506   \n",
       "2496  01-02-2022  Makino-L1-Unit1-2013     Shopfloor-L1          103.086653   \n",
       "2497  01-02-2022  Makino-L2-Unit1-2015     Shopfloor-L2          118.643165   \n",
       "2498  01-02-2022  Makino-L3-Unit1-2015     Shopfloor-L3          145.855859   \n",
       "2499  01-02-2022  Makino-L2-Unit1-2015     Shopfloor-L2           96.690000   \n",
       "\n",
       "      Coolant_Pressure  Air_System_Pressure  Coolant_Temperature  \\\n",
       "0             6.933725             6.284965                 25.6   \n",
       "1             4.936892             6.196733                 35.3   \n",
       "2             6.839413             6.655448                 13.1   \n",
       "3             4.574382             6.560394                 24.4   \n",
       "4             6.893182             6.141238                  4.1   \n",
       "...                ...                  ...                  ...   \n",
       "2495          5.220885             6.196610                 22.3   \n",
       "2496          5.211886             7.074653                 11.9   \n",
       "2497          5.212991             6.530049                  4.5   \n",
       "2498          5.207777             6.402655                 12.2   \n",
       "2499          5.936610             7.109355                 29.8   \n",
       "\n",
       "      Hydraulic_Oil_Temperature  Spindle_Bearing_Temperature  \\\n",
       "0                          46.0                         33.4   \n",
       "1                          47.4                         34.6   \n",
       "2                          40.7                         33.0   \n",
       "3                          44.2                         40.6   \n",
       "4                          47.3                         31.4   \n",
       "...                         ...                          ...   \n",
       "2495                       48.8                         37.2   \n",
       "2496                       48.3                         31.5   \n",
       "2497                       49.9                         36.2   \n",
       "2498                       44.5                         32.1   \n",
       "2499                       53.2                         36.2   \n",
       "\n",
       "      Spindle_Vibration  Tool_Vibration  Spindle_Speed  Voltage     Torque  \\\n",
       "0                 1.291          26.492        25892.0    335.0  24.055326   \n",
       "1                 1.382          25.274        19856.0    368.0  14.202890   \n",
       "2                 1.319          30.608        19851.0    325.0  24.049267   \n",
       "3                 0.618          30.791        18461.0    360.0  25.860029   \n",
       "4                 0.983          25.516        26526.0    354.0  25.515874   \n",
       "...                 ...             ...            ...      ...        ...   \n",
       "2495              0.910          20.282        20974.0    282.0  22.761610   \n",
       "2496              1.106          34.708        20951.0    319.0  22.786597   \n",
       "2497              0.288          16.828        20958.0    335.0  22.778987   \n",
       "2498              0.995          26.498        20935.0    376.0  22.804012   \n",
       "2499              0.840          31.580        23576.0    385.0  24.409551   \n",
       "\n",
       "      Cutting            Downtime  \n",
       "0        3.58     Machine_Failure  \n",
       "1        2.68     Machine_Failure  \n",
       "2        3.55     Machine_Failure  \n",
       "3        3.55     Machine_Failure  \n",
       "4        3.55     Machine_Failure  \n",
       "...       ...                 ...  \n",
       "2495     2.72  No_Machine_Failure  \n",
       "2496     2.94  No_Machine_Failure  \n",
       "2497      NaN  No_Machine_Failure  \n",
       "2498     2.79  No_Machine_Failure  \n",
       "2499     3.55     Machine_Failure  \n",
       "\n",
       "[2500 rows x 16 columns]"
      ]
     },
     "execution_count": 68,
     "metadata": {},
     "output_type": "execute_result"
    }
   ],
   "source": [
    "dfm"
   ]
  },
  {
   "cell_type": "code",
   "execution_count": 69,
   "id": "76ed88cf",
   "metadata": {},
   "outputs": [
    {
     "data": {
      "text/plain": [
       "Date                            object\n",
       "Machine_ID                      object\n",
       "Assembly_Line_No                object\n",
       "Hydraulic_Pressure             float64\n",
       "Coolant_Pressure               float64\n",
       "Air_System_Pressure            float64\n",
       "Coolant_Temperature            float64\n",
       "Hydraulic_Oil_Temperature      float64\n",
       "Spindle_Bearing_Temperature    float64\n",
       "Spindle_Vibration              float64\n",
       "Tool_Vibration                 float64\n",
       "Spindle_Speed                  float64\n",
       "Voltage                        float64\n",
       "Torque                         float64\n",
       "Cutting                        float64\n",
       "Downtime                        object\n",
       "dtype: object"
      ]
     },
     "execution_count": 69,
     "metadata": {},
     "output_type": "execute_result"
    }
   ],
   "source": [
    "dfm.dtypes"
   ]
  },
  {
   "cell_type": "markdown",
   "id": "12000f91",
   "metadata": {},
   "source": [
    "### Label Encoding for dependent variable target column"
   ]
  },
  {
   "cell_type": "code",
   "execution_count": 71,
   "id": "8bf32220",
   "metadata": {},
   "outputs": [],
   "source": [
    "from sklearn.preprocessing import LabelEncoder"
   ]
  },
  {
   "cell_type": "code",
   "execution_count": 72,
   "id": "1101f48f",
   "metadata": {},
   "outputs": [],
   "source": [
    "le = LabelEncoder()"
   ]
  },
  {
   "cell_type": "code",
   "execution_count": 73,
   "id": "b4bef2f3",
   "metadata": {},
   "outputs": [
    {
     "data": {
      "text/html": [
       "<style>#sk-container-id-3 {color: black;}#sk-container-id-3 pre{padding: 0;}#sk-container-id-3 div.sk-toggleable {background-color: white;}#sk-container-id-3 label.sk-toggleable__label {cursor: pointer;display: block;width: 100%;margin-bottom: 0;padding: 0.3em;box-sizing: border-box;text-align: center;}#sk-container-id-3 label.sk-toggleable__label-arrow:before {content: \"▸\";float: left;margin-right: 0.25em;color: #696969;}#sk-container-id-3 label.sk-toggleable__label-arrow:hover:before {color: black;}#sk-container-id-3 div.sk-estimator:hover label.sk-toggleable__label-arrow:before {color: black;}#sk-container-id-3 div.sk-toggleable__content {max-height: 0;max-width: 0;overflow: hidden;text-align: left;background-color: #f0f8ff;}#sk-container-id-3 div.sk-toggleable__content pre {margin: 0.2em;color: black;border-radius: 0.25em;background-color: #f0f8ff;}#sk-container-id-3 input.sk-toggleable__control:checked~div.sk-toggleable__content {max-height: 200px;max-width: 100%;overflow: auto;}#sk-container-id-3 input.sk-toggleable__control:checked~label.sk-toggleable__label-arrow:before {content: \"▾\";}#sk-container-id-3 div.sk-estimator input.sk-toggleable__control:checked~label.sk-toggleable__label {background-color: #d4ebff;}#sk-container-id-3 div.sk-label input.sk-toggleable__control:checked~label.sk-toggleable__label {background-color: #d4ebff;}#sk-container-id-3 input.sk-hidden--visually {border: 0;clip: rect(1px 1px 1px 1px);clip: rect(1px, 1px, 1px, 1px);height: 1px;margin: -1px;overflow: hidden;padding: 0;position: absolute;width: 1px;}#sk-container-id-3 div.sk-estimator {font-family: monospace;background-color: #f0f8ff;border: 1px dotted black;border-radius: 0.25em;box-sizing: border-box;margin-bottom: 0.5em;}#sk-container-id-3 div.sk-estimator:hover {background-color: #d4ebff;}#sk-container-id-3 div.sk-parallel-item::after {content: \"\";width: 100%;border-bottom: 1px solid gray;flex-grow: 1;}#sk-container-id-3 div.sk-label:hover label.sk-toggleable__label {background-color: #d4ebff;}#sk-container-id-3 div.sk-serial::before {content: \"\";position: absolute;border-left: 1px solid gray;box-sizing: border-box;top: 0;bottom: 0;left: 50%;z-index: 0;}#sk-container-id-3 div.sk-serial {display: flex;flex-direction: column;align-items: center;background-color: white;padding-right: 0.2em;padding-left: 0.2em;position: relative;}#sk-container-id-3 div.sk-item {position: relative;z-index: 1;}#sk-container-id-3 div.sk-parallel {display: flex;align-items: stretch;justify-content: center;background-color: white;position: relative;}#sk-container-id-3 div.sk-item::before, #sk-container-id-3 div.sk-parallel-item::before {content: \"\";position: absolute;border-left: 1px solid gray;box-sizing: border-box;top: 0;bottom: 0;left: 50%;z-index: -1;}#sk-container-id-3 div.sk-parallel-item {display: flex;flex-direction: column;z-index: 1;position: relative;background-color: white;}#sk-container-id-3 div.sk-parallel-item:first-child::after {align-self: flex-end;width: 50%;}#sk-container-id-3 div.sk-parallel-item:last-child::after {align-self: flex-start;width: 50%;}#sk-container-id-3 div.sk-parallel-item:only-child::after {width: 0;}#sk-container-id-3 div.sk-dashed-wrapped {border: 1px dashed gray;margin: 0 0.4em 0.5em 0.4em;box-sizing: border-box;padding-bottom: 0.4em;background-color: white;}#sk-container-id-3 div.sk-label label {font-family: monospace;font-weight: bold;display: inline-block;line-height: 1.2em;}#sk-container-id-3 div.sk-label-container {text-align: center;}#sk-container-id-3 div.sk-container {/* jupyter's `normalize.less` sets `[hidden] { display: none; }` but bootstrap.min.css set `[hidden] { display: none !important; }` so we also need the `!important` here to be able to override the default hidden behavior on the sphinx rendered scikit-learn.org. See: https://github.com/scikit-learn/scikit-learn/issues/21755 */display: inline-block !important;position: relative;}#sk-container-id-3 div.sk-text-repr-fallback {display: none;}</style><div id=\"sk-container-id-3\" class=\"sk-top-container\"><div class=\"sk-text-repr-fallback\"><pre>LabelEncoder()</pre><b>In a Jupyter environment, please rerun this cell to show the HTML representation or trust the notebook. <br />On GitHub, the HTML representation is unable to render, please try loading this page with nbviewer.org.</b></div><div class=\"sk-container\" hidden><div class=\"sk-item\"><div class=\"sk-estimator sk-toggleable\"><input class=\"sk-toggleable__control sk-hidden--visually\" id=\"sk-estimator-id-3\" type=\"checkbox\" checked><label for=\"sk-estimator-id-3\" class=\"sk-toggleable__label sk-toggleable__label-arrow\">LabelEncoder</label><div class=\"sk-toggleable__content\"><pre>LabelEncoder()</pre></div></div></div></div></div>"
      ],
      "text/plain": [
       "LabelEncoder()"
      ]
     },
     "execution_count": 73,
     "metadata": {},
     "output_type": "execute_result"
    }
   ],
   "source": [
    "le"
   ]
  },
  {
   "cell_type": "code",
   "execution_count": 74,
   "id": "bce2cc63",
   "metadata": {},
   "outputs": [
    {
     "data": {
      "text/html": [
       "<style>#sk-container-id-4 {color: black;}#sk-container-id-4 pre{padding: 0;}#sk-container-id-4 div.sk-toggleable {background-color: white;}#sk-container-id-4 label.sk-toggleable__label {cursor: pointer;display: block;width: 100%;margin-bottom: 0;padding: 0.3em;box-sizing: border-box;text-align: center;}#sk-container-id-4 label.sk-toggleable__label-arrow:before {content: \"▸\";float: left;margin-right: 0.25em;color: #696969;}#sk-container-id-4 label.sk-toggleable__label-arrow:hover:before {color: black;}#sk-container-id-4 div.sk-estimator:hover label.sk-toggleable__label-arrow:before {color: black;}#sk-container-id-4 div.sk-toggleable__content {max-height: 0;max-width: 0;overflow: hidden;text-align: left;background-color: #f0f8ff;}#sk-container-id-4 div.sk-toggleable__content pre {margin: 0.2em;color: black;border-radius: 0.25em;background-color: #f0f8ff;}#sk-container-id-4 input.sk-toggleable__control:checked~div.sk-toggleable__content {max-height: 200px;max-width: 100%;overflow: auto;}#sk-container-id-4 input.sk-toggleable__control:checked~label.sk-toggleable__label-arrow:before {content: \"▾\";}#sk-container-id-4 div.sk-estimator input.sk-toggleable__control:checked~label.sk-toggleable__label {background-color: #d4ebff;}#sk-container-id-4 div.sk-label input.sk-toggleable__control:checked~label.sk-toggleable__label {background-color: #d4ebff;}#sk-container-id-4 input.sk-hidden--visually {border: 0;clip: rect(1px 1px 1px 1px);clip: rect(1px, 1px, 1px, 1px);height: 1px;margin: -1px;overflow: hidden;padding: 0;position: absolute;width: 1px;}#sk-container-id-4 div.sk-estimator {font-family: monospace;background-color: #f0f8ff;border: 1px dotted black;border-radius: 0.25em;box-sizing: border-box;margin-bottom: 0.5em;}#sk-container-id-4 div.sk-estimator:hover {background-color: #d4ebff;}#sk-container-id-4 div.sk-parallel-item::after {content: \"\";width: 100%;border-bottom: 1px solid gray;flex-grow: 1;}#sk-container-id-4 div.sk-label:hover label.sk-toggleable__label {background-color: #d4ebff;}#sk-container-id-4 div.sk-serial::before {content: \"\";position: absolute;border-left: 1px solid gray;box-sizing: border-box;top: 0;bottom: 0;left: 50%;z-index: 0;}#sk-container-id-4 div.sk-serial {display: flex;flex-direction: column;align-items: center;background-color: white;padding-right: 0.2em;padding-left: 0.2em;position: relative;}#sk-container-id-4 div.sk-item {position: relative;z-index: 1;}#sk-container-id-4 div.sk-parallel {display: flex;align-items: stretch;justify-content: center;background-color: white;position: relative;}#sk-container-id-4 div.sk-item::before, #sk-container-id-4 div.sk-parallel-item::before {content: \"\";position: absolute;border-left: 1px solid gray;box-sizing: border-box;top: 0;bottom: 0;left: 50%;z-index: -1;}#sk-container-id-4 div.sk-parallel-item {display: flex;flex-direction: column;z-index: 1;position: relative;background-color: white;}#sk-container-id-4 div.sk-parallel-item:first-child::after {align-self: flex-end;width: 50%;}#sk-container-id-4 div.sk-parallel-item:last-child::after {align-self: flex-start;width: 50%;}#sk-container-id-4 div.sk-parallel-item:only-child::after {width: 0;}#sk-container-id-4 div.sk-dashed-wrapped {border: 1px dashed gray;margin: 0 0.4em 0.5em 0.4em;box-sizing: border-box;padding-bottom: 0.4em;background-color: white;}#sk-container-id-4 div.sk-label label {font-family: monospace;font-weight: bold;display: inline-block;line-height: 1.2em;}#sk-container-id-4 div.sk-label-container {text-align: center;}#sk-container-id-4 div.sk-container {/* jupyter's `normalize.less` sets `[hidden] { display: none; }` but bootstrap.min.css set `[hidden] { display: none !important; }` so we also need the `!important` here to be able to override the default hidden behavior on the sphinx rendered scikit-learn.org. See: https://github.com/scikit-learn/scikit-learn/issues/21755 */display: inline-block !important;position: relative;}#sk-container-id-4 div.sk-text-repr-fallback {display: none;}</style><div id=\"sk-container-id-4\" class=\"sk-top-container\"><div class=\"sk-text-repr-fallback\"><pre>LabelEncoder()</pre><b>In a Jupyter environment, please rerun this cell to show the HTML representation or trust the notebook. <br />On GitHub, the HTML representation is unable to render, please try loading this page with nbviewer.org.</b></div><div class=\"sk-container\" hidden><div class=\"sk-item\"><div class=\"sk-estimator sk-toggleable\"><input class=\"sk-toggleable__control sk-hidden--visually\" id=\"sk-estimator-id-4\" type=\"checkbox\" checked><label for=\"sk-estimator-id-4\" class=\"sk-toggleable__label sk-toggleable__label-arrow\">LabelEncoder</label><div class=\"sk-toggleable__content\"><pre>LabelEncoder()</pre></div></div></div></div></div>"
      ],
      "text/plain": [
       "LabelEncoder()"
      ]
     },
     "execution_count": 74,
     "metadata": {},
     "output_type": "execute_result"
    }
   ],
   "source": [
    "le.fit(dfm[\"Downtime\"])"
   ]
  },
  {
   "cell_type": "code",
   "execution_count": 75,
   "id": "1084c742",
   "metadata": {},
   "outputs": [],
   "source": [
    "ary = le.transform(dfm[\"Downtime\"])"
   ]
  },
  {
   "cell_type": "code",
   "execution_count": 76,
   "id": "37d22901",
   "metadata": {},
   "outputs": [
    {
     "data": {
      "text/plain": [
       "array([0, 0, 0, ..., 1, 1, 0])"
      ]
     },
     "execution_count": 76,
     "metadata": {},
     "output_type": "execute_result"
    }
   ],
   "source": [
    "ary"
   ]
  },
  {
   "cell_type": "code",
   "execution_count": 77,
   "id": "1624cf2f",
   "metadata": {},
   "outputs": [],
   "source": [
    "dfm[\"Downtime\"] = ary"
   ]
  },
  {
   "cell_type": "code",
   "execution_count": 78,
   "id": "c171d4f5",
   "metadata": {},
   "outputs": [
    {
     "data": {
      "text/html": [
       "<div>\n",
       "<style scoped>\n",
       "    .dataframe tbody tr th:only-of-type {\n",
       "        vertical-align: middle;\n",
       "    }\n",
       "\n",
       "    .dataframe tbody tr th {\n",
       "        vertical-align: top;\n",
       "    }\n",
       "\n",
       "    .dataframe thead th {\n",
       "        text-align: right;\n",
       "    }\n",
       "</style>\n",
       "<table border=\"1\" class=\"dataframe\">\n",
       "  <thead>\n",
       "    <tr style=\"text-align: right;\">\n",
       "      <th></th>\n",
       "      <th>Hydraulic_Pressure</th>\n",
       "      <th>Coolant_Pressure</th>\n",
       "      <th>Air_System_Pressure</th>\n",
       "      <th>Coolant_Temperature</th>\n",
       "      <th>Hydraulic_Oil_Temperature</th>\n",
       "      <th>Spindle_Bearing_Temperature</th>\n",
       "      <th>Spindle_Vibration</th>\n",
       "      <th>Tool_Vibration</th>\n",
       "      <th>Spindle_Speed</th>\n",
       "      <th>Voltage</th>\n",
       "      <th>Torque</th>\n",
       "      <th>Cutting</th>\n",
       "      <th>Downtime</th>\n",
       "    </tr>\n",
       "  </thead>\n",
       "  <tbody>\n",
       "    <tr>\n",
       "      <th>0</th>\n",
       "      <td>71.040000</td>\n",
       "      <td>6.933725</td>\n",
       "      <td>6.284965</td>\n",
       "      <td>25.6</td>\n",
       "      <td>46.0</td>\n",
       "      <td>33.4</td>\n",
       "      <td>1.291</td>\n",
       "      <td>26.492</td>\n",
       "      <td>25892.0</td>\n",
       "      <td>335.0</td>\n",
       "      <td>24.055326</td>\n",
       "      <td>3.58</td>\n",
       "      <td>0</td>\n",
       "    </tr>\n",
       "    <tr>\n",
       "      <th>1</th>\n",
       "      <td>125.330000</td>\n",
       "      <td>4.936892</td>\n",
       "      <td>6.196733</td>\n",
       "      <td>35.3</td>\n",
       "      <td>47.4</td>\n",
       "      <td>34.6</td>\n",
       "      <td>1.382</td>\n",
       "      <td>25.274</td>\n",
       "      <td>19856.0</td>\n",
       "      <td>368.0</td>\n",
       "      <td>14.202890</td>\n",
       "      <td>2.68</td>\n",
       "      <td>0</td>\n",
       "    </tr>\n",
       "    <tr>\n",
       "      <th>2</th>\n",
       "      <td>71.120000</td>\n",
       "      <td>6.839413</td>\n",
       "      <td>6.655448</td>\n",
       "      <td>13.1</td>\n",
       "      <td>40.7</td>\n",
       "      <td>33.0</td>\n",
       "      <td>1.319</td>\n",
       "      <td>30.608</td>\n",
       "      <td>19851.0</td>\n",
       "      <td>325.0</td>\n",
       "      <td>24.049267</td>\n",
       "      <td>3.55</td>\n",
       "      <td>0</td>\n",
       "    </tr>\n",
       "    <tr>\n",
       "      <th>3</th>\n",
       "      <td>139.340000</td>\n",
       "      <td>4.574382</td>\n",
       "      <td>6.560394</td>\n",
       "      <td>24.4</td>\n",
       "      <td>44.2</td>\n",
       "      <td>40.6</td>\n",
       "      <td>0.618</td>\n",
       "      <td>30.791</td>\n",
       "      <td>18461.0</td>\n",
       "      <td>360.0</td>\n",
       "      <td>25.860029</td>\n",
       "      <td>3.55</td>\n",
       "      <td>0</td>\n",
       "    </tr>\n",
       "    <tr>\n",
       "      <th>4</th>\n",
       "      <td>60.510000</td>\n",
       "      <td>6.893182</td>\n",
       "      <td>6.141238</td>\n",
       "      <td>4.1</td>\n",
       "      <td>47.3</td>\n",
       "      <td>31.4</td>\n",
       "      <td>0.983</td>\n",
       "      <td>25.516</td>\n",
       "      <td>26526.0</td>\n",
       "      <td>354.0</td>\n",
       "      <td>25.515874</td>\n",
       "      <td>3.55</td>\n",
       "      <td>0</td>\n",
       "    </tr>\n",
       "    <tr>\n",
       "      <th>...</th>\n",
       "      <td>...</td>\n",
       "      <td>...</td>\n",
       "      <td>...</td>\n",
       "      <td>...</td>\n",
       "      <td>...</td>\n",
       "      <td>...</td>\n",
       "      <td>...</td>\n",
       "      <td>...</td>\n",
       "      <td>...</td>\n",
       "      <td>...</td>\n",
       "      <td>...</td>\n",
       "      <td>...</td>\n",
       "      <td>...</td>\n",
       "    </tr>\n",
       "    <tr>\n",
       "      <th>2495</th>\n",
       "      <td>112.715506</td>\n",
       "      <td>5.220885</td>\n",
       "      <td>6.196610</td>\n",
       "      <td>22.3</td>\n",
       "      <td>48.8</td>\n",
       "      <td>37.2</td>\n",
       "      <td>0.910</td>\n",
       "      <td>20.282</td>\n",
       "      <td>20974.0</td>\n",
       "      <td>282.0</td>\n",
       "      <td>22.761610</td>\n",
       "      <td>2.72</td>\n",
       "      <td>1</td>\n",
       "    </tr>\n",
       "    <tr>\n",
       "      <th>2496</th>\n",
       "      <td>103.086653</td>\n",
       "      <td>5.211886</td>\n",
       "      <td>7.074653</td>\n",
       "      <td>11.9</td>\n",
       "      <td>48.3</td>\n",
       "      <td>31.5</td>\n",
       "      <td>1.106</td>\n",
       "      <td>34.708</td>\n",
       "      <td>20951.0</td>\n",
       "      <td>319.0</td>\n",
       "      <td>22.786597</td>\n",
       "      <td>2.94</td>\n",
       "      <td>1</td>\n",
       "    </tr>\n",
       "    <tr>\n",
       "      <th>2497</th>\n",
       "      <td>118.643165</td>\n",
       "      <td>5.212991</td>\n",
       "      <td>6.530049</td>\n",
       "      <td>4.5</td>\n",
       "      <td>49.9</td>\n",
       "      <td>36.2</td>\n",
       "      <td>0.288</td>\n",
       "      <td>16.828</td>\n",
       "      <td>20958.0</td>\n",
       "      <td>335.0</td>\n",
       "      <td>22.778987</td>\n",
       "      <td>NaN</td>\n",
       "      <td>1</td>\n",
       "    </tr>\n",
       "    <tr>\n",
       "      <th>2498</th>\n",
       "      <td>145.855859</td>\n",
       "      <td>5.207777</td>\n",
       "      <td>6.402655</td>\n",
       "      <td>12.2</td>\n",
       "      <td>44.5</td>\n",
       "      <td>32.1</td>\n",
       "      <td>0.995</td>\n",
       "      <td>26.498</td>\n",
       "      <td>20935.0</td>\n",
       "      <td>376.0</td>\n",
       "      <td>22.804012</td>\n",
       "      <td>2.79</td>\n",
       "      <td>1</td>\n",
       "    </tr>\n",
       "    <tr>\n",
       "      <th>2499</th>\n",
       "      <td>96.690000</td>\n",
       "      <td>5.936610</td>\n",
       "      <td>7.109355</td>\n",
       "      <td>29.8</td>\n",
       "      <td>53.2</td>\n",
       "      <td>36.2</td>\n",
       "      <td>0.840</td>\n",
       "      <td>31.580</td>\n",
       "      <td>23576.0</td>\n",
       "      <td>385.0</td>\n",
       "      <td>24.409551</td>\n",
       "      <td>3.55</td>\n",
       "      <td>0</td>\n",
       "    </tr>\n",
       "  </tbody>\n",
       "</table>\n",
       "<p>2500 rows × 13 columns</p>\n",
       "</div>"
      ],
      "text/plain": [
       "      Hydraulic_Pressure  Coolant_Pressure  Air_System_Pressure  \\\n",
       "0              71.040000          6.933725             6.284965   \n",
       "1             125.330000          4.936892             6.196733   \n",
       "2              71.120000          6.839413             6.655448   \n",
       "3             139.340000          4.574382             6.560394   \n",
       "4              60.510000          6.893182             6.141238   \n",
       "...                  ...               ...                  ...   \n",
       "2495          112.715506          5.220885             6.196610   \n",
       "2496          103.086653          5.211886             7.074653   \n",
       "2497          118.643165          5.212991             6.530049   \n",
       "2498          145.855859          5.207777             6.402655   \n",
       "2499           96.690000          5.936610             7.109355   \n",
       "\n",
       "      Coolant_Temperature  Hydraulic_Oil_Temperature  \\\n",
       "0                    25.6                       46.0   \n",
       "1                    35.3                       47.4   \n",
       "2                    13.1                       40.7   \n",
       "3                    24.4                       44.2   \n",
       "4                     4.1                       47.3   \n",
       "...                   ...                        ...   \n",
       "2495                 22.3                       48.8   \n",
       "2496                 11.9                       48.3   \n",
       "2497                  4.5                       49.9   \n",
       "2498                 12.2                       44.5   \n",
       "2499                 29.8                       53.2   \n",
       "\n",
       "      Spindle_Bearing_Temperature  Spindle_Vibration  Tool_Vibration  \\\n",
       "0                            33.4              1.291          26.492   \n",
       "1                            34.6              1.382          25.274   \n",
       "2                            33.0              1.319          30.608   \n",
       "3                            40.6              0.618          30.791   \n",
       "4                            31.4              0.983          25.516   \n",
       "...                           ...                ...             ...   \n",
       "2495                         37.2              0.910          20.282   \n",
       "2496                         31.5              1.106          34.708   \n",
       "2497                         36.2              0.288          16.828   \n",
       "2498                         32.1              0.995          26.498   \n",
       "2499                         36.2              0.840          31.580   \n",
       "\n",
       "      Spindle_Speed  Voltage     Torque  Cutting  Downtime  \n",
       "0           25892.0    335.0  24.055326     3.58         0  \n",
       "1           19856.0    368.0  14.202890     2.68         0  \n",
       "2           19851.0    325.0  24.049267     3.55         0  \n",
       "3           18461.0    360.0  25.860029     3.55         0  \n",
       "4           26526.0    354.0  25.515874     3.55         0  \n",
       "...             ...      ...        ...      ...       ...  \n",
       "2495        20974.0    282.0  22.761610     2.72         1  \n",
       "2496        20951.0    319.0  22.786597     2.94         1  \n",
       "2497        20958.0    335.0  22.778987      NaN         1  \n",
       "2498        20935.0    376.0  22.804012     2.79         1  \n",
       "2499        23576.0    385.0  24.409551     3.55         0  \n",
       "\n",
       "[2500 rows x 13 columns]"
      ]
     },
     "execution_count": 78,
     "metadata": {},
     "output_type": "execute_result"
    }
   ],
   "source": [
    "dfm"
   ]
  },
  {
   "cell_type": "markdown",
   "id": "d169d031",
   "metadata": {},
   "source": [
    "### Exploratory Data Analysis (EDA)"
   ]
  },
  {
   "cell_type": "markdown",
   "id": "b249a0c0",
   "metadata": {},
   "source": [
    "First Moment Business Decision/Measures of Central Tendency\n",
    "\n",
    "1 Mean \n",
    "2 Median\n",
    "3 Mode"
   ]
  },
  {
   "cell_type": "code",
   "execution_count": 79,
   "id": "438e6352",
   "metadata": {},
   "outputs": [
    {
     "data": {
      "text/plain": [
       "Hydraulic_Pressure               101.409084\n",
       "Coolant_Pressure                   4.947058\n",
       "Air_System_Pressure                6.499275\n",
       "Coolant_Temperature               18.559887\n",
       "Hydraulic_Oil_Temperature         47.618317\n",
       "Spindle_Bearing_Temperature       35.063698\n",
       "Spindle_Vibration                  1.009334\n",
       "Tool_Vibration                    25.411975\n",
       "Spindle_Speed                  20274.792302\n",
       "Voltage                          348.996792\n",
       "Torque                            25.234968\n",
       "Cutting                            2.782551\n",
       "Downtime                           0.494000\n",
       "dtype: float64"
      ]
     },
     "execution_count": 79,
     "metadata": {},
     "output_type": "execute_result"
    }
   ],
   "source": [
    "dfm.mean()"
   ]
  },
  {
   "cell_type": "code",
   "execution_count": 80,
   "id": "8d5511d1",
   "metadata": {},
   "outputs": [
    {
     "data": {
      "text/plain": [
       "Hydraulic_Pressure                96.763486\n",
       "Coolant_Pressure                   4.939960\n",
       "Air_System_Pressure                6.505191\n",
       "Coolant_Temperature               21.200000\n",
       "Hydraulic_Oil_Temperature         47.700000\n",
       "Spindle_Bearing_Temperature       35.100000\n",
       "Spindle_Vibration                  1.008000\n",
       "Tool_Vibration                    25.455000\n",
       "Spindle_Speed                  20137.500000\n",
       "Voltage                          349.000000\n",
       "Torque                            24.647736\n",
       "Cutting                            2.780000\n",
       "Downtime                           0.000000\n",
       "dtype: float64"
      ]
     },
     "execution_count": 80,
     "metadata": {},
     "output_type": "execute_result"
    }
   ],
   "source": [
    "dfm.median()"
   ]
  },
  {
   "cell_type": "code",
   "execution_count": 81,
   "id": "7493daf2",
   "metadata": {},
   "outputs": [
    {
     "data": {
      "text/html": [
       "<div>\n",
       "<style scoped>\n",
       "    .dataframe tbody tr th:only-of-type {\n",
       "        vertical-align: middle;\n",
       "    }\n",
       "\n",
       "    .dataframe tbody tr th {\n",
       "        vertical-align: top;\n",
       "    }\n",
       "\n",
       "    .dataframe thead th {\n",
       "        text-align: right;\n",
       "    }\n",
       "</style>\n",
       "<table border=\"1\" class=\"dataframe\">\n",
       "  <thead>\n",
       "    <tr style=\"text-align: right;\">\n",
       "      <th></th>\n",
       "      <th>Hydraulic_Pressure</th>\n",
       "      <th>Coolant_Pressure</th>\n",
       "      <th>Air_System_Pressure</th>\n",
       "      <th>Coolant_Temperature</th>\n",
       "      <th>Hydraulic_Oil_Temperature</th>\n",
       "      <th>Spindle_Bearing_Temperature</th>\n",
       "      <th>Spindle_Vibration</th>\n",
       "      <th>Tool_Vibration</th>\n",
       "      <th>Spindle_Speed</th>\n",
       "      <th>Voltage</th>\n",
       "      <th>Torque</th>\n",
       "      <th>Cutting</th>\n",
       "      <th>Downtime</th>\n",
       "    </tr>\n",
       "  </thead>\n",
       "  <tbody>\n",
       "    <tr>\n",
       "      <th>0</th>\n",
       "      <td>88.279134</td>\n",
       "      <td>4.566854</td>\n",
       "      <td>5.628717</td>\n",
       "      <td>26.4</td>\n",
       "      <td>47.5</td>\n",
       "      <td>34.6</td>\n",
       "      <td>1.231</td>\n",
       "      <td>26.736</td>\n",
       "      <td>17726.0</td>\n",
       "      <td>337.0</td>\n",
       "      <td>35.580334</td>\n",
       "      <td>3.55</td>\n",
       "      <td>0.0</td>\n",
       "    </tr>\n",
       "    <tr>\n",
       "      <th>1</th>\n",
       "      <td>89.458747</td>\n",
       "      <td>4.842521</td>\n",
       "      <td>5.928643</td>\n",
       "      <td>NaN</td>\n",
       "      <td>48.0</td>\n",
       "      <td>NaN</td>\n",
       "      <td>NaN</td>\n",
       "      <td>30.585</td>\n",
       "      <td>NaN</td>\n",
       "      <td>NaN</td>\n",
       "      <td>NaN</td>\n",
       "      <td>3.67</td>\n",
       "      <td>NaN</td>\n",
       "    </tr>\n",
       "    <tr>\n",
       "      <th>2</th>\n",
       "      <td>90.458747</td>\n",
       "      <td>5.567857</td>\n",
       "      <td>5.955235</td>\n",
       "      <td>NaN</td>\n",
       "      <td>50.0</td>\n",
       "      <td>NaN</td>\n",
       "      <td>NaN</td>\n",
       "      <td>NaN</td>\n",
       "      <td>NaN</td>\n",
       "      <td>NaN</td>\n",
       "      <td>NaN</td>\n",
       "      <td>NaN</td>\n",
       "      <td>NaN</td>\n",
       "    </tr>\n",
       "    <tr>\n",
       "      <th>3</th>\n",
       "      <td>NaN</td>\n",
       "      <td>5.918357</td>\n",
       "      <td>6.011483</td>\n",
       "      <td>NaN</td>\n",
       "      <td>NaN</td>\n",
       "      <td>NaN</td>\n",
       "      <td>NaN</td>\n",
       "      <td>NaN</td>\n",
       "      <td>NaN</td>\n",
       "      <td>NaN</td>\n",
       "      <td>NaN</td>\n",
       "      <td>NaN</td>\n",
       "      <td>NaN</td>\n",
       "    </tr>\n",
       "    <tr>\n",
       "      <th>4</th>\n",
       "      <td>NaN</td>\n",
       "      <td>6.560332</td>\n",
       "      <td>6.167549</td>\n",
       "      <td>NaN</td>\n",
       "      <td>NaN</td>\n",
       "      <td>NaN</td>\n",
       "      <td>NaN</td>\n",
       "      <td>NaN</td>\n",
       "      <td>NaN</td>\n",
       "      <td>NaN</td>\n",
       "      <td>NaN</td>\n",
       "      <td>NaN</td>\n",
       "      <td>NaN</td>\n",
       "    </tr>\n",
       "    <tr>\n",
       "      <th>5</th>\n",
       "      <td>NaN</td>\n",
       "      <td>6.839413</td>\n",
       "      <td>6.430073</td>\n",
       "      <td>NaN</td>\n",
       "      <td>NaN</td>\n",
       "      <td>NaN</td>\n",
       "      <td>NaN</td>\n",
       "      <td>NaN</td>\n",
       "      <td>NaN</td>\n",
       "      <td>NaN</td>\n",
       "      <td>NaN</td>\n",
       "      <td>NaN</td>\n",
       "      <td>NaN</td>\n",
       "    </tr>\n",
       "    <tr>\n",
       "      <th>6</th>\n",
       "      <td>NaN</td>\n",
       "      <td>6.863944</td>\n",
       "      <td>6.668245</td>\n",
       "      <td>NaN</td>\n",
       "      <td>NaN</td>\n",
       "      <td>NaN</td>\n",
       "      <td>NaN</td>\n",
       "      <td>NaN</td>\n",
       "      <td>NaN</td>\n",
       "      <td>NaN</td>\n",
       "      <td>NaN</td>\n",
       "      <td>NaN</td>\n",
       "      <td>NaN</td>\n",
       "    </tr>\n",
       "    <tr>\n",
       "      <th>7</th>\n",
       "      <td>NaN</td>\n",
       "      <td>6.893182</td>\n",
       "      <td>6.753560</td>\n",
       "      <td>NaN</td>\n",
       "      <td>NaN</td>\n",
       "      <td>NaN</td>\n",
       "      <td>NaN</td>\n",
       "      <td>NaN</td>\n",
       "      <td>NaN</td>\n",
       "      <td>NaN</td>\n",
       "      <td>NaN</td>\n",
       "      <td>NaN</td>\n",
       "      <td>NaN</td>\n",
       "    </tr>\n",
       "    <tr>\n",
       "      <th>8</th>\n",
       "      <td>NaN</td>\n",
       "      <td>NaN</td>\n",
       "      <td>6.836188</td>\n",
       "      <td>NaN</td>\n",
       "      <td>NaN</td>\n",
       "      <td>NaN</td>\n",
       "      <td>NaN</td>\n",
       "      <td>NaN</td>\n",
       "      <td>NaN</td>\n",
       "      <td>NaN</td>\n",
       "      <td>NaN</td>\n",
       "      <td>NaN</td>\n",
       "      <td>NaN</td>\n",
       "    </tr>\n",
       "    <tr>\n",
       "      <th>9</th>\n",
       "      <td>NaN</td>\n",
       "      <td>NaN</td>\n",
       "      <td>6.875058</td>\n",
       "      <td>NaN</td>\n",
       "      <td>NaN</td>\n",
       "      <td>NaN</td>\n",
       "      <td>NaN</td>\n",
       "      <td>NaN</td>\n",
       "      <td>NaN</td>\n",
       "      <td>NaN</td>\n",
       "      <td>NaN</td>\n",
       "      <td>NaN</td>\n",
       "      <td>NaN</td>\n",
       "    </tr>\n",
       "    <tr>\n",
       "      <th>10</th>\n",
       "      <td>NaN</td>\n",
       "      <td>NaN</td>\n",
       "      <td>6.940606</td>\n",
       "      <td>NaN</td>\n",
       "      <td>NaN</td>\n",
       "      <td>NaN</td>\n",
       "      <td>NaN</td>\n",
       "      <td>NaN</td>\n",
       "      <td>NaN</td>\n",
       "      <td>NaN</td>\n",
       "      <td>NaN</td>\n",
       "      <td>NaN</td>\n",
       "      <td>NaN</td>\n",
       "    </tr>\n",
       "  </tbody>\n",
       "</table>\n",
       "</div>"
      ],
      "text/plain": [
       "    Hydraulic_Pressure  Coolant_Pressure  Air_System_Pressure  \\\n",
       "0            88.279134          4.566854             5.628717   \n",
       "1            89.458747          4.842521             5.928643   \n",
       "2            90.458747          5.567857             5.955235   \n",
       "3                  NaN          5.918357             6.011483   \n",
       "4                  NaN          6.560332             6.167549   \n",
       "5                  NaN          6.839413             6.430073   \n",
       "6                  NaN          6.863944             6.668245   \n",
       "7                  NaN          6.893182             6.753560   \n",
       "8                  NaN               NaN             6.836188   \n",
       "9                  NaN               NaN             6.875058   \n",
       "10                 NaN               NaN             6.940606   \n",
       "\n",
       "    Coolant_Temperature  Hydraulic_Oil_Temperature  \\\n",
       "0                  26.4                       47.5   \n",
       "1                   NaN                       48.0   \n",
       "2                   NaN                       50.0   \n",
       "3                   NaN                        NaN   \n",
       "4                   NaN                        NaN   \n",
       "5                   NaN                        NaN   \n",
       "6                   NaN                        NaN   \n",
       "7                   NaN                        NaN   \n",
       "8                   NaN                        NaN   \n",
       "9                   NaN                        NaN   \n",
       "10                  NaN                        NaN   \n",
       "\n",
       "    Spindle_Bearing_Temperature  Spindle_Vibration  Tool_Vibration  \\\n",
       "0                          34.6              1.231          26.736   \n",
       "1                           NaN                NaN          30.585   \n",
       "2                           NaN                NaN             NaN   \n",
       "3                           NaN                NaN             NaN   \n",
       "4                           NaN                NaN             NaN   \n",
       "5                           NaN                NaN             NaN   \n",
       "6                           NaN                NaN             NaN   \n",
       "7                           NaN                NaN             NaN   \n",
       "8                           NaN                NaN             NaN   \n",
       "9                           NaN                NaN             NaN   \n",
       "10                          NaN                NaN             NaN   \n",
       "\n",
       "    Spindle_Speed  Voltage     Torque  Cutting  Downtime  \n",
       "0         17726.0    337.0  35.580334     3.55       0.0  \n",
       "1             NaN      NaN        NaN     3.67       NaN  \n",
       "2             NaN      NaN        NaN      NaN       NaN  \n",
       "3             NaN      NaN        NaN      NaN       NaN  \n",
       "4             NaN      NaN        NaN      NaN       NaN  \n",
       "5             NaN      NaN        NaN      NaN       NaN  \n",
       "6             NaN      NaN        NaN      NaN       NaN  \n",
       "7             NaN      NaN        NaN      NaN       NaN  \n",
       "8             NaN      NaN        NaN      NaN       NaN  \n",
       "9             NaN      NaN        NaN      NaN       NaN  \n",
       "10            NaN      NaN        NaN      NaN       NaN  "
      ]
     },
     "execution_count": 81,
     "metadata": {},
     "output_type": "execute_result"
    }
   ],
   "source": [
    "dfm.mode()"
   ]
  },
  {
   "cell_type": "markdown",
   "id": "395a8aa8",
   "metadata": {},
   "source": [
    "Second Moment Business Decision/ Measures of Dispersion\n",
    "\n",
    "1 Variance \n",
    "2 Standard Deviation\n",
    "3 Range (Maximum - Minimum)"
   ]
  },
  {
   "cell_type": "code",
   "execution_count": 82,
   "id": "5c54033b",
   "metadata": {},
   "outputs": [
    {
     "data": {
      "text/plain": [
       "Hydraulic_Pressure             9.174417e+02\n",
       "Coolant_Pressure               9.947213e-01\n",
       "Air_System_Pressure            1.658765e-01\n",
       "Coolant_Temperature            7.317912e+01\n",
       "Hydraulic_Oil_Temperature      1.420291e+01\n",
       "Spindle_Bearing_Temperature    1.417389e+01\n",
       "Spindle_Vibration              1.175791e-01\n",
       "Tool_Vibration                 4.143679e+01\n",
       "Spindle_Speed                  1.484299e+07\n",
       "Voltage                        2.058984e+03\n",
       "Torque                         3.768196e+01\n",
       "Cutting                        3.803044e-01\n",
       "Downtime                       2.500640e-01\n",
       "dtype: float64"
      ]
     },
     "execution_count": 82,
     "metadata": {},
     "output_type": "execute_result"
    }
   ],
   "source": [
    "dfm.var()"
   ]
  },
  {
   "cell_type": "code",
   "execution_count": 83,
   "id": "7e06956e",
   "metadata": {},
   "outputs": [
    {
     "data": {
      "text/plain": [
       "Hydraulic_Pressure               30.289301\n",
       "Coolant_Pressure                  0.997357\n",
       "Air_System_Pressure               0.407279\n",
       "Coolant_Temperature               8.554480\n",
       "Hydraulic_Oil_Temperature         3.768674\n",
       "Spindle_Bearing_Temperature       3.764823\n",
       "Spindle_Vibration                 0.342898\n",
       "Tool_Vibration                    6.437142\n",
       "Spindle_Speed                  3852.660056\n",
       "Voltage                          45.376024\n",
       "Torque                            6.138564\n",
       "Cutting                           0.616688\n",
       "Downtime                          0.500064\n",
       "dtype: float64"
      ]
     },
     "execution_count": 83,
     "metadata": {},
     "output_type": "execute_result"
    }
   ],
   "source": [
    "dfm.std()"
   ]
  },
  {
   "cell_type": "markdown",
   "id": "c0f44e6a",
   "metadata": {},
   "source": [
    "3rd Moment Business Decision(Skewness)\n",
    "\n",
    "Measure of asymmetry in data distribution"
   ]
  },
  {
   "cell_type": "code",
   "execution_count": 84,
   "id": "f6f8f70c",
   "metadata": {},
   "outputs": [
    {
     "data": {
      "text/plain": [
       "Hydraulic_Pressure             0.197076\n",
       "Coolant_Pressure               0.147081\n",
       "Air_System_Pressure           -0.052899\n",
       "Coolant_Temperature            0.108301\n",
       "Hydraulic_Oil_Temperature     -0.002291\n",
       "Spindle_Bearing_Temperature   -0.035942\n",
       "Spindle_Vibration              0.001532\n",
       "Tool_Vibration                -0.061005\n",
       "Spindle_Speed                 -0.172475\n",
       "Voltage                       -0.028658\n",
       "Torque                         0.030578\n",
       "Cutting                        0.113963\n",
       "Downtime                       0.024016\n",
       "dtype: float64"
      ]
     },
     "execution_count": 84,
     "metadata": {},
     "output_type": "execute_result"
    }
   ],
   "source": [
    "dfm.skew()"
   ]
  },
  {
   "cell_type": "markdown",
   "id": "40e49894",
   "metadata": {},
   "source": [
    "4th Moment Business Decision(Kurtosis)\n",
    "\n",
    "Measure of Peakness -- Represents overall spread in data"
   ]
  },
  {
   "cell_type": "code",
   "execution_count": 85,
   "id": "f1322da0",
   "metadata": {},
   "outputs": [
    {
     "data": {
      "text/plain": [
       "Hydraulic_Pressure            -0.920292\n",
       "Coolant_Pressure               1.169455\n",
       "Air_System_Pressure           -0.001578\n",
       "Coolant_Temperature            1.564639\n",
       "Hydraulic_Oil_Temperature      0.038164\n",
       "Spindle_Bearing_Temperature   -0.043862\n",
       "Spindle_Vibration             -0.018718\n",
       "Tool_Vibration                 0.006451\n",
       "Spindle_Speed                  1.344769\n",
       "Voltage                       -0.090328\n",
       "Torque                        -0.465628\n",
       "Cutting                       -1.087171\n",
       "Downtime                      -2.001025\n",
       "dtype: float64"
      ]
     },
     "execution_count": 85,
     "metadata": {},
     "output_type": "execute_result"
    }
   ],
   "source": [
    "dfm.kurt()"
   ]
  },
  {
   "cell_type": "markdown",
   "id": "f8786f40",
   "metadata": {},
   "source": [
    "### Auto EDA"
   ]
  },
  {
   "cell_type": "code",
   "execution_count": 86,
   "id": "42f514a7",
   "metadata": {},
   "outputs": [],
   "source": [
    "import sweetviz as sv"
   ]
  },
  {
   "cell_type": "code",
   "execution_count": 87,
   "id": "70b4e4e6",
   "metadata": {},
   "outputs": [
    {
     "data": {
      "application/vnd.jupyter.widget-view+json": {
       "model_id": "3881d91491bc44469db65a9c320c5336",
       "version_major": 2,
       "version_minor": 0
      },
      "text/plain": [
       "                                             |          | [  0%]   00:00 -> (? left)"
      ]
     },
     "metadata": {},
     "output_type": "display_data"
    }
   ],
   "source": [
    "report = sv.analyze([dfm, \"dfm\"])"
   ]
  },
  {
   "cell_type": "code",
   "execution_count": 88,
   "id": "1e6c7954",
   "metadata": {},
   "outputs": [
    {
     "name": "stdout",
     "output_type": "stream",
     "text": [
      "Report myreport.html was generated! NOTEBOOK/COLAB USERS: the web browser MAY not pop up, regardless, the report IS saved in your notebook/colab files.\n"
     ]
    }
   ],
   "source": [
    "report.show_html(\"myreport.html\")"
   ]
  },
  {
   "cell_type": "markdown",
   "id": "08830583",
   "metadata": {},
   "source": [
    "### Data Preprocessing"
   ]
  },
  {
   "cell_type": "markdown",
   "id": "47b5bc09",
   "metadata": {},
   "source": [
    "#### 1.  Typecasting"
   ]
  },
  {
   "cell_type": "markdown",
   "id": "02b8d507",
   "metadata": {},
   "source": [
    "No need to perform"
   ]
  },
  {
   "cell_type": "markdown",
   "id": "3f914e3d",
   "metadata": {},
   "source": [
    "#### 2 Handling Duplicates"
   ]
  },
  {
   "cell_type": "code",
   "execution_count": 89,
   "id": "7abb13a0",
   "metadata": {},
   "outputs": [
    {
     "name": "stdout",
     "output_type": "stream",
     "text": [
      "0       False\n",
      "1       False\n",
      "2       False\n",
      "3       False\n",
      "4       False\n",
      "        ...  \n",
      "2495    False\n",
      "2496    False\n",
      "2497    False\n",
      "2498    False\n",
      "2499    False\n",
      "Length: 2500, dtype: bool\n"
     ]
    },
    {
     "data": {
      "text/plain": [
       "0"
      ]
     },
     "execution_count": 89,
     "metadata": {},
     "output_type": "execute_result"
    }
   ],
   "source": [
    "dup = dfm.duplicated()\n",
    "print(dup)\n",
    "sum(dup)"
   ]
  },
  {
   "cell_type": "markdown",
   "id": "11893e48",
   "metadata": {},
   "source": [
    "#### 3 Missing Value Analysis"
   ]
  },
  {
   "cell_type": "code",
   "execution_count": 90,
   "id": "d1552e05",
   "metadata": {},
   "outputs": [
    {
     "data": {
      "text/plain": [
       "Hydraulic_Pressure             10\n",
       "Coolant_Pressure               19\n",
       "Air_System_Pressure            17\n",
       "Coolant_Temperature            12\n",
       "Hydraulic_Oil_Temperature      16\n",
       "Spindle_Bearing_Temperature     7\n",
       "Spindle_Vibration              11\n",
       "Tool_Vibration                 11\n",
       "Spindle_Speed                   6\n",
       "Voltage                         6\n",
       "Torque                         21\n",
       "Cutting                         7\n",
       "Downtime                        0\n",
       "dtype: int64"
      ]
     },
     "execution_count": 90,
     "metadata": {},
     "output_type": "execute_result"
    }
   ],
   "source": [
    "dfm.isna().sum()"
   ]
  },
  {
   "cell_type": "code",
   "execution_count": 91,
   "id": "093d86bc",
   "metadata": {},
   "outputs": [],
   "source": [
    "dfm.fillna(dfm.median(), inplace=True)"
   ]
  },
  {
   "cell_type": "code",
   "execution_count": 92,
   "id": "372181c6",
   "metadata": {},
   "outputs": [
    {
     "data": {
      "text/plain": [
       "Hydraulic_Pressure             0\n",
       "Coolant_Pressure               0\n",
       "Air_System_Pressure            0\n",
       "Coolant_Temperature            0\n",
       "Hydraulic_Oil_Temperature      0\n",
       "Spindle_Bearing_Temperature    0\n",
       "Spindle_Vibration              0\n",
       "Tool_Vibration                 0\n",
       "Spindle_Speed                  0\n",
       "Voltage                        0\n",
       "Torque                         0\n",
       "Cutting                        0\n",
       "Downtime                       0\n",
       "dtype: int64"
      ]
     },
     "execution_count": 92,
     "metadata": {},
     "output_type": "execute_result"
    }
   ],
   "source": [
    "dfm.isna().sum()"
   ]
  },
  {
   "cell_type": "markdown",
   "id": "e8870f82",
   "metadata": {},
   "source": [
    "#### 4 Outlier Analysis"
   ]
  },
  {
   "cell_type": "code",
   "execution_count": 109,
   "id": "6f15ad14",
   "metadata": {},
   "outputs": [
    {
     "data": {
      "image/png": "[encoded data removed]",
      "text/plain": [
       "<Figure size 1000x600 with 13 Axes>"
      ]
     },
     "metadata": {},
     "output_type": "display_data"
    }
   ],
   "source": [
    "### Boxplot\n",
    "dfm.plot(kind = 'box', subplots = True, sharey = False, figsize = (10,6))\n",
    "plt.subplots_adjust(wspace = 0.75)\n",
    "plt.show()"
   ]
  },
  {
   "cell_type": "code",
   "execution_count": 115,
   "id": "d16bd599",
   "metadata": {},
   "outputs": [
    {
     "data": {
      "text/plain": [
       "Index(['Hydraulic_Pressure', 'Coolant_Pressure', 'Air_System_Pressure',\n",
       "       'Coolant_Temperature', 'Hydraulic_Oil_Temperature',\n",
       "       'Spindle_Bearing_Temperature', 'Spindle_Vibration', 'Tool_Vibration',\n",
       "       'Spindle_Speed', 'Voltage', 'Torque', 'Cutting', 'Downtime'],\n",
       "      dtype='object')"
      ]
     },
     "execution_count": 115,
     "metadata": {},
     "output_type": "execute_result"
    }
   ],
   "source": [
    "dfm.columns"
   ]
  },
  {
   "cell_type": "code",
   "execution_count": 117,
   "id": "6a4df430",
   "metadata": {},
   "outputs": [],
   "source": [
    "from feature_engine.outliers import Winsorizer"
   ]
  },
  {
   "cell_type": "code",
   "execution_count": 118,
   "id": "e6e9c77b",
   "metadata": {},
   "outputs": [],
   "source": [
    "winsor = Winsorizer(capping_method = 'iqr',\n",
    "                   tail = 'both',\n",
    "                   fold = 1.5,\n",
    "                   variables = ['Hydraulic_Pressure'])\n",
    "\n",
    "dfm['Hydraulic_Pressure'] = winsor.fit_transform(dfm[['Hydraulic_Pressure']])"
   ]
  },
  {
   "cell_type": "code",
   "execution_count": 119,
   "id": "25513e05",
   "metadata": {},
   "outputs": [],
   "source": [
    "winsor = Winsorizer(capping_method = 'iqr',\n",
    "                   tail = 'both',\n",
    "                   fold = 1.5,\n",
    "                   variables = ['Coolant_Pressure'])\n",
    "\n",
    "dfm['Coolant_Pressure'] = winsor.fit_transform(dfm[['Coolant_Pressure']])"
   ]
  },
  {
   "cell_type": "code",
   "execution_count": 120,
   "id": "ff98665e",
   "metadata": {},
   "outputs": [],
   "source": [
    "winsor = Winsorizer(capping_method = 'iqr',\n",
    "                   tail = 'both',\n",
    "                   fold = 1.5,\n",
    "                   variables = ['Air_System_Pressure'])\n",
    "\n",
    "dfm['Air_System_Pressure'] = winsor.fit_transform(dfm[['Air_System_Pressure']])"
   ]
  },
  {
   "cell_type": "code",
   "execution_count": 121,
   "id": "fc3cde29",
   "metadata": {},
   "outputs": [],
   "source": [
    "winsor = Winsorizer(capping_method = 'iqr',\n",
    "                   tail = 'both',\n",
    "                   fold = 1.5,\n",
    "                   variables = ['Coolant_Temperature'])\n",
    "\n",
    "dfm['Coolant_Temperature'] = winsor.fit_transform(dfm[['Coolant_Temperature']])"
   ]
  },
  {
   "cell_type": "code",
   "execution_count": 122,
   "id": "6c924bdb",
   "metadata": {},
   "outputs": [],
   "source": [
    "winsor = Winsorizer(capping_method = 'iqr',\n",
    "                   tail = 'both',\n",
    "                   fold = 1.5,\n",
    "                   variables = ['Hydraulic_Oil_Temperature'])\n",
    "\n",
    "dfm['Hydraulic_Oil_Temperature'] = winsor.fit_transform(dfm[['Hydraulic_Oil_Temperature']])"
   ]
  },
  {
   "cell_type": "code",
   "execution_count": 123,
   "id": "25221c45",
   "metadata": {},
   "outputs": [],
   "source": [
    "winsor = Winsorizer(capping_method = 'iqr',\n",
    "                   tail = 'both',\n",
    "                   fold = 1.5,\n",
    "                   variables = ['Spindle_Bearing_Temperature'])\n",
    "\n",
    "dfm['Spindle_Bearing_Temperature'] = winsor.fit_transform(dfm[['Spindle_Bearing_Temperature']])"
   ]
  },
  {
   "cell_type": "code",
   "execution_count": 124,
   "id": "39b0f5a7",
   "metadata": {},
   "outputs": [],
   "source": [
    "winsor = Winsorizer(capping_method = 'iqr',\n",
    "                   tail = 'both',\n",
    "                   fold = 1.5,\n",
    "                   variables = ['Spindle_Vibration'])\n",
    "\n",
    "dfm['Spindle_Vibration'] = winsor.fit_transform(dfm[['Spindle_Vibration']])"
   ]
  },
  {
   "cell_type": "code",
   "execution_count": 125,
   "id": "d1f186ec",
   "metadata": {},
   "outputs": [],
   "source": [
    "winsor = Winsorizer(capping_method = 'iqr',\n",
    "                   tail = 'both',\n",
    "                   fold = 1.5,\n",
    "                   variables = ['Tool_Vibration'])\n",
    "\n",
    "dfm['Tool_Vibration'] = winsor.fit_transform(dfm[['Tool_Vibration']])"
   ]
  },
  {
   "cell_type": "code",
   "execution_count": 126,
   "id": "ea9d5e07",
   "metadata": {},
   "outputs": [],
   "source": [
    "winsor = Winsorizer(capping_method = 'iqr',\n",
    "                   tail = 'both',\n",
    "                   fold = 1.5,\n",
    "                   variables = ['Spindle_Speed'])\n",
    "\n",
    "dfm['Spindle_Speed'] = winsor.fit_transform(dfm[['Spindle_Speed']])"
   ]
  },
  {
   "cell_type": "code",
   "execution_count": 127,
   "id": "aa274c88",
   "metadata": {},
   "outputs": [],
   "source": [
    "winsor = Winsorizer(capping_method = 'iqr',\n",
    "                   tail = 'both',\n",
    "                   fold = 1.5,\n",
    "                   variables = ['Voltage'])\n",
    "\n",
    "dfm['Voltage'] = winsor.fit_transform(dfm[['Voltage']])"
   ]
  },
  {
   "cell_type": "code",
   "execution_count": 128,
   "id": "dd6428c2",
   "metadata": {},
   "outputs": [],
   "source": [
    "winsor = Winsorizer(capping_method = 'iqr',\n",
    "                   tail = 'both',\n",
    "                   fold = 1.5,\n",
    "                   variables = ['Torque'])\n",
    "\n",
    "dfm['Torque'] = winsor.fit_transform(dfm[['Torque']])"
   ]
  },
  {
   "cell_type": "code",
   "execution_count": 129,
   "id": "e1647f7e",
   "metadata": {},
   "outputs": [],
   "source": [
    "winsor = Winsorizer(capping_method = 'iqr',\n",
    "                   tail = 'both',\n",
    "                   fold = 1.5,\n",
    "                   variables = ['Cutting'])\n",
    "\n",
    "dfm['Cutting'] = winsor.fit_transform(dfm[['Cutting']])"
   ]
  },
  {
   "cell_type": "code",
   "execution_count": 132,
   "id": "d0c80771",
   "metadata": {},
   "outputs": [
    {
     "data": {
      "image/png": "[encoded data removed]",
      "text/plain": [
       "<Figure size 1800x600 with 13 Axes>"
      ]
     },
     "metadata": {},
     "output_type": "display_data"
    }
   ],
   "source": [
    "dfm.plot(kind = 'box', subplots = True, sharey = False, figsize = (18,6))\n",
    "plt.subplots_adjust(wspace = 0.75)\n",
    "plt.show()"
   ]
  },
  {
   "cell_type": "markdown",
   "id": "a516b9f8",
   "metadata": {},
   "source": [
    "#### 5 Zero or Near Zero Variance"
   ]
  },
  {
   "cell_type": "code",
   "execution_count": 133,
   "id": "ed4d4ce7",
   "metadata": {},
   "outputs": [
    {
     "data": {
      "text/plain": [
       "Hydraulic_Pressure             9.124730e+02\n",
       "Coolant_Pressure               9.513733e-01\n",
       "Air_System_Pressure            1.624911e-01\n",
       "Coolant_Temperature            7.067674e+01\n",
       "Hydraulic_Oil_Temperature      1.387386e+01\n",
       "Spindle_Bearing_Temperature    1.397477e+01\n",
       "Spindle_Vibration              1.158992e-01\n",
       "Tool_Vibration                 4.075408e+01\n",
       "Spindle_Speed                  1.389271e+07\n",
       "Voltage                        2.040536e+03\n",
       "Torque                         3.685204e+01\n",
       "Cutting                        3.792391e-01\n",
       "Downtime                       2.500640e-01\n",
       "dtype: float64"
      ]
     },
     "execution_count": 133,
     "metadata": {},
     "output_type": "execute_result"
    }
   ],
   "source": [
    "dfm.var()"
   ]
  },
  {
   "cell_type": "markdown",
   "id": "00330108",
   "metadata": {},
   "source": [
    "#### 6 Discretization "
   ]
  },
  {
   "cell_type": "markdown",
   "id": "42d97ebc",
   "metadata": {},
   "source": [
    "Not required in this context of data"
   ]
  },
  {
   "cell_type": "markdown",
   "id": "ced13dcb",
   "metadata": {},
   "source": [
    "#### 7 Dummy Variable Creation (checking for imbalanceness in data)"
   ]
  },
  {
   "cell_type": "code",
   "execution_count": 135,
   "id": "eb5f1182",
   "metadata": {},
   "outputs": [
    {
     "data": {
      "text/plain": [
       "Downtime\n",
       "0    1265\n",
       "1    1235\n",
       "Name: count, dtype: int64"
      ]
     },
     "execution_count": 135,
     "metadata": {},
     "output_type": "execute_result"
    }
   ],
   "source": [
    " dfm[\"Downtime\"].value_counts()"
   ]
  },
  {
   "cell_type": "markdown",
   "id": "f3a459ed",
   "metadata": {},
   "source": [
    "### Graphical Representation"
   ]
  },
  {
   "cell_type": "markdown",
   "id": "9ad1597f",
   "metadata": {},
   "source": [
    " Univariate Analysis\n",
    "\n"
   ]
  },
  {
   "cell_type": "code",
   "execution_count": 136,
   "id": "2feb242c",
   "metadata": {},
   "outputs": [
    {
     "data": {
      "image/png": "[encoded data removed]",
      "text/plain": [
       "<Figure size 640x480 with 1 Axes>"
      ]
     },
     "metadata": {},
     "output_type": "display_data"
    },
    {
     "data": {
      "image/png": "[encoded data removed]",
      "text/plain": [
       "<Figure size 640x480 with 1 Axes>"
      ]
     },
     "metadata": {},
     "output_type": "display_data"
    },
    {
     "data": {
      "image/png": "[encoded data removed]",
      "text/plain": [
       "<Figure size 640x480 with 1 Axes>"
      ]
     },
     "metadata": {},
     "output_type": "display_data"
    },
    {
     "data": {
      "image/png": "[encoded data removed]",
      "text/plain": [
       "<Figure size 640x480 with 1 Axes>"
      ]
     },
     "metadata": {},
     "output_type": "display_data"
    },
    {
     "data": {
      "image/png": "[encoded data removed]",
      "text/plain": [
       "<Figure size 640x480 with 1 Axes>"
      ]
     },
     "metadata": {},
     "output_type": "display_data"
    },
    {
     "data": {
      "image/png": "[encoded data removed]",
      "text/plain": [
       "<Figure size 640x480 with 1 Axes>"
      ]
     },
     "metadata": {},
     "output_type": "display_data"
    },
    {
     "data": {
      "image/png": "[encoded data removed]",
      "text/plain": [
       "<Figure size 640x480 with 1 Axes>"
      ]
     },
     "metadata": {},
     "output_type": "display_data"
    },
    {
     "data": {
      "image/png": "[encoded data removed]",
      "text/plain": [
       "<Figure size 640x480 with 1 Axes>"
      ]
     },
     "metadata": {},
     "output_type": "display_data"
    },
    {
     "data": {
      "image/png": "[encoded data removed]",
      "text/plain": [
       "<Figure size 640x480 with 1 Axes>"
      ]
     },
     "metadata": {},
     "output_type": "display_data"
    },
    {
     "data": {
      "image/png": "[encoded data removed]",
      "text/plain": [
       "<Figure size 640x480 with 1 Axes>"
      ]
     },
     "metadata": {},
     "output_type": "display_data"
    },
    {
     "data": {
      "image/png": "[encoded data removed]",
      "text/plain": [
       "<Figure size 640x480 with 1 Axes>"
      ]
     },
     "metadata": {},
     "output_type": "display_data"
    },
    {
     "data": {
      "image/png": "[encoded data removed]",
      "text/plain": [
       "<Figure size 640x480 with 1 Axes>"
      ]
     },
     "metadata": {},
     "output_type": "display_data"
    },
    {
     "data": {
      "image/png": "[encoded data removed]",
      "text/plain": [
       "<Figure size 640x480 with 1 Axes>"
      ]
     },
     "metadata": {},
     "output_type": "display_data"
    }
   ],
   "source": [
    "# Histogram describes the spread of data\n",
    "get_ipython().run_line_magic('matplotlib', 'inline')\n",
    "\n",
    "for i in dfm.columns:\n",
    "    plt.hist(x = dfm[i])\n",
    "    plt.title(\"histogram for\" + str(i))\n",
    "    plt.show()"
   ]
  },
  {
   "cell_type": "code",
   "execution_count": 141,
   "id": "00c0304d",
   "metadata": {},
   "outputs": [
    {
     "data": {
      "text/plain": [
       "((array([-3.45297476, -3.20602916, -3.06928934, ...,  3.06928934,\n",
       "          3.20602916,  3.45297476]),\n",
       "  array([0.0955, 0.0955, 0.0955, ..., 1.9175, 1.9175, 1.9175])),\n",
       " (0.3405588818482908, 1.0095615999999998, 0.9993114203847248))"
      ]
     },
     "execution_count": 141,
     "metadata": {},
     "output_type": "execute_result"
    },
    {
     "data": {
      "image/png": "[encoded data removed]",
      "text/plain": [
       "<Figure size 640x480 with 1 Axes>"
      ]
     },
     "metadata": {},
     "output_type": "display_data"
    }
   ],
   "source": [
    "# Normal Quantile-Quantile Plot - Helps in understanding the distribution of the data - Normal distribution or not\n",
    "\n",
    "import scipy.stats as stats\n",
    "import pylab\n",
    "\n",
    "# Checking whether data is normally distributed\n",
    "stats.probplot(dfm.Spindle_Vibration , dist = \"norm\", plot = pylab)\n"
   ]
  },
  {
   "cell_type": "code",
   "execution_count": 143,
   "id": "2fe41e9c",
   "metadata": {},
   "outputs": [
    {
     "name": "stderr",
     "output_type": "stream",
     "text": [
      "C:\\Users\\hp\\anaconda3\\anaconda latest\\Lib\\site-packages\\seaborn\\axisgrid.py:118: UserWarning: The figure layout has changed to tight\n",
      "  self._figure.tight_layout(*args, **kwargs)\n"
     ]
    },
    {
     "data": {
      "text/plain": [
       "<seaborn.axisgrid.FacetGrid at 0x1ccb0a69210>"
      ]
     },
     "execution_count": 143,
     "metadata": {},
     "output_type": "execute_result"
    },
    {
     "data": {
      "image/png": "[encoded data removed]",
      "text/plain": [
       "<Figure size 500x500 with 1 Axes>"
      ]
     },
     "metadata": {},
     "output_type": "display_data"
    }
   ],
   "source": [
    "sns.displot(dfm.Spindle_Vibration)"
   ]
  },
  {
   "cell_type": "code",
   "execution_count": 144,
   "id": "71b46417",
   "metadata": {},
   "outputs": [
    {
     "data": {
      "text/plain": [
       "<Axes: xlabel='Spindle_Vibration', ylabel='Density'>"
      ]
     },
     "execution_count": 144,
     "metadata": {},
     "output_type": "execute_result"
    },
    {
     "data": {
      "image/png": "[encoded data removed]",
      "text/plain": [
       "<Figure size 640x480 with 1 Axes>"
      ]
     },
     "metadata": {},
     "output_type": "display_data"
    }
   ],
   "source": [
    "sns.kdeplot(dfm.Spindle_Vibration)"
   ]
  },
  {
   "cell_type": "markdown",
   "id": "7e70c72d",
   "metadata": {},
   "source": [
    "### Bivariate Analysis"
   ]
  },
  {
   "cell_type": "code",
   "execution_count": 145,
   "id": "c14a6d82",
   "metadata": {},
   "outputs": [],
   "source": [
    "Corrmatrix = dfm.corr(method = \"pearson\")"
   ]
  },
  {
   "cell_type": "code",
   "execution_count": 146,
   "id": "09d9c2e7",
   "metadata": {},
   "outputs": [
    {
     "data": {
      "image/png": "[encoded data removed]",
      "text/plain": [
       "<Figure size 640x480 with 2 Axes>"
      ]
     },
     "metadata": {},
     "output_type": "display_data"
    }
   ],
   "source": [
    "sns.heatmap(Corrmatrix, xticklabels = Corrmatrix.columns, yticklabels = Corrmatrix.columns,cmap = \"coolwarm\")\n",
    "plt.title('Heat Map of Correlation Matrix')\n",
    "plt.tight_layout()\n",
    "plt.show()"
   ]
  },
  {
   "cell_type": "markdown",
   "id": "52cd7dcc",
   "metadata": {},
   "source": [
    "### 8 Normalization "
   ]
  },
  {
   "cell_type": "code",
   "execution_count": 151,
   "id": "d34dc03b",
   "metadata": {},
   "outputs": [],
   "source": [
    "from sklearn.preprocessing import MinMaxScaler"
   ]
  },
  {
   "cell_type": "code",
   "execution_count": 156,
   "id": "23bac388",
   "metadata": {},
   "outputs": [],
   "source": [
    "def norm(i):\n",
    "    x = (i - i.min()) / (i.max() - i.min())\n",
    "    return (x)"
   ]
  },
  {
   "cell_type": "code",
   "execution_count": 157,
   "id": "b66b9146",
   "metadata": {},
   "outputs": [
    {
     "data": {
      "text/html": [
       "<div>\n",
       "<style scoped>\n",
       "    .dataframe tbody tr th:only-of-type {\n",
       "        vertical-align: middle;\n",
       "    }\n",
       "\n",
       "    .dataframe tbody tr th {\n",
       "        vertical-align: top;\n",
       "    }\n",
       "\n",
       "    .dataframe thead th {\n",
       "        text-align: right;\n",
       "    }\n",
       "</style>\n",
       "<table border=\"1\" class=\"dataframe\">\n",
       "  <thead>\n",
       "    <tr style=\"text-align: right;\">\n",
       "      <th></th>\n",
       "      <th>Hydraulic_Pressure</th>\n",
       "      <th>Coolant_Pressure</th>\n",
       "      <th>Air_System_Pressure</th>\n",
       "      <th>Coolant_Temperature</th>\n",
       "      <th>Hydraulic_Oil_Temperature</th>\n",
       "      <th>Spindle_Bearing_Temperature</th>\n",
       "      <th>Spindle_Vibration</th>\n",
       "      <th>Tool_Vibration</th>\n",
       "      <th>Spindle_Speed</th>\n",
       "      <th>Voltage</th>\n",
       "      <th>Torque</th>\n",
       "      <th>Cutting</th>\n",
       "      <th>Downtime</th>\n",
       "    </tr>\n",
       "  </thead>\n",
       "  <tbody>\n",
       "    <tr>\n",
       "      <th>count</th>\n",
       "      <td>2500.000000</td>\n",
       "      <td>2500.000000</td>\n",
       "      <td>2500.000000</td>\n",
       "      <td>2500.000000</td>\n",
       "      <td>2500.000000</td>\n",
       "      <td>2500.000000</td>\n",
       "      <td>2500.000000</td>\n",
       "      <td>2500.000000</td>\n",
       "      <td>2500.000000</td>\n",
       "      <td>2500.00000</td>\n",
       "      <td>2500.000000</td>\n",
       "      <td>2500.000000</td>\n",
       "      <td>2500.000000</td>\n",
       "    </tr>\n",
       "    <tr>\n",
       "      <th>mean</th>\n",
       "      <td>101.396922</td>\n",
       "      <td>4.944639</td>\n",
       "      <td>6.499273</td>\n",
       "      <td>18.552595</td>\n",
       "      <td>47.615840</td>\n",
       "      <td>35.064880</td>\n",
       "      <td>1.009562</td>\n",
       "      <td>25.416382</td>\n",
       "      <td>20305.438850</td>\n",
       "      <td>349.02660</td>\n",
       "      <td>25.232097</td>\n",
       "      <td>2.782544</td>\n",
       "      <td>0.494000</td>\n",
       "    </tr>\n",
       "    <tr>\n",
       "      <th>std</th>\n",
       "      <td>30.207168</td>\n",
       "      <td>0.975384</td>\n",
       "      <td>0.403102</td>\n",
       "      <td>8.406946</td>\n",
       "      <td>3.724763</td>\n",
       "      <td>3.738285</td>\n",
       "      <td>0.340440</td>\n",
       "      <td>6.383892</td>\n",
       "      <td>3727.292644</td>\n",
       "      <td>45.17229</td>\n",
       "      <td>6.070588</td>\n",
       "      <td>0.615824</td>\n",
       "      <td>0.500064</td>\n",
       "    </tr>\n",
       "    <tr>\n",
       "      <th>min</th>\n",
       "      <td>1.725190</td>\n",
       "      <td>2.897989</td>\n",
       "      <td>5.381671</td>\n",
       "      <td>4.100000</td>\n",
       "      <td>37.600000</td>\n",
       "      <td>24.850000</td>\n",
       "      <td>0.095500</td>\n",
       "      <td>8.100000</td>\n",
       "      <td>11062.875000</td>\n",
       "      <td>227.50000</td>\n",
       "      <td>8.489080</td>\n",
       "      <td>1.800000</td>\n",
       "      <td>0.000000</td>\n",
       "    </tr>\n",
       "    <tr>\n",
       "      <th>25%</th>\n",
       "      <td>76.470719</td>\n",
       "      <td>4.466685</td>\n",
       "      <td>6.220267</td>\n",
       "      <td>10.475000</td>\n",
       "      <td>45.100000</td>\n",
       "      <td>32.500000</td>\n",
       "      <td>0.778750</td>\n",
       "      <td>21.099750</td>\n",
       "      <td>17919.000000</td>\n",
       "      <td>319.00000</td>\n",
       "      <td>21.704037</td>\n",
       "      <td>2.250000</td>\n",
       "      <td>0.000000</td>\n",
       "    </tr>\n",
       "    <tr>\n",
       "      <th>50%</th>\n",
       "      <td>96.763486</td>\n",
       "      <td>4.939960</td>\n",
       "      <td>6.505191</td>\n",
       "      <td>21.200000</td>\n",
       "      <td>47.700000</td>\n",
       "      <td>35.100000</td>\n",
       "      <td>1.008000</td>\n",
       "      <td>25.455000</td>\n",
       "      <td>20137.500000</td>\n",
       "      <td>349.00000</td>\n",
       "      <td>24.647736</td>\n",
       "      <td>2.780000</td>\n",
       "      <td>0.000000</td>\n",
       "    </tr>\n",
       "    <tr>\n",
       "      <th>75%</th>\n",
       "      <td>126.301071</td>\n",
       "      <td>5.512482</td>\n",
       "      <td>6.779330</td>\n",
       "      <td>25.600000</td>\n",
       "      <td>50.100000</td>\n",
       "      <td>37.600000</td>\n",
       "      <td>1.234250</td>\n",
       "      <td>29.766250</td>\n",
       "      <td>22489.750000</td>\n",
       "      <td>380.00000</td>\n",
       "      <td>30.514008</td>\n",
       "      <td>3.262500</td>\n",
       "      <td>1.000000</td>\n",
       "    </tr>\n",
       "    <tr>\n",
       "      <th>max</th>\n",
       "      <td>191.000000</td>\n",
       "      <td>7.081178</td>\n",
       "      <td>7.617925</td>\n",
       "      <td>48.287500</td>\n",
       "      <td>57.600000</td>\n",
       "      <td>45.250000</td>\n",
       "      <td>1.917500</td>\n",
       "      <td>42.766000</td>\n",
       "      <td>27957.000000</td>\n",
       "      <td>471.50000</td>\n",
       "      <td>43.728965</td>\n",
       "      <td>3.930000</td>\n",
       "      <td>1.000000</td>\n",
       "    </tr>\n",
       "  </tbody>\n",
       "</table>\n",
       "</div>"
      ],
      "text/plain": [
       "       Hydraulic_Pressure  Coolant_Pressure  Air_System_Pressure  \\\n",
       "count         2500.000000       2500.000000          2500.000000   \n",
       "mean           101.396922          4.944639             6.499273   \n",
       "std             30.207168          0.975384             0.403102   \n",
       "min              1.725190          2.897989             5.381671   \n",
       "25%             76.470719          4.466685             6.220267   \n",
       "50%             96.763486          4.939960             6.505191   \n",
       "75%            126.301071          5.512482             6.779330   \n",
       "max            191.000000          7.081178             7.617925   \n",
       "\n",
       "       Coolant_Temperature  Hydraulic_Oil_Temperature  \\\n",
       "count          2500.000000                2500.000000   \n",
       "mean             18.552595                  47.615840   \n",
       "std               8.406946                   3.724763   \n",
       "min               4.100000                  37.600000   \n",
       "25%              10.475000                  45.100000   \n",
       "50%              21.200000                  47.700000   \n",
       "75%              25.600000                  50.100000   \n",
       "max              48.287500                  57.600000   \n",
       "\n",
       "       Spindle_Bearing_Temperature  Spindle_Vibration  Tool_Vibration  \\\n",
       "count                  2500.000000        2500.000000     2500.000000   \n",
       "mean                     35.064880           1.009562       25.416382   \n",
       "std                       3.738285           0.340440        6.383892   \n",
       "min                      24.850000           0.095500        8.100000   \n",
       "25%                      32.500000           0.778750       21.099750   \n",
       "50%                      35.100000           1.008000       25.455000   \n",
       "75%                      37.600000           1.234250       29.766250   \n",
       "max                      45.250000           1.917500       42.766000   \n",
       "\n",
       "       Spindle_Speed     Voltage       Torque      Cutting     Downtime  \n",
       "count    2500.000000  2500.00000  2500.000000  2500.000000  2500.000000  \n",
       "mean    20305.438850   349.02660    25.232097     2.782544     0.494000  \n",
       "std      3727.292644    45.17229     6.070588     0.615824     0.500064  \n",
       "min     11062.875000   227.50000     8.489080     1.800000     0.000000  \n",
       "25%     17919.000000   319.00000    21.704037     2.250000     0.000000  \n",
       "50%     20137.500000   349.00000    24.647736     2.780000     0.000000  \n",
       "75%     22489.750000   380.00000    30.514008     3.262500     1.000000  \n",
       "max     27957.000000   471.50000    43.728965     3.930000     1.000000  "
      ]
     },
     "execution_count": 157,
     "metadata": {},
     "output_type": "execute_result"
    }
   ],
   "source": [
    "dfm.describe()"
   ]
  },
  {
   "cell_type": "code",
   "execution_count": 158,
   "id": "68b087d5",
   "metadata": {},
   "outputs": [
    {
     "data": {
      "text/html": [
       "<div>\n",
       "<style scoped>\n",
       "    .dataframe tbody tr th:only-of-type {\n",
       "        vertical-align: middle;\n",
       "    }\n",
       "\n",
       "    .dataframe tbody tr th {\n",
       "        vertical-align: top;\n",
       "    }\n",
       "\n",
       "    .dataframe thead th {\n",
       "        text-align: right;\n",
       "    }\n",
       "</style>\n",
       "<table border=\"1\" class=\"dataframe\">\n",
       "  <thead>\n",
       "    <tr style=\"text-align: right;\">\n",
       "      <th></th>\n",
       "      <th>Hydraulic_Pressure</th>\n",
       "      <th>Coolant_Pressure</th>\n",
       "      <th>Air_System_Pressure</th>\n",
       "      <th>Coolant_Temperature</th>\n",
       "      <th>Hydraulic_Oil_Temperature</th>\n",
       "      <th>Spindle_Bearing_Temperature</th>\n",
       "      <th>Spindle_Vibration</th>\n",
       "      <th>Tool_Vibration</th>\n",
       "      <th>Spindle_Speed</th>\n",
       "      <th>Voltage</th>\n",
       "      <th>Torque</th>\n",
       "      <th>Cutting</th>\n",
       "      <th>Downtime</th>\n",
       "    </tr>\n",
       "  </thead>\n",
       "  <tbody>\n",
       "    <tr>\n",
       "      <th>count</th>\n",
       "      <td>2500.000000</td>\n",
       "      <td>2500.000000</td>\n",
       "      <td>2500.000000</td>\n",
       "      <td>2500.000000</td>\n",
       "      <td>2500.000000</td>\n",
       "      <td>2500.000000</td>\n",
       "      <td>2500.000000</td>\n",
       "      <td>2500.000000</td>\n",
       "      <td>2500.000000</td>\n",
       "      <td>2500.000000</td>\n",
       "      <td>2500.000000</td>\n",
       "      <td>2500.000000</td>\n",
       "      <td>2500.000000</td>\n",
       "    </tr>\n",
       "    <tr>\n",
       "      <th>mean</th>\n",
       "      <td>0.526598</td>\n",
       "      <td>0.489256</td>\n",
       "      <td>0.499765</td>\n",
       "      <td>0.327074</td>\n",
       "      <td>0.500792</td>\n",
       "      <td>0.500729</td>\n",
       "      <td>0.501680</td>\n",
       "      <td>0.499521</td>\n",
       "      <td>0.547087</td>\n",
       "      <td>0.498060</td>\n",
       "      <td>0.475116</td>\n",
       "      <td>0.461288</td>\n",
       "      <td>0.494000</td>\n",
       "    </tr>\n",
       "    <tr>\n",
       "      <th>std</th>\n",
       "      <td>0.159594</td>\n",
       "      <td>0.233168</td>\n",
       "      <td>0.180258</td>\n",
       "      <td>0.190256</td>\n",
       "      <td>0.186238</td>\n",
       "      <td>0.183249</td>\n",
       "      <td>0.186849</td>\n",
       "      <td>0.184154</td>\n",
       "      <td>0.220627</td>\n",
       "      <td>0.185132</td>\n",
       "      <td>0.172265</td>\n",
       "      <td>0.289119</td>\n",
       "      <td>0.500064</td>\n",
       "    </tr>\n",
       "    <tr>\n",
       "      <th>min</th>\n",
       "      <td>0.000000</td>\n",
       "      <td>0.000000</td>\n",
       "      <td>0.000000</td>\n",
       "      <td>0.000000</td>\n",
       "      <td>0.000000</td>\n",
       "      <td>0.000000</td>\n",
       "      <td>0.000000</td>\n",
       "      <td>0.000000</td>\n",
       "      <td>0.000000</td>\n",
       "      <td>0.000000</td>\n",
       "      <td>0.000000</td>\n",
       "      <td>0.000000</td>\n",
       "      <td>0.000000</td>\n",
       "    </tr>\n",
       "    <tr>\n",
       "      <th>25%</th>\n",
       "      <td>0.394905</td>\n",
       "      <td>0.375000</td>\n",
       "      <td>0.375000</td>\n",
       "      <td>0.144272</td>\n",
       "      <td>0.375000</td>\n",
       "      <td>0.375000</td>\n",
       "      <td>0.375000</td>\n",
       "      <td>0.375000</td>\n",
       "      <td>0.405829</td>\n",
       "      <td>0.375000</td>\n",
       "      <td>0.375000</td>\n",
       "      <td>0.211268</td>\n",
       "      <td>0.000000</td>\n",
       "    </tr>\n",
       "    <tr>\n",
       "      <th>50%</th>\n",
       "      <td>0.502118</td>\n",
       "      <td>0.488137</td>\n",
       "      <td>0.502412</td>\n",
       "      <td>0.386987</td>\n",
       "      <td>0.505000</td>\n",
       "      <td>0.502451</td>\n",
       "      <td>0.500823</td>\n",
       "      <td>0.500635</td>\n",
       "      <td>0.537147</td>\n",
       "      <td>0.497951</td>\n",
       "      <td>0.458533</td>\n",
       "      <td>0.460094</td>\n",
       "      <td>0.000000</td>\n",
       "    </tr>\n",
       "    <tr>\n",
       "      <th>75%</th>\n",
       "      <td>0.658175</td>\n",
       "      <td>0.625000</td>\n",
       "      <td>0.625000</td>\n",
       "      <td>0.486563</td>\n",
       "      <td>0.625000</td>\n",
       "      <td>0.625000</td>\n",
       "      <td>0.625000</td>\n",
       "      <td>0.625000</td>\n",
       "      <td>0.676382</td>\n",
       "      <td>0.625000</td>\n",
       "      <td>0.625000</td>\n",
       "      <td>0.686620</td>\n",
       "      <td>1.000000</td>\n",
       "    </tr>\n",
       "    <tr>\n",
       "      <th>max</th>\n",
       "      <td>1.000000</td>\n",
       "      <td>1.000000</td>\n",
       "      <td>1.000000</td>\n",
       "      <td>1.000000</td>\n",
       "      <td>1.000000</td>\n",
       "      <td>1.000000</td>\n",
       "      <td>1.000000</td>\n",
       "      <td>1.000000</td>\n",
       "      <td>1.000000</td>\n",
       "      <td>1.000000</td>\n",
       "      <td>1.000000</td>\n",
       "      <td>1.000000</td>\n",
       "      <td>1.000000</td>\n",
       "    </tr>\n",
       "  </tbody>\n",
       "</table>\n",
       "</div>"
      ],
      "text/plain": [
       "       Hydraulic_Pressure  Coolant_Pressure  Air_System_Pressure  \\\n",
       "count         2500.000000       2500.000000          2500.000000   \n",
       "mean             0.526598          0.489256             0.499765   \n",
       "std              0.159594          0.233168             0.180258   \n",
       "min              0.000000          0.000000             0.000000   \n",
       "25%              0.394905          0.375000             0.375000   \n",
       "50%              0.502118          0.488137             0.502412   \n",
       "75%              0.658175          0.625000             0.625000   \n",
       "max              1.000000          1.000000             1.000000   \n",
       "\n",
       "       Coolant_Temperature  Hydraulic_Oil_Temperature  \\\n",
       "count          2500.000000                2500.000000   \n",
       "mean              0.327074                   0.500792   \n",
       "std               0.190256                   0.186238   \n",
       "min               0.000000                   0.000000   \n",
       "25%               0.144272                   0.375000   \n",
       "50%               0.386987                   0.505000   \n",
       "75%               0.486563                   0.625000   \n",
       "max               1.000000                   1.000000   \n",
       "\n",
       "       Spindle_Bearing_Temperature  Spindle_Vibration  Tool_Vibration  \\\n",
       "count                  2500.000000        2500.000000     2500.000000   \n",
       "mean                      0.500729           0.501680        0.499521   \n",
       "std                       0.183249           0.186849        0.184154   \n",
       "min                       0.000000           0.000000        0.000000   \n",
       "25%                       0.375000           0.375000        0.375000   \n",
       "50%                       0.502451           0.500823        0.500635   \n",
       "75%                       0.625000           0.625000        0.625000   \n",
       "max                       1.000000           1.000000        1.000000   \n",
       "\n",
       "       Spindle_Speed      Voltage       Torque      Cutting     Downtime  \n",
       "count    2500.000000  2500.000000  2500.000000  2500.000000  2500.000000  \n",
       "mean        0.547087     0.498060     0.475116     0.461288     0.494000  \n",
       "std         0.220627     0.185132     0.172265     0.289119     0.500064  \n",
       "min         0.000000     0.000000     0.000000     0.000000     0.000000  \n",
       "25%         0.405829     0.375000     0.375000     0.211268     0.000000  \n",
       "50%         0.537147     0.497951     0.458533     0.460094     0.000000  \n",
       "75%         0.676382     0.625000     0.625000     0.686620     1.000000  \n",
       "max         1.000000     1.000000     1.000000     1.000000     1.000000  "
      ]
     },
     "execution_count": 158,
     "metadata": {},
     "output_type": "execute_result"
    }
   ],
   "source": [
    "dfm = norm(dfm.iloc[:,:])\n",
    "dfm.describe()"
   ]
  },
  {
   "cell_type": "markdown",
   "id": "d47eb58a",
   "metadata": {},
   "source": [
    "### Data Seperation"
   ]
  },
  {
   "cell_type": "code",
   "execution_count": 159,
   "id": "3cac1480",
   "metadata": {},
   "outputs": [],
   "source": [
    "X = dfm.drop(\"Downtime\", axis=1)"
   ]
  },
  {
   "cell_type": "code",
   "execution_count": 160,
   "id": "725aa992",
   "metadata": {},
   "outputs": [
    {
     "data": {
      "text/html": [
       "<div>\n",
       "<style scoped>\n",
       "    .dataframe tbody tr th:only-of-type {\n",
       "        vertical-align: middle;\n",
       "    }\n",
       "\n",
       "    .dataframe tbody tr th {\n",
       "        vertical-align: top;\n",
       "    }\n",
       "\n",
       "    .dataframe thead th {\n",
       "        text-align: right;\n",
       "    }\n",
       "</style>\n",
       "<table border=\"1\" class=\"dataframe\">\n",
       "  <thead>\n",
       "    <tr style=\"text-align: right;\">\n",
       "      <th></th>\n",
       "      <th>Hydraulic_Pressure</th>\n",
       "      <th>Coolant_Pressure</th>\n",
       "      <th>Air_System_Pressure</th>\n",
       "      <th>Coolant_Temperature</th>\n",
       "      <th>Hydraulic_Oil_Temperature</th>\n",
       "      <th>Spindle_Bearing_Temperature</th>\n",
       "      <th>Spindle_Vibration</th>\n",
       "      <th>Tool_Vibration</th>\n",
       "      <th>Spindle_Speed</th>\n",
       "      <th>Voltage</th>\n",
       "      <th>Torque</th>\n",
       "      <th>Cutting</th>\n",
       "    </tr>\n",
       "  </thead>\n",
       "  <tbody>\n",
       "    <tr>\n",
       "      <th>0</th>\n",
       "      <td>0.366213</td>\n",
       "      <td>0.964751</td>\n",
       "      <td>0.403931</td>\n",
       "      <td>0.486563</td>\n",
       "      <td>0.420</td>\n",
       "      <td>0.419118</td>\n",
       "      <td>0.656147</td>\n",
       "      <td>0.530549</td>\n",
       "      <td>0.877768</td>\n",
       "      <td>0.440574</td>\n",
       "      <td>0.441722</td>\n",
       "      <td>0.835681</td>\n",
       "    </tr>\n",
       "    <tr>\n",
       "      <th>1</th>\n",
       "      <td>0.653044</td>\n",
       "      <td>0.487404</td>\n",
       "      <td>0.364476</td>\n",
       "      <td>0.706082</td>\n",
       "      <td>0.490</td>\n",
       "      <td>0.477941</td>\n",
       "      <td>0.706092</td>\n",
       "      <td>0.495413</td>\n",
       "      <td>0.520484</td>\n",
       "      <td>0.575820</td>\n",
       "      <td>0.162140</td>\n",
       "      <td>0.413146</td>\n",
       "    </tr>\n",
       "    <tr>\n",
       "      <th>2</th>\n",
       "      <td>0.366635</td>\n",
       "      <td>0.942206</td>\n",
       "      <td>0.569603</td>\n",
       "      <td>0.203678</td>\n",
       "      <td>0.155</td>\n",
       "      <td>0.399510</td>\n",
       "      <td>0.671515</td>\n",
       "      <td>0.649282</td>\n",
       "      <td>0.520188</td>\n",
       "      <td>0.399590</td>\n",
       "      <td>0.441550</td>\n",
       "      <td>0.821596</td>\n",
       "    </tr>\n",
       "    <tr>\n",
       "      <th>3</th>\n",
       "      <td>0.727064</td>\n",
       "      <td>0.400745</td>\n",
       "      <td>0.527097</td>\n",
       "      <td>0.459406</td>\n",
       "      <td>0.330</td>\n",
       "      <td>0.772059</td>\n",
       "      <td>0.286773</td>\n",
       "      <td>0.654561</td>\n",
       "      <td>0.437911</td>\n",
       "      <td>0.543033</td>\n",
       "      <td>0.492934</td>\n",
       "      <td>0.821596</td>\n",
       "    </tr>\n",
       "    <tr>\n",
       "      <th>4</th>\n",
       "      <td>0.310579</td>\n",
       "      <td>0.955059</td>\n",
       "      <td>0.339660</td>\n",
       "      <td>0.000000</td>\n",
       "      <td>0.485</td>\n",
       "      <td>0.321078</td>\n",
       "      <td>0.487102</td>\n",
       "      <td>0.502394</td>\n",
       "      <td>0.915296</td>\n",
       "      <td>0.518443</td>\n",
       "      <td>0.483168</td>\n",
       "      <td>0.821596</td>\n",
       "    </tr>\n",
       "    <tr>\n",
       "      <th>...</th>\n",
       "      <td>...</td>\n",
       "      <td>...</td>\n",
       "      <td>...</td>\n",
       "      <td>...</td>\n",
       "      <td>...</td>\n",
       "      <td>...</td>\n",
       "      <td>...</td>\n",
       "      <td>...</td>\n",
       "      <td>...</td>\n",
       "      <td>...</td>\n",
       "      <td>...</td>\n",
       "      <td>...</td>\n",
       "    </tr>\n",
       "    <tr>\n",
       "      <th>2495</th>\n",
       "      <td>0.586398</td>\n",
       "      <td>0.555293</td>\n",
       "      <td>0.364421</td>\n",
       "      <td>0.411881</td>\n",
       "      <td>0.560</td>\n",
       "      <td>0.605392</td>\n",
       "      <td>0.447036</td>\n",
       "      <td>0.351411</td>\n",
       "      <td>0.586661</td>\n",
       "      <td>0.223361</td>\n",
       "      <td>0.405011</td>\n",
       "      <td>0.431925</td>\n",
       "    </tr>\n",
       "    <tr>\n",
       "      <th>2496</th>\n",
       "      <td>0.535525</td>\n",
       "      <td>0.553142</td>\n",
       "      <td>0.757061</td>\n",
       "      <td>0.176521</td>\n",
       "      <td>0.535</td>\n",
       "      <td>0.325980</td>\n",
       "      <td>0.554610</td>\n",
       "      <td>0.767553</td>\n",
       "      <td>0.585300</td>\n",
       "      <td>0.375000</td>\n",
       "      <td>0.405720</td>\n",
       "      <td>0.535211</td>\n",
       "    </tr>\n",
       "    <tr>\n",
       "      <th>2497</th>\n",
       "      <td>0.617715</td>\n",
       "      <td>0.553406</td>\n",
       "      <td>0.513527</td>\n",
       "      <td>0.009052</td>\n",
       "      <td>0.615</td>\n",
       "      <td>0.556373</td>\n",
       "      <td>0.105653</td>\n",
       "      <td>0.251774</td>\n",
       "      <td>0.585714</td>\n",
       "      <td>0.440574</td>\n",
       "      <td>0.405504</td>\n",
       "      <td>0.460094</td>\n",
       "    </tr>\n",
       "    <tr>\n",
       "      <th>2498</th>\n",
       "      <td>0.761489</td>\n",
       "      <td>0.552160</td>\n",
       "      <td>0.456560</td>\n",
       "      <td>0.183310</td>\n",
       "      <td>0.345</td>\n",
       "      <td>0.355392</td>\n",
       "      <td>0.493688</td>\n",
       "      <td>0.530722</td>\n",
       "      <td>0.584353</td>\n",
       "      <td>0.608607</td>\n",
       "      <td>0.406214</td>\n",
       "      <td>0.464789</td>\n",
       "    </tr>\n",
       "    <tr>\n",
       "      <th>2499</th>\n",
       "      <td>0.501730</td>\n",
       "      <td>0.726389</td>\n",
       "      <td>0.772580</td>\n",
       "      <td>0.581612</td>\n",
       "      <td>0.780</td>\n",
       "      <td>0.556373</td>\n",
       "      <td>0.408617</td>\n",
       "      <td>0.677321</td>\n",
       "      <td>0.740679</td>\n",
       "      <td>0.645492</td>\n",
       "      <td>0.451774</td>\n",
       "      <td>0.821596</td>\n",
       "    </tr>\n",
       "  </tbody>\n",
       "</table>\n",
       "<p>2500 rows × 12 columns</p>\n",
       "</div>"
      ],
      "text/plain": [
       "      Hydraulic_Pressure  Coolant_Pressure  Air_System_Pressure  \\\n",
       "0               0.366213          0.964751             0.403931   \n",
       "1               0.653044          0.487404             0.364476   \n",
       "2               0.366635          0.942206             0.569603   \n",
       "3               0.727064          0.400745             0.527097   \n",
       "4               0.310579          0.955059             0.339660   \n",
       "...                  ...               ...                  ...   \n",
       "2495            0.586398          0.555293             0.364421   \n",
       "2496            0.535525          0.553142             0.757061   \n",
       "2497            0.617715          0.553406             0.513527   \n",
       "2498            0.761489          0.552160             0.456560   \n",
       "2499            0.501730          0.726389             0.772580   \n",
       "\n",
       "      Coolant_Temperature  Hydraulic_Oil_Temperature  \\\n",
       "0                0.486563                      0.420   \n",
       "1                0.706082                      0.490   \n",
       "2                0.203678                      0.155   \n",
       "3                0.459406                      0.330   \n",
       "4                0.000000                      0.485   \n",
       "...                   ...                        ...   \n",
       "2495             0.411881                      0.560   \n",
       "2496             0.176521                      0.535   \n",
       "2497             0.009052                      0.615   \n",
       "2498             0.183310                      0.345   \n",
       "2499             0.581612                      0.780   \n",
       "\n",
       "      Spindle_Bearing_Temperature  Spindle_Vibration  Tool_Vibration  \\\n",
       "0                        0.419118           0.656147        0.530549   \n",
       "1                        0.477941           0.706092        0.495413   \n",
       "2                        0.399510           0.671515        0.649282   \n",
       "3                        0.772059           0.286773        0.654561   \n",
       "4                        0.321078           0.487102        0.502394   \n",
       "...                           ...                ...             ...   \n",
       "2495                     0.605392           0.447036        0.351411   \n",
       "2496                     0.325980           0.554610        0.767553   \n",
       "2497                     0.556373           0.105653        0.251774   \n",
       "2498                     0.355392           0.493688        0.530722   \n",
       "2499                     0.556373           0.408617        0.677321   \n",
       "\n",
       "      Spindle_Speed   Voltage    Torque   Cutting  \n",
       "0          0.877768  0.440574  0.441722  0.835681  \n",
       "1          0.520484  0.575820  0.162140  0.413146  \n",
       "2          0.520188  0.399590  0.441550  0.821596  \n",
       "3          0.437911  0.543033  0.492934  0.821596  \n",
       "4          0.915296  0.518443  0.483168  0.821596  \n",
       "...             ...       ...       ...       ...  \n",
       "2495       0.586661  0.223361  0.405011  0.431925  \n",
       "2496       0.585300  0.375000  0.405720  0.535211  \n",
       "2497       0.585714  0.440574  0.405504  0.460094  \n",
       "2498       0.584353  0.608607  0.406214  0.464789  \n",
       "2499       0.740679  0.645492  0.451774  0.821596  \n",
       "\n",
       "[2500 rows x 12 columns]"
      ]
     },
     "execution_count": 160,
     "metadata": {},
     "output_type": "execute_result"
    }
   ],
   "source": [
    "X"
   ]
  },
  {
   "cell_type": "code",
   "execution_count": 161,
   "id": "38bf1601",
   "metadata": {},
   "outputs": [],
   "source": [
    "y = dfm[\"Downtime\"]"
   ]
  },
  {
   "cell_type": "code",
   "execution_count": 162,
   "id": "7aa85010",
   "metadata": {},
   "outputs": [
    {
     "data": {
      "text/plain": [
       "0       0.0\n",
       "1       0.0\n",
       "2       0.0\n",
       "3       0.0\n",
       "4       0.0\n",
       "       ... \n",
       "2495    1.0\n",
       "2496    1.0\n",
       "2497    1.0\n",
       "2498    1.0\n",
       "2499    0.0\n",
       "Name: Downtime, Length: 2500, dtype: float64"
      ]
     },
     "execution_count": 162,
     "metadata": {},
     "output_type": "execute_result"
    }
   ],
   "source": [
    "y"
   ]
  },
  {
   "cell_type": "markdown",
   "id": "9929795e",
   "metadata": {},
   "source": [
    "### Splitting"
   ]
  },
  {
   "cell_type": "code",
   "execution_count": 163,
   "id": "4cad7243",
   "metadata": {},
   "outputs": [],
   "source": [
    "from sklearn.model_selection import train_test_splitain_test_split"
   ]
  },
  {
   "cell_type": "code",
   "execution_count": 164,
   "id": "d65945c2",
   "metadata": {},
   "outputs": [],
   "source": [
    "X_train, X_test, y_train, y_test = train_test_split(X , y, test_size=0.20, random_state=0)"
   ]
  },
  {
   "cell_type": "code",
   "execution_count": 165,
   "id": "f3dbb87f",
   "metadata": {},
   "outputs": [
    {
     "data": {
      "text/plain": [
       "((2500, 12), (2000, 12), (500, 12))"
      ]
     },
     "execution_count": 165,
     "metadata": {},
     "output_type": "execute_result"
    }
   ],
   "source": [
    "X.shape, X_train.shape, X_test.shape"
   ]
  },
  {
   "cell_type": "code",
   "execution_count": 166,
   "id": "73b5855b",
   "metadata": {},
   "outputs": [
    {
     "data": {
      "text/plain": [
       "((2500,), (2000,), (500,))"
      ]
     },
     "execution_count": 166,
     "metadata": {},
     "output_type": "execute_result"
    }
   ],
   "source": [
    "y.shape, y_train.shape, y_test.shape"
   ]
  },
  {
   "cell_type": "markdown",
   "id": "cc5750a3",
   "metadata": {},
   "source": [
    "### Decision Tree"
   ]
  },
  {
   "cell_type": "code",
   "execution_count": 167,
   "id": "5c5a987d",
   "metadata": {},
   "outputs": [],
   "source": [
    "from sklearn.tree import DecisionTreeClassifier"
   ]
  },
  {
   "cell_type": "code",
   "execution_count": 177,
   "id": "8bad7deb",
   "metadata": {},
   "outputs": [],
   "source": [
    "dtm = DecisionTreeClassifier(criterion = \"entropy\")"
   ]
  },
  {
   "cell_type": "code",
   "execution_count": 178,
   "id": "41d3663e",
   "metadata": {},
   "outputs": [
    {
     "data": {
      "text/html": [
       "<style>#sk-container-id-8 {color: black;}#sk-container-id-8 pre{padding: 0;}#sk-container-id-8 div.sk-toggleable {background-color: white;}#sk-container-id-8 label.sk-toggleable__label {cursor: pointer;display: block;width: 100%;margin-bottom: 0;padding: 0.3em;box-sizing: border-box;text-align: center;}#sk-container-id-8 label.sk-toggleable__label-arrow:before {content: \"▸\";float: left;margin-right: 0.25em;color: #696969;}#sk-container-id-8 label.sk-toggleable__label-arrow:hover:before {color: black;}#sk-container-id-8 div.sk-estimator:hover label.sk-toggleable__label-arrow:before {color: black;}#sk-container-id-8 div.sk-toggleable__content {max-height: 0;max-width: 0;overflow: hidden;text-align: left;background-color: #f0f8ff;}#sk-container-id-8 div.sk-toggleable__content pre {margin: 0.2em;color: black;border-radius: 0.25em;background-color: #f0f8ff;}#sk-container-id-8 input.sk-toggleable__control:checked~div.sk-toggleable__content {max-height: 200px;max-width: 100%;overflow: auto;}#sk-container-id-8 input.sk-toggleable__control:checked~label.sk-toggleable__label-arrow:before {content: \"▾\";}#sk-container-id-8 div.sk-estimator input.sk-toggleable__control:checked~label.sk-toggleable__label {background-color: #d4ebff;}#sk-container-id-8 div.sk-label input.sk-toggleable__control:checked~label.sk-toggleable__label {background-color: #d4ebff;}#sk-container-id-8 input.sk-hidden--visually {border: 0;clip: rect(1px 1px 1px 1px);clip: rect(1px, 1px, 1px, 1px);height: 1px;margin: -1px;overflow: hidden;padding: 0;position: absolute;width: 1px;}#sk-container-id-8 div.sk-estimator {font-family: monospace;background-color: #f0f8ff;border: 1px dotted black;border-radius: 0.25em;box-sizing: border-box;margin-bottom: 0.5em;}#sk-container-id-8 div.sk-estimator:hover {background-color: #d4ebff;}#sk-container-id-8 div.sk-parallel-item::after {content: \"\";width: 100%;border-bottom: 1px solid gray;flex-grow: 1;}#sk-container-id-8 div.sk-label:hover label.sk-toggleable__label {background-color: #d4ebff;}#sk-container-id-8 div.sk-serial::before {content: \"\";position: absolute;border-left: 1px solid gray;box-sizing: border-box;top: 0;bottom: 0;left: 50%;z-index: 0;}#sk-container-id-8 div.sk-serial {display: flex;flex-direction: column;align-items: center;background-color: white;padding-right: 0.2em;padding-left: 0.2em;position: relative;}#sk-container-id-8 div.sk-item {position: relative;z-index: 1;}#sk-container-id-8 div.sk-parallel {display: flex;align-items: stretch;justify-content: center;background-color: white;position: relative;}#sk-container-id-8 div.sk-item::before, #sk-container-id-8 div.sk-parallel-item::before {content: \"\";position: absolute;border-left: 1px solid gray;box-sizing: border-box;top: 0;bottom: 0;left: 50%;z-index: -1;}#sk-container-id-8 div.sk-parallel-item {display: flex;flex-direction: column;z-index: 1;position: relative;background-color: white;}#sk-container-id-8 div.sk-parallel-item:first-child::after {align-self: flex-end;width: 50%;}#sk-container-id-8 div.sk-parallel-item:last-child::after {align-self: flex-start;width: 50%;}#sk-container-id-8 div.sk-parallel-item:only-child::after {width: 0;}#sk-container-id-8 div.sk-dashed-wrapped {border: 1px dashed gray;margin: 0 0.4em 0.5em 0.4em;box-sizing: border-box;padding-bottom: 0.4em;background-color: white;}#sk-container-id-8 div.sk-label label {font-family: monospace;font-weight: bold;display: inline-block;line-height: 1.2em;}#sk-container-id-8 div.sk-label-container {text-align: center;}#sk-container-id-8 div.sk-container {/* jupyter's `normalize.less` sets `[hidden] { display: none; }` but bootstrap.min.css set `[hidden] { display: none !important; }` so we also need the `!important` here to be able to override the default hidden behavior on the sphinx rendered scikit-learn.org. See: https://github.com/scikit-learn/scikit-learn/issues/21755 */display: inline-block !important;position: relative;}#sk-container-id-8 div.sk-text-repr-fallback {display: none;}</style><div id=\"sk-container-id-8\" class=\"sk-top-container\"><div class=\"sk-text-repr-fallback\"><pre>DecisionTreeClassifier(criterion=&#x27;entropy&#x27;)</pre><b>In a Jupyter environment, please rerun this cell to show the HTML representation or trust the notebook. <br />On GitHub, the HTML representation is unable to render, please try loading this page with nbviewer.org.</b></div><div class=\"sk-container\" hidden><div class=\"sk-item\"><div class=\"sk-estimator sk-toggleable\"><input class=\"sk-toggleable__control sk-hidden--visually\" id=\"sk-estimator-id-8\" type=\"checkbox\" checked><label for=\"sk-estimator-id-8\" class=\"sk-toggleable__label sk-toggleable__label-arrow\">DecisionTreeClassifier</label><div class=\"sk-toggleable__content\"><pre>DecisionTreeClassifier(criterion=&#x27;entropy&#x27;)</pre></div></div></div></div></div>"
      ],
      "text/plain": [
       "DecisionTreeClassifier(criterion='entropy')"
      ]
     },
     "execution_count": 178,
     "metadata": {},
     "output_type": "execute_result"
    }
   ],
   "source": [
    "dtm"
   ]
  },
  {
   "cell_type": "code",
   "execution_count": 182,
   "id": "3d36ff60",
   "metadata": {},
   "outputs": [
    {
     "data": {
      "text/html": [
       "<style>#sk-container-id-10 {color: black;}#sk-container-id-10 pre{padding: 0;}#sk-container-id-10 div.sk-toggleable {background-color: white;}#sk-container-id-10 label.sk-toggleable__label {cursor: pointer;display: block;width: 100%;margin-bottom: 0;padding: 0.3em;box-sizing: border-box;text-align: center;}#sk-container-id-10 label.sk-toggleable__label-arrow:before {content: \"▸\";float: left;margin-right: 0.25em;color: #696969;}#sk-container-id-10 label.sk-toggleable__label-arrow:hover:before {color: black;}#sk-container-id-10 div.sk-estimator:hover label.sk-toggleable__label-arrow:before {color: black;}#sk-container-id-10 div.sk-toggleable__content {max-height: 0;max-width: 0;overflow: hidden;text-align: left;background-color: #f0f8ff;}#sk-container-id-10 div.sk-toggleable__content pre {margin: 0.2em;color: black;border-radius: 0.25em;background-color: #f0f8ff;}#sk-container-id-10 input.sk-toggleable__control:checked~div.sk-toggleable__content {max-height: 200px;max-width: 100%;overflow: auto;}#sk-container-id-10 input.sk-toggleable__control:checked~label.sk-toggleable__label-arrow:before {content: \"▾\";}#sk-container-id-10 div.sk-estimator input.sk-toggleable__control:checked~label.sk-toggleable__label {background-color: #d4ebff;}#sk-container-id-10 div.sk-label input.sk-toggleable__control:checked~label.sk-toggleable__label {background-color: #d4ebff;}#sk-container-id-10 input.sk-hidden--visually {border: 0;clip: rect(1px 1px 1px 1px);clip: rect(1px, 1px, 1px, 1px);height: 1px;margin: -1px;overflow: hidden;padding: 0;position: absolute;width: 1px;}#sk-container-id-10 div.sk-estimator {font-family: monospace;background-color: #f0f8ff;border: 1px dotted black;border-radius: 0.25em;box-sizing: border-box;margin-bottom: 0.5em;}#sk-container-id-10 div.sk-estimator:hover {background-color: #d4ebff;}#sk-container-id-10 div.sk-parallel-item::after {content: \"\";width: 100%;border-bottom: 1px solid gray;flex-grow: 1;}#sk-container-id-10 div.sk-label:hover label.sk-toggleable__label {background-color: #d4ebff;}#sk-container-id-10 div.sk-serial::before {content: \"\";position: absolute;border-left: 1px solid gray;box-sizing: border-box;top: 0;bottom: 0;left: 50%;z-index: 0;}#sk-container-id-10 div.sk-serial {display: flex;flex-direction: column;align-items: center;background-color: white;padding-right: 0.2em;padding-left: 0.2em;position: relative;}#sk-container-id-10 div.sk-item {position: relative;z-index: 1;}#sk-container-id-10 div.sk-parallel {display: flex;align-items: stretch;justify-content: center;background-color: white;position: relative;}#sk-container-id-10 div.sk-item::before, #sk-container-id-10 div.sk-parallel-item::before {content: \"\";position: absolute;border-left: 1px solid gray;box-sizing: border-box;top: 0;bottom: 0;left: 50%;z-index: -1;}#sk-container-id-10 div.sk-parallel-item {display: flex;flex-direction: column;z-index: 1;position: relative;background-color: white;}#sk-container-id-10 div.sk-parallel-item:first-child::after {align-self: flex-end;width: 50%;}#sk-container-id-10 div.sk-parallel-item:last-child::after {align-self: flex-start;width: 50%;}#sk-container-id-10 div.sk-parallel-item:only-child::after {width: 0;}#sk-container-id-10 div.sk-dashed-wrapped {border: 1px dashed gray;margin: 0 0.4em 0.5em 0.4em;box-sizing: border-box;padding-bottom: 0.4em;background-color: white;}#sk-container-id-10 div.sk-label label {font-family: monospace;font-weight: bold;display: inline-block;line-height: 1.2em;}#sk-container-id-10 div.sk-label-container {text-align: center;}#sk-container-id-10 div.sk-container {/* jupyter's `normalize.less` sets `[hidden] { display: none; }` but bootstrap.min.css set `[hidden] { display: none !important; }` so we also need the `!important` here to be able to override the default hidden behavior on the sphinx rendered scikit-learn.org. See: https://github.com/scikit-learn/scikit-learn/issues/21755 */display: inline-block !important;position: relative;}#sk-container-id-10 div.sk-text-repr-fallback {display: none;}</style><div id=\"sk-container-id-10\" class=\"sk-top-container\"><div class=\"sk-text-repr-fallback\"><pre>DecisionTreeClassifier(criterion=&#x27;entropy&#x27;)</pre><b>In a Jupyter environment, please rerun this cell to show the HTML representation or trust the notebook. <br />On GitHub, the HTML representation is unable to render, please try loading this page with nbviewer.org.</b></div><div class=\"sk-container\" hidden><div class=\"sk-item\"><div class=\"sk-estimator sk-toggleable\"><input class=\"sk-toggleable__control sk-hidden--visually\" id=\"sk-estimator-id-10\" type=\"checkbox\" checked><label for=\"sk-estimator-id-10\" class=\"sk-toggleable__label sk-toggleable__label-arrow\">DecisionTreeClassifier</label><div class=\"sk-toggleable__content\"><pre>DecisionTreeClassifier(criterion=&#x27;entropy&#x27;)</pre></div></div></div></div></div>"
      ],
      "text/plain": [
       "DecisionTreeClassifier(criterion='entropy')"
      ]
     },
     "execution_count": 182,
     "metadata": {},
     "output_type": "execute_result"
    }
   ],
   "source": [
    "dtm.fit(X_train, y_train)"
   ]
  },
  {
   "cell_type": "code",
   "execution_count": 183,
   "id": "2023ff86",
   "metadata": {},
   "outputs": [],
   "source": [
    "ypred = dtm.predict(X_train)"
   ]
  },
  {
   "cell_type": "code",
   "execution_count": 185,
   "id": "55c0c27e",
   "metadata": {},
   "outputs": [
    {
     "data": {
      "text/plain": [
       "array([0., 0., 1., ..., 0., 0., 1.])"
      ]
     },
     "execution_count": 185,
     "metadata": {},
     "output_type": "execute_result"
    }
   ],
   "source": [
    "ypred"
   ]
  },
  {
   "cell_type": "code",
   "execution_count": 188,
   "id": "7143dbc6",
   "metadata": {},
   "outputs": [],
   "source": [
    "ypred1 = dtm.predict(X_test)"
   ]
  },
  {
   "cell_type": "code",
   "execution_count": 189,
   "id": "98ef2c92",
   "metadata": {},
   "outputs": [
    {
     "data": {
      "text/plain": [
       "array([1., 0., 0., 1., 1., 1., 1., 1., 0., 0., 0., 0., 0., 0., 1., 0., 0.,\n",
       "       1., 0., 1., 1., 0., 0., 0., 0., 0., 0., 1., 0., 1., 0., 0., 0., 1.,\n",
       "       1., 1., 1., 1., 0., 0., 0., 1., 1., 1., 0., 1., 0., 0., 1., 1., 1.,\n",
       "       1., 0., 0., 1., 0., 0., 0., 1., 0., 1., 0., 1., 1., 0., 1., 1., 1.,\n",
       "       0., 0., 0., 1., 0., 0., 1., 0., 0., 0., 0., 0., 0., 0., 0., 0., 1.,\n",
       "       0., 0., 1., 0., 1., 1., 0., 1., 0., 0., 1., 1., 1., 0., 1., 0., 1.,\n",
       "       1., 1., 1., 1., 0., 1., 1., 0., 1., 0., 1., 0., 1., 0., 1., 0., 1.,\n",
       "       0., 0., 0., 1., 1., 1., 0., 0., 1., 1., 1., 0., 1., 0., 1., 1., 1.,\n",
       "       1., 1., 0., 0., 1., 1., 0., 0., 1., 0., 1., 0., 0., 0., 0., 0., 0.,\n",
       "       0., 0., 1., 0., 0., 0., 0., 1., 0., 0., 0., 1., 1., 0., 0., 1., 1.,\n",
       "       1., 1., 0., 0., 1., 1., 1., 1., 1., 1., 0., 0., 0., 1., 1., 0., 1.,\n",
       "       0., 1., 0., 1., 1., 1., 0., 1., 0., 0., 1., 1., 0., 0., 0., 1., 1.,\n",
       "       0., 0., 0., 0., 0., 0., 0., 0., 1., 0., 1., 1., 1., 0., 0., 1., 0.,\n",
       "       1., 0., 0., 0., 0., 1., 1., 1., 0., 1., 1., 1., 1., 1., 1., 1., 0.,\n",
       "       1., 1., 1., 1., 0., 0., 0., 1., 1., 1., 1., 0., 0., 1., 1., 0., 1.,\n",
       "       0., 1., 1., 0., 1., 0., 0., 0., 0., 1., 0., 1., 0., 0., 0., 0., 1.,\n",
       "       1., 1., 0., 1., 0., 0., 0., 1., 1., 1., 0., 1., 1., 1., 1., 1., 1.,\n",
       "       0., 0., 1., 1., 0., 0., 1., 1., 1., 0., 0., 0., 1., 1., 0., 1., 1.,\n",
       "       0., 1., 0., 0., 0., 1., 0., 0., 1., 0., 0., 1., 1., 0., 1., 1., 0.,\n",
       "       1., 1., 0., 0., 0., 0., 1., 1., 0., 1., 1., 1., 0., 0., 0., 1., 0.,\n",
       "       1., 0., 1., 0., 0., 0., 1., 0., 0., 0., 1., 1., 1., 1., 0., 1., 1.,\n",
       "       1., 0., 0., 0., 0., 1., 0., 1., 1., 0., 0., 0., 1., 1., 0., 1., 1.,\n",
       "       1., 0., 1., 1., 0., 0., 1., 1., 0., 0., 0., 0., 0., 1., 0., 1., 1.,\n",
       "       1., 0., 1., 1., 0., 0., 1., 1., 1., 1., 1., 1., 1., 1., 0., 0., 1.,\n",
       "       0., 1., 1., 0., 0., 0., 0., 0., 1., 0., 0., 0., 1., 1., 0., 0., 0.,\n",
       "       1., 1., 1., 1., 0., 0., 1., 0., 0., 1., 1., 1., 1., 1., 1., 0., 1.,\n",
       "       1., 1., 1., 0., 0., 0., 1., 1., 0., 1., 1., 1., 1., 1., 0., 1., 0.,\n",
       "       0., 0., 0., 0., 1., 0., 0., 0., 0., 0., 1., 1., 1., 0., 0., 1., 1.,\n",
       "       1., 1., 1., 0., 1., 0., 1., 0., 0., 0., 1., 1., 1., 0., 0., 1., 0.,\n",
       "       1., 0., 1., 0., 1., 0., 0.])"
      ]
     },
     "execution_count": 189,
     "metadata": {},
     "output_type": "execute_result"
    }
   ],
   "source": [
    "ypred1"
   ]
  },
  {
   "cell_type": "code",
   "execution_count": 191,
   "id": "5588621a",
   "metadata": {},
   "outputs": [],
   "source": [
    "from sklearn.metrics import accuracy_score"
   ]
  },
  {
   "cell_type": "code",
   "execution_count": 194,
   "id": "0bfae7f8",
   "metadata": {},
   "outputs": [
    {
     "data": {
      "text/plain": [
       "(1.0, 0.982)"
      ]
     },
     "execution_count": 194,
     "metadata": {},
     "output_type": "execute_result"
    }
   ],
   "source": [
    "train_accuracy = accuracy_score(y_train, ypred)\n",
    "test_accuracy = accuracy_score(y_test, ypred1)\n",
    "train_accuracy, test_accuracy"
   ]
  },
  {
   "cell_type": "code",
   "execution_count": 197,
   "id": "2238cf12",
   "metadata": {},
   "outputs": [],
   "source": [
    "from sklearn.metrics import classification_report"
   ]
  },
  {
   "cell_type": "code",
   "execution_count": 198,
   "id": "f5babb34",
   "metadata": {},
   "outputs": [
    {
     "name": "stdout",
     "output_type": "stream",
     "text": [
      "              precision    recall  f1-score   support\n",
      "\n",
      "         0.0       0.98      0.99      0.98       250\n",
      "         1.0       0.99      0.98      0.98       250\n",
      "\n",
      "    accuracy                           0.98       500\n",
      "   macro avg       0.98      0.98      0.98       500\n",
      "weighted avg       0.98      0.98      0.98       500\n",
      "\n"
     ]
    }
   ],
   "source": [
    "yt2_pred = dtm.predict(X_test)\n",
    "classification_test = classification_report(yt2_pred, y_test)\n",
    "print(classification_test)"
   ]
  },
  {
   "cell_type": "code",
   "execution_count": 199,
   "id": "1bf67cc5",
   "metadata": {},
   "outputs": [],
   "source": [
    "import pickle, joblib"
   ]
  },
  {
   "cell_type": "code",
   "execution_count": 200,
   "id": "8486a7a1",
   "metadata": {},
   "outputs": [],
   "source": [
    "pickle.dump(dtm, open('dtm.pkl', 'wb'))"
   ]
  },
  {
   "cell_type": "markdown",
   "id": "8adfb6fa",
   "metadata": {},
   "source": [
    "### Random Forest "
   ]
  },
  {
   "cell_type": "code",
   "execution_count": 201,
   "id": "318fd387",
   "metadata": {},
   "outputs": [],
   "source": [
    "from sklearn.ensemble import RandomForestClassifier"
   ]
  },
  {
   "cell_type": "code",
   "execution_count": 202,
   "id": "03271c49",
   "metadata": {},
   "outputs": [],
   "source": [
    "rfc = RandomForestClassifier(n_estimators=500, n_jobs = -1, random_state=42)"
   ]
  },
  {
   "cell_type": "code",
   "execution_count": 206,
   "id": "060edb53",
   "metadata": {},
   "outputs": [
    {
     "data": {
      "text/html": [
       "<style>#sk-container-id-12 {color: black;}#sk-container-id-12 pre{padding: 0;}#sk-container-id-12 div.sk-toggleable {background-color: white;}#sk-container-id-12 label.sk-toggleable__label {cursor: pointer;display: block;width: 100%;margin-bottom: 0;padding: 0.3em;box-sizing: border-box;text-align: center;}#sk-container-id-12 label.sk-toggleable__label-arrow:before {content: \"▸\";float: left;margin-right: 0.25em;color: #696969;}#sk-container-id-12 label.sk-toggleable__label-arrow:hover:before {color: black;}#sk-container-id-12 div.sk-estimator:hover label.sk-toggleable__label-arrow:before {color: black;}#sk-container-id-12 div.sk-toggleable__content {max-height: 0;max-width: 0;overflow: hidden;text-align: left;background-color: #f0f8ff;}#sk-container-id-12 div.sk-toggleable__content pre {margin: 0.2em;color: black;border-radius: 0.25em;background-color: #f0f8ff;}#sk-container-id-12 input.sk-toggleable__control:checked~div.sk-toggleable__content {max-height: 200px;max-width: 100%;overflow: auto;}#sk-container-id-12 input.sk-toggleable__control:checked~label.sk-toggleable__label-arrow:before {content: \"▾\";}#sk-container-id-12 div.sk-estimator input.sk-toggleable__control:checked~label.sk-toggleable__label {background-color: #d4ebff;}#sk-container-id-12 div.sk-label input.sk-toggleable__control:checked~label.sk-toggleable__label {background-color: #d4ebff;}#sk-container-id-12 input.sk-hidden--visually {border: 0;clip: rect(1px 1px 1px 1px);clip: rect(1px, 1px, 1px, 1px);height: 1px;margin: -1px;overflow: hidden;padding: 0;position: absolute;width: 1px;}#sk-container-id-12 div.sk-estimator {font-family: monospace;background-color: #f0f8ff;border: 1px dotted black;border-radius: 0.25em;box-sizing: border-box;margin-bottom: 0.5em;}#sk-container-id-12 div.sk-estimator:hover {background-color: #d4ebff;}#sk-container-id-12 div.sk-parallel-item::after {content: \"\";width: 100%;border-bottom: 1px solid gray;flex-grow: 1;}#sk-container-id-12 div.sk-label:hover label.sk-toggleable__label {background-color: #d4ebff;}#sk-container-id-12 div.sk-serial::before {content: \"\";position: absolute;border-left: 1px solid gray;box-sizing: border-box;top: 0;bottom: 0;left: 50%;z-index: 0;}#sk-container-id-12 div.sk-serial {display: flex;flex-direction: column;align-items: center;background-color: white;padding-right: 0.2em;padding-left: 0.2em;position: relative;}#sk-container-id-12 div.sk-item {position: relative;z-index: 1;}#sk-container-id-12 div.sk-parallel {display: flex;align-items: stretch;justify-content: center;background-color: white;position: relative;}#sk-container-id-12 div.sk-item::before, #sk-container-id-12 div.sk-parallel-item::before {content: \"\";position: absolute;border-left: 1px solid gray;box-sizing: border-box;top: 0;bottom: 0;left: 50%;z-index: -1;}#sk-container-id-12 div.sk-parallel-item {display: flex;flex-direction: column;z-index: 1;position: relative;background-color: white;}#sk-container-id-12 div.sk-parallel-item:first-child::after {align-self: flex-end;width: 50%;}#sk-container-id-12 div.sk-parallel-item:last-child::after {align-self: flex-start;width: 50%;}#sk-container-id-12 div.sk-parallel-item:only-child::after {width: 0;}#sk-container-id-12 div.sk-dashed-wrapped {border: 1px dashed gray;margin: 0 0.4em 0.5em 0.4em;box-sizing: border-box;padding-bottom: 0.4em;background-color: white;}#sk-container-id-12 div.sk-label label {font-family: monospace;font-weight: bold;display: inline-block;line-height: 1.2em;}#sk-container-id-12 div.sk-label-container {text-align: center;}#sk-container-id-12 div.sk-container {/* jupyter's `normalize.less` sets `[hidden] { display: none; }` but bootstrap.min.css set `[hidden] { display: none !important; }` so we also need the `!important` here to be able to override the default hidden behavior on the sphinx rendered scikit-learn.org. See: https://github.com/scikit-learn/scikit-learn/issues/21755 */display: inline-block !important;position: relative;}#sk-container-id-12 div.sk-text-repr-fallback {display: none;}</style><div id=\"sk-container-id-12\" class=\"sk-top-container\"><div class=\"sk-text-repr-fallback\"><pre>RandomForestClassifier(n_estimators=500, n_jobs=-1, random_state=42)</pre><b>In a Jupyter environment, please rerun this cell to show the HTML representation or trust the notebook. <br />On GitHub, the HTML representation is unable to render, please try loading this page with nbviewer.org.</b></div><div class=\"sk-container\" hidden><div class=\"sk-item\"><div class=\"sk-estimator sk-toggleable\"><input class=\"sk-toggleable__control sk-hidden--visually\" id=\"sk-estimator-id-12\" type=\"checkbox\" checked><label for=\"sk-estimator-id-12\" class=\"sk-toggleable__label sk-toggleable__label-arrow\">RandomForestClassifier</label><div class=\"sk-toggleable__content\"><pre>RandomForestClassifier(n_estimators=500, n_jobs=-1, random_state=42)</pre></div></div></div></div></div>"
      ],
      "text/plain": [
       "RandomForestClassifier(n_estimators=500, n_jobs=-1, random_state=42)"
      ]
     },
     "execution_count": 206,
     "metadata": {},
     "output_type": "execute_result"
    }
   ],
   "source": [
    "rfc"
   ]
  },
  {
   "cell_type": "code",
   "execution_count": 207,
   "id": "43af18c1",
   "metadata": {},
   "outputs": [
    {
     "data": {
      "text/html": [
       "<style>#sk-container-id-13 {color: black;}#sk-container-id-13 pre{padding: 0;}#sk-container-id-13 div.sk-toggleable {background-color: white;}#sk-container-id-13 label.sk-toggleable__label {cursor: pointer;display: block;width: 100%;margin-bottom: 0;padding: 0.3em;box-sizing: border-box;text-align: center;}#sk-container-id-13 label.sk-toggleable__label-arrow:before {content: \"▸\";float: left;margin-right: 0.25em;color: #696969;}#sk-container-id-13 label.sk-toggleable__label-arrow:hover:before {color: black;}#sk-container-id-13 div.sk-estimator:hover label.sk-toggleable__label-arrow:before {color: black;}#sk-container-id-13 div.sk-toggleable__content {max-height: 0;max-width: 0;overflow: hidden;text-align: left;background-color: #f0f8ff;}#sk-container-id-13 div.sk-toggleable__content pre {margin: 0.2em;color: black;border-radius: 0.25em;background-color: #f0f8ff;}#sk-container-id-13 input.sk-toggleable__control:checked~div.sk-toggleable__content {max-height: 200px;max-width: 100%;overflow: auto;}#sk-container-id-13 input.sk-toggleable__control:checked~label.sk-toggleable__label-arrow:before {content: \"▾\";}#sk-container-id-13 div.sk-estimator input.sk-toggleable__control:checked~label.sk-toggleable__label {background-color: #d4ebff;}#sk-container-id-13 div.sk-label input.sk-toggleable__control:checked~label.sk-toggleable__label {background-color: #d4ebff;}#sk-container-id-13 input.sk-hidden--visually {border: 0;clip: rect(1px 1px 1px 1px);clip: rect(1px, 1px, 1px, 1px);height: 1px;margin: -1px;overflow: hidden;padding: 0;position: absolute;width: 1px;}#sk-container-id-13 div.sk-estimator {font-family: monospace;background-color: #f0f8ff;border: 1px dotted black;border-radius: 0.25em;box-sizing: border-box;margin-bottom: 0.5em;}#sk-container-id-13 div.sk-estimator:hover {background-color: #d4ebff;}#sk-container-id-13 div.sk-parallel-item::after {content: \"\";width: 100%;border-bottom: 1px solid gray;flex-grow: 1;}#sk-container-id-13 div.sk-label:hover label.sk-toggleable__label {background-color: #d4ebff;}#sk-container-id-13 div.sk-serial::before {content: \"\";position: absolute;border-left: 1px solid gray;box-sizing: border-box;top: 0;bottom: 0;left: 50%;z-index: 0;}#sk-container-id-13 div.sk-serial {display: flex;flex-direction: column;align-items: center;background-color: white;padding-right: 0.2em;padding-left: 0.2em;position: relative;}#sk-container-id-13 div.sk-item {position: relative;z-index: 1;}#sk-container-id-13 div.sk-parallel {display: flex;align-items: stretch;justify-content: center;background-color: white;position: relative;}#sk-container-id-13 div.sk-item::before, #sk-container-id-13 div.sk-parallel-item::before {content: \"\";position: absolute;border-left: 1px solid gray;box-sizing: border-box;top: 0;bottom: 0;left: 50%;z-index: -1;}#sk-container-id-13 div.sk-parallel-item {display: flex;flex-direction: column;z-index: 1;position: relative;background-color: white;}#sk-container-id-13 div.sk-parallel-item:first-child::after {align-self: flex-end;width: 50%;}#sk-container-id-13 div.sk-parallel-item:last-child::after {align-self: flex-start;width: 50%;}#sk-container-id-13 div.sk-parallel-item:only-child::after {width: 0;}#sk-container-id-13 div.sk-dashed-wrapped {border: 1px dashed gray;margin: 0 0.4em 0.5em 0.4em;box-sizing: border-box;padding-bottom: 0.4em;background-color: white;}#sk-container-id-13 div.sk-label label {font-family: monospace;font-weight: bold;display: inline-block;line-height: 1.2em;}#sk-container-id-13 div.sk-label-container {text-align: center;}#sk-container-id-13 div.sk-container {/* jupyter's `normalize.less` sets `[hidden] { display: none; }` but bootstrap.min.css set `[hidden] { display: none !important; }` so we also need the `!important` here to be able to override the default hidden behavior on the sphinx rendered scikit-learn.org. See: https://github.com/scikit-learn/scikit-learn/issues/21755 */display: inline-block !important;position: relative;}#sk-container-id-13 div.sk-text-repr-fallback {display: none;}</style><div id=\"sk-container-id-13\" class=\"sk-top-container\"><div class=\"sk-text-repr-fallback\"><pre>RandomForestClassifier(n_estimators=500, n_jobs=-1, random_state=42)</pre><b>In a Jupyter environment, please rerun this cell to show the HTML representation or trust the notebook. <br />On GitHub, the HTML representation is unable to render, please try loading this page with nbviewer.org.</b></div><div class=\"sk-container\" hidden><div class=\"sk-item\"><div class=\"sk-estimator sk-toggleable\"><input class=\"sk-toggleable__control sk-hidden--visually\" id=\"sk-estimator-id-13\" type=\"checkbox\" checked><label for=\"sk-estimator-id-13\" class=\"sk-toggleable__label sk-toggleable__label-arrow\">RandomForestClassifier</label><div class=\"sk-toggleable__content\"><pre>RandomForestClassifier(n_estimators=500, n_jobs=-1, random_state=42)</pre></div></div></div></div></div>"
      ],
      "text/plain": [
       "RandomForestClassifier(n_estimators=500, n_jobs=-1, random_state=42)"
      ]
     },
     "execution_count": 207,
     "metadata": {},
     "output_type": "execute_result"
    }
   ],
   "source": [
    "rfc.fit(X_train, y_train)"
   ]
  },
  {
   "cell_type": "code",
   "execution_count": 208,
   "id": "19e06b2a",
   "metadata": {},
   "outputs": [
    {
     "data": {
      "text/plain": [
       "(1.0, 0.99)"
      ]
     },
     "execution_count": 208,
     "metadata": {},
     "output_type": "execute_result"
    }
   ],
   "source": [
    "train_accuracy = accuracy_score(y_train, rfc.predict(X_train))\n",
    "test_accuracy = accuracy_score(y_test, rfc.predict(X_test))\n",
    "train_accuracy, test_accuracy"
   ]
  },
  {
   "cell_type": "code",
   "execution_count": 209,
   "id": "a8aec212",
   "metadata": {},
   "outputs": [
    {
     "name": "stdout",
     "output_type": "stream",
     "text": [
      "              precision    recall  f1-score   support\n",
      "\n",
      "         0.0       0.98      1.00      0.99       248\n",
      "         1.0       1.00      0.98      0.99       252\n",
      "\n",
      "    accuracy                           0.99       500\n",
      "   macro avg       0.99      0.99      0.99       500\n",
      "weighted avg       0.99      0.99      0.99       500\n",
      "\n"
     ]
    }
   ],
   "source": [
    "yt3_pred = rfc.predict(X_test)\n",
    "classification_test = classification_report(yt3_pred, y_test)\n",
    "print(classification_test)"
   ]
  },
  {
   "cell_type": "code",
   "execution_count": 273,
   "id": "f7d47170",
   "metadata": {},
   "outputs": [],
   "source": [
    "pickle.dump(rfc, open('rfc.pkl', 'wb'))"
   ]
  },
  {
   "cell_type": "markdown",
   "id": "0585e9b4",
   "metadata": {},
   "source": [
    "### SVM (Support Vector Machine)"
   ]
  },
  {
   "cell_type": "code",
   "execution_count": 210,
   "id": "643eb6d1",
   "metadata": {},
   "outputs": [],
   "source": [
    "from sklearn.svm import SVC"
   ]
  },
  {
   "cell_type": "code",
   "execution_count": 211,
   "id": "8b54ceb5",
   "metadata": {},
   "outputs": [],
   "source": [
    "svc = SVC(kernel = \"rbf\", gamma = 1)"
   ]
  },
  {
   "cell_type": "code",
   "execution_count": 212,
   "id": "7a715b2c",
   "metadata": {},
   "outputs": [
    {
     "data": {
      "text/html": [
       "<style>#sk-container-id-14 {color: black;}#sk-container-id-14 pre{padding: 0;}#sk-container-id-14 div.sk-toggleable {background-color: white;}#sk-container-id-14 label.sk-toggleable__label {cursor: pointer;display: block;width: 100%;margin-bottom: 0;padding: 0.3em;box-sizing: border-box;text-align: center;}#sk-container-id-14 label.sk-toggleable__label-arrow:before {content: \"▸\";float: left;margin-right: 0.25em;color: #696969;}#sk-container-id-14 label.sk-toggleable__label-arrow:hover:before {color: black;}#sk-container-id-14 div.sk-estimator:hover label.sk-toggleable__label-arrow:before {color: black;}#sk-container-id-14 div.sk-toggleable__content {max-height: 0;max-width: 0;overflow: hidden;text-align: left;background-color: #f0f8ff;}#sk-container-id-14 div.sk-toggleable__content pre {margin: 0.2em;color: black;border-radius: 0.25em;background-color: #f0f8ff;}#sk-container-id-14 input.sk-toggleable__control:checked~div.sk-toggleable__content {max-height: 200px;max-width: 100%;overflow: auto;}#sk-container-id-14 input.sk-toggleable__control:checked~label.sk-toggleable__label-arrow:before {content: \"▾\";}#sk-container-id-14 div.sk-estimator input.sk-toggleable__control:checked~label.sk-toggleable__label {background-color: #d4ebff;}#sk-container-id-14 div.sk-label input.sk-toggleable__control:checked~label.sk-toggleable__label {background-color: #d4ebff;}#sk-container-id-14 input.sk-hidden--visually {border: 0;clip: rect(1px 1px 1px 1px);clip: rect(1px, 1px, 1px, 1px);height: 1px;margin: -1px;overflow: hidden;padding: 0;position: absolute;width: 1px;}#sk-container-id-14 div.sk-estimator {font-family: monospace;background-color: #f0f8ff;border: 1px dotted black;border-radius: 0.25em;box-sizing: border-box;margin-bottom: 0.5em;}#sk-container-id-14 div.sk-estimator:hover {background-color: #d4ebff;}#sk-container-id-14 div.sk-parallel-item::after {content: \"\";width: 100%;border-bottom: 1px solid gray;flex-grow: 1;}#sk-container-id-14 div.sk-label:hover label.sk-toggleable__label {background-color: #d4ebff;}#sk-container-id-14 div.sk-serial::before {content: \"\";position: absolute;border-left: 1px solid gray;box-sizing: border-box;top: 0;bottom: 0;left: 50%;z-index: 0;}#sk-container-id-14 div.sk-serial {display: flex;flex-direction: column;align-items: center;background-color: white;padding-right: 0.2em;padding-left: 0.2em;position: relative;}#sk-container-id-14 div.sk-item {position: relative;z-index: 1;}#sk-container-id-14 div.sk-parallel {display: flex;align-items: stretch;justify-content: center;background-color: white;position: relative;}#sk-container-id-14 div.sk-item::before, #sk-container-id-14 div.sk-parallel-item::before {content: \"\";position: absolute;border-left: 1px solid gray;box-sizing: border-box;top: 0;bottom: 0;left: 50%;z-index: -1;}#sk-container-id-14 div.sk-parallel-item {display: flex;flex-direction: column;z-index: 1;position: relative;background-color: white;}#sk-container-id-14 div.sk-parallel-item:first-child::after {align-self: flex-end;width: 50%;}#sk-container-id-14 div.sk-parallel-item:last-child::after {align-self: flex-start;width: 50%;}#sk-container-id-14 div.sk-parallel-item:only-child::after {width: 0;}#sk-container-id-14 div.sk-dashed-wrapped {border: 1px dashed gray;margin: 0 0.4em 0.5em 0.4em;box-sizing: border-box;padding-bottom: 0.4em;background-color: white;}#sk-container-id-14 div.sk-label label {font-family: monospace;font-weight: bold;display: inline-block;line-height: 1.2em;}#sk-container-id-14 div.sk-label-container {text-align: center;}#sk-container-id-14 div.sk-container {/* jupyter's `normalize.less` sets `[hidden] { display: none; }` but bootstrap.min.css set `[hidden] { display: none !important; }` so we also need the `!important` here to be able to override the default hidden behavior on the sphinx rendered scikit-learn.org. See: https://github.com/scikit-learn/scikit-learn/issues/21755 */display: inline-block !important;position: relative;}#sk-container-id-14 div.sk-text-repr-fallback {display: none;}</style><div id=\"sk-container-id-14\" class=\"sk-top-container\"><div class=\"sk-text-repr-fallback\"><pre>SVC(gamma=1)</pre><b>In a Jupyter environment, please rerun this cell to show the HTML representation or trust the notebook. <br />On GitHub, the HTML representation is unable to render, please try loading this page with nbviewer.org.</b></div><div class=\"sk-container\" hidden><div class=\"sk-item\"><div class=\"sk-estimator sk-toggleable\"><input class=\"sk-toggleable__control sk-hidden--visually\" id=\"sk-estimator-id-14\" type=\"checkbox\" checked><label for=\"sk-estimator-id-14\" class=\"sk-toggleable__label sk-toggleable__label-arrow\">SVC</label><div class=\"sk-toggleable__content\"><pre>SVC(gamma=1)</pre></div></div></div></div></div>"
      ],
      "text/plain": [
       "SVC(gamma=1)"
      ]
     },
     "execution_count": 212,
     "metadata": {},
     "output_type": "execute_result"
    }
   ],
   "source": [
    "svc"
   ]
  },
  {
   "cell_type": "code",
   "execution_count": 214,
   "id": "f10db2a8",
   "metadata": {},
   "outputs": [
    {
     "data": {
      "text/html": [
       "<style>#sk-container-id-15 {color: black;}#sk-container-id-15 pre{padding: 0;}#sk-container-id-15 div.sk-toggleable {background-color: white;}#sk-container-id-15 label.sk-toggleable__label {cursor: pointer;display: block;width: 100%;margin-bottom: 0;padding: 0.3em;box-sizing: border-box;text-align: center;}#sk-container-id-15 label.sk-toggleable__label-arrow:before {content: \"▸\";float: left;margin-right: 0.25em;color: #696969;}#sk-container-id-15 label.sk-toggleable__label-arrow:hover:before {color: black;}#sk-container-id-15 div.sk-estimator:hover label.sk-toggleable__label-arrow:before {color: black;}#sk-container-id-15 div.sk-toggleable__content {max-height: 0;max-width: 0;overflow: hidden;text-align: left;background-color: #f0f8ff;}#sk-container-id-15 div.sk-toggleable__content pre {margin: 0.2em;color: black;border-radius: 0.25em;background-color: #f0f8ff;}#sk-container-id-15 input.sk-toggleable__control:checked~div.sk-toggleable__content {max-height: 200px;max-width: 100%;overflow: auto;}#sk-container-id-15 input.sk-toggleable__control:checked~label.sk-toggleable__label-arrow:before {content: \"▾\";}#sk-container-id-15 div.sk-estimator input.sk-toggleable__control:checked~label.sk-toggleable__label {background-color: #d4ebff;}#sk-container-id-15 div.sk-label input.sk-toggleable__control:checked~label.sk-toggleable__label {background-color: #d4ebff;}#sk-container-id-15 input.sk-hidden--visually {border: 0;clip: rect(1px 1px 1px 1px);clip: rect(1px, 1px, 1px, 1px);height: 1px;margin: -1px;overflow: hidden;padding: 0;position: absolute;width: 1px;}#sk-container-id-15 div.sk-estimator {font-family: monospace;background-color: #f0f8ff;border: 1px dotted black;border-radius: 0.25em;box-sizing: border-box;margin-bottom: 0.5em;}#sk-container-id-15 div.sk-estimator:hover {background-color: #d4ebff;}#sk-container-id-15 div.sk-parallel-item::after {content: \"\";width: 100%;border-bottom: 1px solid gray;flex-grow: 1;}#sk-container-id-15 div.sk-label:hover label.sk-toggleable__label {background-color: #d4ebff;}#sk-container-id-15 div.sk-serial::before {content: \"\";position: absolute;border-left: 1px solid gray;box-sizing: border-box;top: 0;bottom: 0;left: 50%;z-index: 0;}#sk-container-id-15 div.sk-serial {display: flex;flex-direction: column;align-items: center;background-color: white;padding-right: 0.2em;padding-left: 0.2em;position: relative;}#sk-container-id-15 div.sk-item {position: relative;z-index: 1;}#sk-container-id-15 div.sk-parallel {display: flex;align-items: stretch;justify-content: center;background-color: white;position: relative;}#sk-container-id-15 div.sk-item::before, #sk-container-id-15 div.sk-parallel-item::before {content: \"\";position: absolute;border-left: 1px solid gray;box-sizing: border-box;top: 0;bottom: 0;left: 50%;z-index: -1;}#sk-container-id-15 div.sk-parallel-item {display: flex;flex-direction: column;z-index: 1;position: relative;background-color: white;}#sk-container-id-15 div.sk-parallel-item:first-child::after {align-self: flex-end;width: 50%;}#sk-container-id-15 div.sk-parallel-item:last-child::after {align-self: flex-start;width: 50%;}#sk-container-id-15 div.sk-parallel-item:only-child::after {width: 0;}#sk-container-id-15 div.sk-dashed-wrapped {border: 1px dashed gray;margin: 0 0.4em 0.5em 0.4em;box-sizing: border-box;padding-bottom: 0.4em;background-color: white;}#sk-container-id-15 div.sk-label label {font-family: monospace;font-weight: bold;display: inline-block;line-height: 1.2em;}#sk-container-id-15 div.sk-label-container {text-align: center;}#sk-container-id-15 div.sk-container {/* jupyter's `normalize.less` sets `[hidden] { display: none; }` but bootstrap.min.css set `[hidden] { display: none !important; }` so we also need the `!important` here to be able to override the default hidden behavior on the sphinx rendered scikit-learn.org. See: https://github.com/scikit-learn/scikit-learn/issues/21755 */display: inline-block !important;position: relative;}#sk-container-id-15 div.sk-text-repr-fallback {display: none;}</style><div id=\"sk-container-id-15\" class=\"sk-top-container\"><div class=\"sk-text-repr-fallback\"><pre>SVC(gamma=1)</pre><b>In a Jupyter environment, please rerun this cell to show the HTML representation or trust the notebook. <br />On GitHub, the HTML representation is unable to render, please try loading this page with nbviewer.org.</b></div><div class=\"sk-container\" hidden><div class=\"sk-item\"><div class=\"sk-estimator sk-toggleable\"><input class=\"sk-toggleable__control sk-hidden--visually\" id=\"sk-estimator-id-15\" type=\"checkbox\" checked><label for=\"sk-estimator-id-15\" class=\"sk-toggleable__label sk-toggleable__label-arrow\">SVC</label><div class=\"sk-toggleable__content\"><pre>SVC(gamma=1)</pre></div></div></div></div></div>"
      ],
      "text/plain": [
       "SVC(gamma=1)"
      ]
     },
     "execution_count": 214,
     "metadata": {},
     "output_type": "execute_result"
    }
   ],
   "source": [
    "svc.fit(X_train, y_train)"
   ]
  },
  {
   "cell_type": "code",
   "execution_count": 215,
   "id": "c7a6058e",
   "metadata": {},
   "outputs": [
    {
     "data": {
      "text/plain": [
       "(0.8975, 0.894)"
      ]
     },
     "execution_count": 215,
     "metadata": {},
     "output_type": "execute_result"
    }
   ],
   "source": [
    "train_accuracy = accuracy_score(y_train, svc.predict(X_train))\n",
    "test_accuracy = accuracy_score(y_test, svc.predict(X_test))\n",
    "train_accuracy, test_accuracy"
   ]
  },
  {
   "cell_type": "code",
   "execution_count": 216,
   "id": "31801c18",
   "metadata": {},
   "outputs": [
    {
     "name": "stdout",
     "output_type": "stream",
     "text": [
      "              precision    recall  f1-score   support\n",
      "\n",
      "         0.0       0.89      0.90      0.89       250\n",
      "         1.0       0.90      0.89      0.89       250\n",
      "\n",
      "    accuracy                           0.89       500\n",
      "   macro avg       0.89      0.89      0.89       500\n",
      "weighted avg       0.89      0.89      0.89       500\n",
      "\n"
     ]
    }
   ],
   "source": [
    "yt4_pred = svc.predict(X_test)\n",
    "classification_test = classification_report(yt4_pred, y_test)\n",
    "print(classification_test)"
   ]
  },
  {
   "cell_type": "markdown",
   "id": "35135513",
   "metadata": {},
   "source": [
    "### XG Boost Classifier"
   ]
  },
  {
   "cell_type": "code",
   "execution_count": 218,
   "id": "7f4c2dfd",
   "metadata": {},
   "outputs": [],
   "source": [
    "from xgboost import XGBClassifier"
   ]
  },
  {
   "cell_type": "code",
   "execution_count": 219,
   "id": "899c4fa1",
   "metadata": {},
   "outputs": [],
   "source": [
    "xgb = XGBClassifier(use_label_encoder=False, eval_metric='mlogloss')"
   ]
  },
  {
   "cell_type": "code",
   "execution_count": 221,
   "id": "7f0b8a2b",
   "metadata": {},
   "outputs": [
    {
     "data": {
      "text/html": [
       "<style>#sk-container-id-17 {color: black;}#sk-container-id-17 pre{padding: 0;}#sk-container-id-17 div.sk-toggleable {background-color: white;}#sk-container-id-17 label.sk-toggleable__label {cursor: pointer;display: block;width: 100%;margin-bottom: 0;padding: 0.3em;box-sizing: border-box;text-align: center;}#sk-container-id-17 label.sk-toggleable__label-arrow:before {content: \"▸\";float: left;margin-right: 0.25em;color: #696969;}#sk-container-id-17 label.sk-toggleable__label-arrow:hover:before {color: black;}#sk-container-id-17 div.sk-estimator:hover label.sk-toggleable__label-arrow:before {color: black;}#sk-container-id-17 div.sk-toggleable__content {max-height: 0;max-width: 0;overflow: hidden;text-align: left;background-color: #f0f8ff;}#sk-container-id-17 div.sk-toggleable__content pre {margin: 0.2em;color: black;border-radius: 0.25em;background-color: #f0f8ff;}#sk-container-id-17 input.sk-toggleable__control:checked~div.sk-toggleable__content {max-height: 200px;max-width: 100%;overflow: auto;}#sk-container-id-17 input.sk-toggleable__control:checked~label.sk-toggleable__label-arrow:before {content: \"▾\";}#sk-container-id-17 div.sk-estimator input.sk-toggleable__control:checked~label.sk-toggleable__label {background-color: #d4ebff;}#sk-container-id-17 div.sk-label input.sk-toggleable__control:checked~label.sk-toggleable__label {background-color: #d4ebff;}#sk-container-id-17 input.sk-hidden--visually {border: 0;clip: rect(1px 1px 1px 1px);clip: rect(1px, 1px, 1px, 1px);height: 1px;margin: -1px;overflow: hidden;padding: 0;position: absolute;width: 1px;}#sk-container-id-17 div.sk-estimator {font-family: monospace;background-color: #f0f8ff;border: 1px dotted black;border-radius: 0.25em;box-sizing: border-box;margin-bottom: 0.5em;}#sk-container-id-17 div.sk-estimator:hover {background-color: #d4ebff;}#sk-container-id-17 div.sk-parallel-item::after {content: \"\";width: 100%;border-bottom: 1px solid gray;flex-grow: 1;}#sk-container-id-17 div.sk-label:hover label.sk-toggleable__label {background-color: #d4ebff;}#sk-container-id-17 div.sk-serial::before {content: \"\";position: absolute;border-left: 1px solid gray;box-sizing: border-box;top: 0;bottom: 0;left: 50%;z-index: 0;}#sk-container-id-17 div.sk-serial {display: flex;flex-direction: column;align-items: center;background-color: white;padding-right: 0.2em;padding-left: 0.2em;position: relative;}#sk-container-id-17 div.sk-item {position: relative;z-index: 1;}#sk-container-id-17 div.sk-parallel {display: flex;align-items: stretch;justify-content: center;background-color: white;position: relative;}#sk-container-id-17 div.sk-item::before, #sk-container-id-17 div.sk-parallel-item::before {content: \"\";position: absolute;border-left: 1px solid gray;box-sizing: border-box;top: 0;bottom: 0;left: 50%;z-index: -1;}#sk-container-id-17 div.sk-parallel-item {display: flex;flex-direction: column;z-index: 1;position: relative;background-color: white;}#sk-container-id-17 div.sk-parallel-item:first-child::after {align-self: flex-end;width: 50%;}#sk-container-id-17 div.sk-parallel-item:last-child::after {align-self: flex-start;width: 50%;}#sk-container-id-17 div.sk-parallel-item:only-child::after {width: 0;}#sk-container-id-17 div.sk-dashed-wrapped {border: 1px dashed gray;margin: 0 0.4em 0.5em 0.4em;box-sizing: border-box;padding-bottom: 0.4em;background-color: white;}#sk-container-id-17 div.sk-label label {font-family: monospace;font-weight: bold;display: inline-block;line-height: 1.2em;}#sk-container-id-17 div.sk-label-container {text-align: center;}#sk-container-id-17 div.sk-container {/* jupyter's `normalize.less` sets `[hidden] { display: none; }` but bootstrap.min.css set `[hidden] { display: none !important; }` so we also need the `!important` here to be able to override the default hidden behavior on the sphinx rendered scikit-learn.org. See: https://github.com/scikit-learn/scikit-learn/issues/21755 */display: inline-block !important;position: relative;}#sk-container-id-17 div.sk-text-repr-fallback {display: none;}</style><div id=\"sk-container-id-17\" class=\"sk-top-container\"><div class=\"sk-text-repr-fallback\"><pre>XGBClassifier(base_score=None, booster=None, callbacks=None,\n",
       "              colsample_bylevel=None, colsample_bynode=None,\n",
       "              colsample_bytree=None, device=None, early_stopping_rounds=None,\n",
       "              enable_categorical=False, eval_metric=&#x27;mlogloss&#x27;,\n",
       "              feature_types=None, gamma=None, grow_policy=None,\n",
       "              importance_type=None, interaction_constraints=None,\n",
       "              learning_rate=None, max_bin=None, max_cat_threshold=None,\n",
       "              max_cat_to_onehot=None, max_delta_step=None, max_depth=None,\n",
       "              max_leaves=None, min_child_weight=None, missing=nan,\n",
       "              monotone_constraints=None, multi_strategy=None, n_estimators=None,\n",
       "              n_jobs=None, num_parallel_tree=None, random_state=None, ...)</pre><b>In a Jupyter environment, please rerun this cell to show the HTML representation or trust the notebook. <br />On GitHub, the HTML representation is unable to render, please try loading this page with nbviewer.org.</b></div><div class=\"sk-container\" hidden><div class=\"sk-item\"><div class=\"sk-estimator sk-toggleable\"><input class=\"sk-toggleable__control sk-hidden--visually\" id=\"sk-estimator-id-17\" type=\"checkbox\" checked><label for=\"sk-estimator-id-17\" class=\"sk-toggleable__label sk-toggleable__label-arrow\">XGBClassifier</label><div class=\"sk-toggleable__content\"><pre>XGBClassifier(base_score=None, booster=None, callbacks=None,\n",
       "              colsample_bylevel=None, colsample_bynode=None,\n",
       "              colsample_bytree=None, device=None, early_stopping_rounds=None,\n",
       "              enable_categorical=False, eval_metric=&#x27;mlogloss&#x27;,\n",
       "              feature_types=None, gamma=None, grow_policy=None,\n",
       "              importance_type=None, interaction_constraints=None,\n",
       "              learning_rate=None, max_bin=None, max_cat_threshold=None,\n",
       "              max_cat_to_onehot=None, max_delta_step=None, max_depth=None,\n",
       "              max_leaves=None, min_child_weight=None, missing=nan,\n",
       "              monotone_constraints=None, multi_strategy=None, n_estimators=None,\n",
       "              n_jobs=None, num_parallel_tree=None, random_state=None, ...)</pre></div></div></div></div></div>"
      ],
      "text/plain": [
       "XGBClassifier(base_score=None, booster=None, callbacks=None,\n",
       "              colsample_bylevel=None, colsample_bynode=None,\n",
       "              colsample_bytree=None, device=None, early_stopping_rounds=None,\n",
       "              enable_categorical=False, eval_metric='mlogloss',\n",
       "              feature_types=None, gamma=None, grow_policy=None,\n",
       "              importance_type=None, interaction_constraints=None,\n",
       "              learning_rate=None, max_bin=None, max_cat_threshold=None,\n",
       "              max_cat_to_onehot=None, max_delta_step=None, max_depth=None,\n",
       "              max_leaves=None, min_child_weight=None, missing=nan,\n",
       "              monotone_constraints=None, multi_strategy=None, n_estimators=None,\n",
       "              n_jobs=None, num_parallel_tree=None, random_state=None, ...)"
      ]
     },
     "execution_count": 221,
     "metadata": {},
     "output_type": "execute_result"
    }
   ],
   "source": [
    "xgb"
   ]
  },
  {
   "cell_type": "code",
   "execution_count": 222,
   "id": "33518205",
   "metadata": {},
   "outputs": [
    {
     "data": {
      "text/html": [
       "<style>#sk-container-id-18 {color: black;}#sk-container-id-18 pre{padding: 0;}#sk-container-id-18 div.sk-toggleable {background-color: white;}#sk-container-id-18 label.sk-toggleable__label {cursor: pointer;display: block;width: 100%;margin-bottom: 0;padding: 0.3em;box-sizing: border-box;text-align: center;}#sk-container-id-18 label.sk-toggleable__label-arrow:before {content: \"▸\";float: left;margin-right: 0.25em;color: #696969;}#sk-container-id-18 label.sk-toggleable__label-arrow:hover:before {color: black;}#sk-container-id-18 div.sk-estimator:hover label.sk-toggleable__label-arrow:before {color: black;}#sk-container-id-18 div.sk-toggleable__content {max-height: 0;max-width: 0;overflow: hidden;text-align: left;background-color: #f0f8ff;}#sk-container-id-18 div.sk-toggleable__content pre {margin: 0.2em;color: black;border-radius: 0.25em;background-color: #f0f8ff;}#sk-container-id-18 input.sk-toggleable__control:checked~div.sk-toggleable__content {max-height: 200px;max-width: 100%;overflow: auto;}#sk-container-id-18 input.sk-toggleable__control:checked~label.sk-toggleable__label-arrow:before {content: \"▾\";}#sk-container-id-18 div.sk-estimator input.sk-toggleable__control:checked~label.sk-toggleable__label {background-color: #d4ebff;}#sk-container-id-18 div.sk-label input.sk-toggleable__control:checked~label.sk-toggleable__label {background-color: #d4ebff;}#sk-container-id-18 input.sk-hidden--visually {border: 0;clip: rect(1px 1px 1px 1px);clip: rect(1px, 1px, 1px, 1px);height: 1px;margin: -1px;overflow: hidden;padding: 0;position: absolute;width: 1px;}#sk-container-id-18 div.sk-estimator {font-family: monospace;background-color: #f0f8ff;border: 1px dotted black;border-radius: 0.25em;box-sizing: border-box;margin-bottom: 0.5em;}#sk-container-id-18 div.sk-estimator:hover {background-color: #d4ebff;}#sk-container-id-18 div.sk-parallel-item::after {content: \"\";width: 100%;border-bottom: 1px solid gray;flex-grow: 1;}#sk-container-id-18 div.sk-label:hover label.sk-toggleable__label {background-color: #d4ebff;}#sk-container-id-18 div.sk-serial::before {content: \"\";position: absolute;border-left: 1px solid gray;box-sizing: border-box;top: 0;bottom: 0;left: 50%;z-index: 0;}#sk-container-id-18 div.sk-serial {display: flex;flex-direction: column;align-items: center;background-color: white;padding-right: 0.2em;padding-left: 0.2em;position: relative;}#sk-container-id-18 div.sk-item {position: relative;z-index: 1;}#sk-container-id-18 div.sk-parallel {display: flex;align-items: stretch;justify-content: center;background-color: white;position: relative;}#sk-container-id-18 div.sk-item::before, #sk-container-id-18 div.sk-parallel-item::before {content: \"\";position: absolute;border-left: 1px solid gray;box-sizing: border-box;top: 0;bottom: 0;left: 50%;z-index: -1;}#sk-container-id-18 div.sk-parallel-item {display: flex;flex-direction: column;z-index: 1;position: relative;background-color: white;}#sk-container-id-18 div.sk-parallel-item:first-child::after {align-self: flex-end;width: 50%;}#sk-container-id-18 div.sk-parallel-item:last-child::after {align-self: flex-start;width: 50%;}#sk-container-id-18 div.sk-parallel-item:only-child::after {width: 0;}#sk-container-id-18 div.sk-dashed-wrapped {border: 1px dashed gray;margin: 0 0.4em 0.5em 0.4em;box-sizing: border-box;padding-bottom: 0.4em;background-color: white;}#sk-container-id-18 div.sk-label label {font-family: monospace;font-weight: bold;display: inline-block;line-height: 1.2em;}#sk-container-id-18 div.sk-label-container {text-align: center;}#sk-container-id-18 div.sk-container {/* jupyter's `normalize.less` sets `[hidden] { display: none; }` but bootstrap.min.css set `[hidden] { display: none !important; }` so we also need the `!important` here to be able to override the default hidden behavior on the sphinx rendered scikit-learn.org. See: https://github.com/scikit-learn/scikit-learn/issues/21755 */display: inline-block !important;position: relative;}#sk-container-id-18 div.sk-text-repr-fallback {display: none;}</style><div id=\"sk-container-id-18\" class=\"sk-top-container\"><div class=\"sk-text-repr-fallback\"><pre>XGBClassifier(base_score=None, booster=None, callbacks=None,\n",
       "              colsample_bylevel=None, colsample_bynode=None,\n",
       "              colsample_bytree=None, device=None, early_stopping_rounds=None,\n",
       "              enable_categorical=False, eval_metric=&#x27;mlogloss&#x27;,\n",
       "              feature_types=None, gamma=None, grow_policy=None,\n",
       "              importance_type=None, interaction_constraints=None,\n",
       "              learning_rate=None, max_bin=None, max_cat_threshold=None,\n",
       "              max_cat_to_onehot=None, max_delta_step=None, max_depth=None,\n",
       "              max_leaves=None, min_child_weight=None, missing=nan,\n",
       "              monotone_constraints=None, multi_strategy=None, n_estimators=None,\n",
       "              n_jobs=None, num_parallel_tree=None, random_state=None, ...)</pre><b>In a Jupyter environment, please rerun this cell to show the HTML representation or trust the notebook. <br />On GitHub, the HTML representation is unable to render, please try loading this page with nbviewer.org.</b></div><div class=\"sk-container\" hidden><div class=\"sk-item\"><div class=\"sk-estimator sk-toggleable\"><input class=\"sk-toggleable__control sk-hidden--visually\" id=\"sk-estimator-id-18\" type=\"checkbox\" checked><label for=\"sk-estimator-id-18\" class=\"sk-toggleable__label sk-toggleable__label-arrow\">XGBClassifier</label><div class=\"sk-toggleable__content\"><pre>XGBClassifier(base_score=None, booster=None, callbacks=None,\n",
       "              colsample_bylevel=None, colsample_bynode=None,\n",
       "              colsample_bytree=None, device=None, early_stopping_rounds=None,\n",
       "              enable_categorical=False, eval_metric=&#x27;mlogloss&#x27;,\n",
       "              feature_types=None, gamma=None, grow_policy=None,\n",
       "              importance_type=None, interaction_constraints=None,\n",
       "              learning_rate=None, max_bin=None, max_cat_threshold=None,\n",
       "              max_cat_to_onehot=None, max_delta_step=None, max_depth=None,\n",
       "              max_leaves=None, min_child_weight=None, missing=nan,\n",
       "              monotone_constraints=None, multi_strategy=None, n_estimators=None,\n",
       "              n_jobs=None, num_parallel_tree=None, random_state=None, ...)</pre></div></div></div></div></div>"
      ],
      "text/plain": [
       "XGBClassifier(base_score=None, booster=None, callbacks=None,\n",
       "              colsample_bylevel=None, colsample_bynode=None,\n",
       "              colsample_bytree=None, device=None, early_stopping_rounds=None,\n",
       "              enable_categorical=False, eval_metric='mlogloss',\n",
       "              feature_types=None, gamma=None, grow_policy=None,\n",
       "              importance_type=None, interaction_constraints=None,\n",
       "              learning_rate=None, max_bin=None, max_cat_threshold=None,\n",
       "              max_cat_to_onehot=None, max_delta_step=None, max_depth=None,\n",
       "              max_leaves=None, min_child_weight=None, missing=nan,\n",
       "              monotone_constraints=None, multi_strategy=None, n_estimators=None,\n",
       "              n_jobs=None, num_parallel_tree=None, random_state=None, ...)"
      ]
     },
     "execution_count": 222,
     "metadata": {},
     "output_type": "execute_result"
    }
   ],
   "source": [
    "xgb.fit(X_train, y_train)"
   ]
  },
  {
   "cell_type": "code",
   "execution_count": 223,
   "id": "32d918cd",
   "metadata": {},
   "outputs": [
    {
     "data": {
      "text/plain": [
       "(1.0, 0.99)"
      ]
     },
     "execution_count": 223,
     "metadata": {},
     "output_type": "execute_result"
    }
   ],
   "source": [
    "train_accuracy = accuracy_score(y_train, xgb.predict(X_train))\n",
    "test_accuracy = accuracy_score(y_test, xgb.predict(X_test))\n",
    "train_accuracy, test_accuracy"
   ]
  },
  {
   "cell_type": "code",
   "execution_count": 224,
   "id": "3078c855",
   "metadata": {},
   "outputs": [
    {
     "name": "stdout",
     "output_type": "stream",
     "text": [
      "              precision    recall  f1-score   support\n",
      "\n",
      "           0       0.98      1.00      0.99       248\n",
      "           1       1.00      0.98      0.99       252\n",
      "\n",
      "    accuracy                           0.99       500\n",
      "   macro avg       0.99      0.99      0.99       500\n",
      "weighted avg       0.99      0.99      0.99       500\n",
      "\n"
     ]
    }
   ],
   "source": [
    "yt1_pred = xgb.predict(X_test)\n",
    "classification_test = classification_report(yt1_pred, y_test)\n",
    "print(classification_test)"
   ]
  },
  {
   "cell_type": "code",
   "execution_count": 225,
   "id": "c2b4c28e",
   "metadata": {},
   "outputs": [],
   "source": [
    "pickle.dump(xgb, open('xgb.pkl', 'wb'))"
   ]
  },
  {
   "cell_type": "markdown",
   "id": "ad9b59b3",
   "metadata": {},
   "source": [
    "### Gradient boost"
   ]
  },
  {
   "cell_type": "code",
   "execution_count": 226,
   "id": "848ef529",
   "metadata": {},
   "outputs": [],
   "source": [
    "from sklearn.metrics import accuracy_score\n",
    "from sklearn.ensemble import GradientBoostingClassifier"
   ]
  },
  {
   "cell_type": "code",
   "execution_count": 227,
   "id": "6b881615",
   "metadata": {},
   "outputs": [],
   "source": [
    "gbc = GradientBoostingClassifier(learning_rate=0.1)"
   ]
  },
  {
   "cell_type": "code",
   "execution_count": 228,
   "id": "d3042661",
   "metadata": {},
   "outputs": [
    {
     "data": {
      "text/html": [
       "<style>#sk-container-id-19 {color: black;}#sk-container-id-19 pre{padding: 0;}#sk-container-id-19 div.sk-toggleable {background-color: white;}#sk-container-id-19 label.sk-toggleable__label {cursor: pointer;display: block;width: 100%;margin-bottom: 0;padding: 0.3em;box-sizing: border-box;text-align: center;}#sk-container-id-19 label.sk-toggleable__label-arrow:before {content: \"▸\";float: left;margin-right: 0.25em;color: #696969;}#sk-container-id-19 label.sk-toggleable__label-arrow:hover:before {color: black;}#sk-container-id-19 div.sk-estimator:hover label.sk-toggleable__label-arrow:before {color: black;}#sk-container-id-19 div.sk-toggleable__content {max-height: 0;max-width: 0;overflow: hidden;text-align: left;background-color: #f0f8ff;}#sk-container-id-19 div.sk-toggleable__content pre {margin: 0.2em;color: black;border-radius: 0.25em;background-color: #f0f8ff;}#sk-container-id-19 input.sk-toggleable__control:checked~div.sk-toggleable__content {max-height: 200px;max-width: 100%;overflow: auto;}#sk-container-id-19 input.sk-toggleable__control:checked~label.sk-toggleable__label-arrow:before {content: \"▾\";}#sk-container-id-19 div.sk-estimator input.sk-toggleable__control:checked~label.sk-toggleable__label {background-color: #d4ebff;}#sk-container-id-19 div.sk-label input.sk-toggleable__control:checked~label.sk-toggleable__label {background-color: #d4ebff;}#sk-container-id-19 input.sk-hidden--visually {border: 0;clip: rect(1px 1px 1px 1px);clip: rect(1px, 1px, 1px, 1px);height: 1px;margin: -1px;overflow: hidden;padding: 0;position: absolute;width: 1px;}#sk-container-id-19 div.sk-estimator {font-family: monospace;background-color: #f0f8ff;border: 1px dotted black;border-radius: 0.25em;box-sizing: border-box;margin-bottom: 0.5em;}#sk-container-id-19 div.sk-estimator:hover {background-color: #d4ebff;}#sk-container-id-19 div.sk-parallel-item::after {content: \"\";width: 100%;border-bottom: 1px solid gray;flex-grow: 1;}#sk-container-id-19 div.sk-label:hover label.sk-toggleable__label {background-color: #d4ebff;}#sk-container-id-19 div.sk-serial::before {content: \"\";position: absolute;border-left: 1px solid gray;box-sizing: border-box;top: 0;bottom: 0;left: 50%;z-index: 0;}#sk-container-id-19 div.sk-serial {display: flex;flex-direction: column;align-items: center;background-color: white;padding-right: 0.2em;padding-left: 0.2em;position: relative;}#sk-container-id-19 div.sk-item {position: relative;z-index: 1;}#sk-container-id-19 div.sk-parallel {display: flex;align-items: stretch;justify-content: center;background-color: white;position: relative;}#sk-container-id-19 div.sk-item::before, #sk-container-id-19 div.sk-parallel-item::before {content: \"\";position: absolute;border-left: 1px solid gray;box-sizing: border-box;top: 0;bottom: 0;left: 50%;z-index: -1;}#sk-container-id-19 div.sk-parallel-item {display: flex;flex-direction: column;z-index: 1;position: relative;background-color: white;}#sk-container-id-19 div.sk-parallel-item:first-child::after {align-self: flex-end;width: 50%;}#sk-container-id-19 div.sk-parallel-item:last-child::after {align-self: flex-start;width: 50%;}#sk-container-id-19 div.sk-parallel-item:only-child::after {width: 0;}#sk-container-id-19 div.sk-dashed-wrapped {border: 1px dashed gray;margin: 0 0.4em 0.5em 0.4em;box-sizing: border-box;padding-bottom: 0.4em;background-color: white;}#sk-container-id-19 div.sk-label label {font-family: monospace;font-weight: bold;display: inline-block;line-height: 1.2em;}#sk-container-id-19 div.sk-label-container {text-align: center;}#sk-container-id-19 div.sk-container {/* jupyter's `normalize.less` sets `[hidden] { display: none; }` but bootstrap.min.css set `[hidden] { display: none !important; }` so we also need the `!important` here to be able to override the default hidden behavior on the sphinx rendered scikit-learn.org. See: https://github.com/scikit-learn/scikit-learn/issues/21755 */display: inline-block !important;position: relative;}#sk-container-id-19 div.sk-text-repr-fallback {display: none;}</style><div id=\"sk-container-id-19\" class=\"sk-top-container\"><div class=\"sk-text-repr-fallback\"><pre>GradientBoostingClassifier()</pre><b>In a Jupyter environment, please rerun this cell to show the HTML representation or trust the notebook. <br />On GitHub, the HTML representation is unable to render, please try loading this page with nbviewer.org.</b></div><div class=\"sk-container\" hidden><div class=\"sk-item\"><div class=\"sk-estimator sk-toggleable\"><input class=\"sk-toggleable__control sk-hidden--visually\" id=\"sk-estimator-id-19\" type=\"checkbox\" checked><label for=\"sk-estimator-id-19\" class=\"sk-toggleable__label sk-toggleable__label-arrow\">GradientBoostingClassifier</label><div class=\"sk-toggleable__content\"><pre>GradientBoostingClassifier()</pre></div></div></div></div></div>"
      ],
      "text/plain": [
       "GradientBoostingClassifier()"
      ]
     },
     "execution_count": 228,
     "metadata": {},
     "output_type": "execute_result"
    }
   ],
   "source": [
    "gbc"
   ]
  },
  {
   "cell_type": "code",
   "execution_count": 230,
   "id": "9eb48d31",
   "metadata": {},
   "outputs": [
    {
     "data": {
      "text/html": [
       "<style>#sk-container-id-20 {color: black;}#sk-container-id-20 pre{padding: 0;}#sk-container-id-20 div.sk-toggleable {background-color: white;}#sk-container-id-20 label.sk-toggleable__label {cursor: pointer;display: block;width: 100%;margin-bottom: 0;padding: 0.3em;box-sizing: border-box;text-align: center;}#sk-container-id-20 label.sk-toggleable__label-arrow:before {content: \"▸\";float: left;margin-right: 0.25em;color: #696969;}#sk-container-id-20 label.sk-toggleable__label-arrow:hover:before {color: black;}#sk-container-id-20 div.sk-estimator:hover label.sk-toggleable__label-arrow:before {color: black;}#sk-container-id-20 div.sk-toggleable__content {max-height: 0;max-width: 0;overflow: hidden;text-align: left;background-color: #f0f8ff;}#sk-container-id-20 div.sk-toggleable__content pre {margin: 0.2em;color: black;border-radius: 0.25em;background-color: #f0f8ff;}#sk-container-id-20 input.sk-toggleable__control:checked~div.sk-toggleable__content {max-height: 200px;max-width: 100%;overflow: auto;}#sk-container-id-20 input.sk-toggleable__control:checked~label.sk-toggleable__label-arrow:before {content: \"▾\";}#sk-container-id-20 div.sk-estimator input.sk-toggleable__control:checked~label.sk-toggleable__label {background-color: #d4ebff;}#sk-container-id-20 div.sk-label input.sk-toggleable__control:checked~label.sk-toggleable__label {background-color: #d4ebff;}#sk-container-id-20 input.sk-hidden--visually {border: 0;clip: rect(1px 1px 1px 1px);clip: rect(1px, 1px, 1px, 1px);height: 1px;margin: -1px;overflow: hidden;padding: 0;position: absolute;width: 1px;}#sk-container-id-20 div.sk-estimator {font-family: monospace;background-color: #f0f8ff;border: 1px dotted black;border-radius: 0.25em;box-sizing: border-box;margin-bottom: 0.5em;}#sk-container-id-20 div.sk-estimator:hover {background-color: #d4ebff;}#sk-container-id-20 div.sk-parallel-item::after {content: \"\";width: 100%;border-bottom: 1px solid gray;flex-grow: 1;}#sk-container-id-20 div.sk-label:hover label.sk-toggleable__label {background-color: #d4ebff;}#sk-container-id-20 div.sk-serial::before {content: \"\";position: absolute;border-left: 1px solid gray;box-sizing: border-box;top: 0;bottom: 0;left: 50%;z-index: 0;}#sk-container-id-20 div.sk-serial {display: flex;flex-direction: column;align-items: center;background-color: white;padding-right: 0.2em;padding-left: 0.2em;position: relative;}#sk-container-id-20 div.sk-item {position: relative;z-index: 1;}#sk-container-id-20 div.sk-parallel {display: flex;align-items: stretch;justify-content: center;background-color: white;position: relative;}#sk-container-id-20 div.sk-item::before, #sk-container-id-20 div.sk-parallel-item::before {content: \"\";position: absolute;border-left: 1px solid gray;box-sizing: border-box;top: 0;bottom: 0;left: 50%;z-index: -1;}#sk-container-id-20 div.sk-parallel-item {display: flex;flex-direction: column;z-index: 1;position: relative;background-color: white;}#sk-container-id-20 div.sk-parallel-item:first-child::after {align-self: flex-end;width: 50%;}#sk-container-id-20 div.sk-parallel-item:last-child::after {align-self: flex-start;width: 50%;}#sk-container-id-20 div.sk-parallel-item:only-child::after {width: 0;}#sk-container-id-20 div.sk-dashed-wrapped {border: 1px dashed gray;margin: 0 0.4em 0.5em 0.4em;box-sizing: border-box;padding-bottom: 0.4em;background-color: white;}#sk-container-id-20 div.sk-label label {font-family: monospace;font-weight: bold;display: inline-block;line-height: 1.2em;}#sk-container-id-20 div.sk-label-container {text-align: center;}#sk-container-id-20 div.sk-container {/* jupyter's `normalize.less` sets `[hidden] { display: none; }` but bootstrap.min.css set `[hidden] { display: none !important; }` so we also need the `!important` here to be able to override the default hidden behavior on the sphinx rendered scikit-learn.org. See: https://github.com/scikit-learn/scikit-learn/issues/21755 */display: inline-block !important;position: relative;}#sk-container-id-20 div.sk-text-repr-fallback {display: none;}</style><div id=\"sk-container-id-20\" class=\"sk-top-container\"><div class=\"sk-text-repr-fallback\"><pre>GradientBoostingClassifier()</pre><b>In a Jupyter environment, please rerun this cell to show the HTML representation or trust the notebook. <br />On GitHub, the HTML representation is unable to render, please try loading this page with nbviewer.org.</b></div><div class=\"sk-container\" hidden><div class=\"sk-item\"><div class=\"sk-estimator sk-toggleable\"><input class=\"sk-toggleable__control sk-hidden--visually\" id=\"sk-estimator-id-20\" type=\"checkbox\" checked><label for=\"sk-estimator-id-20\" class=\"sk-toggleable__label sk-toggleable__label-arrow\">GradientBoostingClassifier</label><div class=\"sk-toggleable__content\"><pre>GradientBoostingClassifier()</pre></div></div></div></div></div>"
      ],
      "text/plain": [
       "GradientBoostingClassifier()"
      ]
     },
     "execution_count": 230,
     "metadata": {},
     "output_type": "execute_result"
    }
   ],
   "source": [
    "gbc.fit(X_train, y_train)"
   ]
  },
  {
   "cell_type": "code",
   "execution_count": 231,
   "id": "af616db7",
   "metadata": {},
   "outputs": [
    {
     "data": {
      "text/plain": [
       "(0.9995, 0.992)"
      ]
     },
     "execution_count": 231,
     "metadata": {},
     "output_type": "execute_result"
    }
   ],
   "source": [
    "train_accuracy = accuracy_score(y_train, gbc.predict(X_train))\n",
    "test_accuracy = accuracy_score(y_test, gbc.predict(X_test))\n",
    "train_accuracy, test_accuracy"
   ]
  },
  {
   "cell_type": "code",
   "execution_count": 233,
   "id": "d019b040",
   "metadata": {},
   "outputs": [],
   "source": [
    "yte_pred = gbc.predict(X_test)"
   ]
  },
  {
   "cell_type": "code",
   "execution_count": 234,
   "id": "26cb34a9",
   "metadata": {},
   "outputs": [],
   "source": [
    "from sklearn.metrics import classification_report\n",
    "classification_test = classification_report(yte_pred, y_test)"
   ]
  },
  {
   "cell_type": "code",
   "execution_count": 236,
   "id": "d29a6738",
   "metadata": {},
   "outputs": [
    {
     "name": "stdout",
     "output_type": "stream",
     "text": [
      "              precision    recall  f1-score   support\n",
      "\n",
      "         0.0       0.98      1.00      0.99       249\n",
      "         1.0       1.00      0.98      0.99       251\n",
      "\n",
      "    accuracy                           0.99       500\n",
      "   macro avg       0.99      0.99      0.99       500\n",
      "weighted avg       0.99      0.99      0.99       500\n",
      "\n"
     ]
    }
   ],
   "source": [
    "print(classification_test)"
   ]
  },
  {
   "cell_type": "code",
   "execution_count": 237,
   "id": "190a6f92",
   "metadata": {},
   "outputs": [],
   "source": [
    "pickle.dump(gbc, open('gb.pkl','wb'))"
   ]
  },
  {
   "cell_type": "markdown",
   "id": "658f82ec",
   "metadata": {},
   "source": [
    "###  Ada Boost"
   ]
  },
  {
   "cell_type": "code",
   "execution_count": 238,
   "id": "2019306e",
   "metadata": {},
   "outputs": [],
   "source": [
    "from sklearn.ensemble import AdaBoostClassifier"
   ]
  },
  {
   "cell_type": "code",
   "execution_count": 240,
   "id": "73193796",
   "metadata": {},
   "outputs": [],
   "source": [
    "ada = AdaBoostClassifier(learning_rate = 0.02, n_estimators = 5000)"
   ]
  },
  {
   "cell_type": "code",
   "execution_count": 243,
   "id": "086d5885",
   "metadata": {},
   "outputs": [
    {
     "data": {
      "text/html": [
       "<style>#sk-container-id-23 {color: black;}#sk-container-id-23 pre{padding: 0;}#sk-container-id-23 div.sk-toggleable {background-color: white;}#sk-container-id-23 label.sk-toggleable__label {cursor: pointer;display: block;width: 100%;margin-bottom: 0;padding: 0.3em;box-sizing: border-box;text-align: center;}#sk-container-id-23 label.sk-toggleable__label-arrow:before {content: \"▸\";float: left;margin-right: 0.25em;color: #696969;}#sk-container-id-23 label.sk-toggleable__label-arrow:hover:before {color: black;}#sk-container-id-23 div.sk-estimator:hover label.sk-toggleable__label-arrow:before {color: black;}#sk-container-id-23 div.sk-toggleable__content {max-height: 0;max-width: 0;overflow: hidden;text-align: left;background-color: #f0f8ff;}#sk-container-id-23 div.sk-toggleable__content pre {margin: 0.2em;color: black;border-radius: 0.25em;background-color: #f0f8ff;}#sk-container-id-23 input.sk-toggleable__control:checked~div.sk-toggleable__content {max-height: 200px;max-width: 100%;overflow: auto;}#sk-container-id-23 input.sk-toggleable__control:checked~label.sk-toggleable__label-arrow:before {content: \"▾\";}#sk-container-id-23 div.sk-estimator input.sk-toggleable__control:checked~label.sk-toggleable__label {background-color: #d4ebff;}#sk-container-id-23 div.sk-label input.sk-toggleable__control:checked~label.sk-toggleable__label {background-color: #d4ebff;}#sk-container-id-23 input.sk-hidden--visually {border: 0;clip: rect(1px 1px 1px 1px);clip: rect(1px, 1px, 1px, 1px);height: 1px;margin: -1px;overflow: hidden;padding: 0;position: absolute;width: 1px;}#sk-container-id-23 div.sk-estimator {font-family: monospace;background-color: #f0f8ff;border: 1px dotted black;border-radius: 0.25em;box-sizing: border-box;margin-bottom: 0.5em;}#sk-container-id-23 div.sk-estimator:hover {background-color: #d4ebff;}#sk-container-id-23 div.sk-parallel-item::after {content: \"\";width: 100%;border-bottom: 1px solid gray;flex-grow: 1;}#sk-container-id-23 div.sk-label:hover label.sk-toggleable__label {background-color: #d4ebff;}#sk-container-id-23 div.sk-serial::before {content: \"\";position: absolute;border-left: 1px solid gray;box-sizing: border-box;top: 0;bottom: 0;left: 50%;z-index: 0;}#sk-container-id-23 div.sk-serial {display: flex;flex-direction: column;align-items: center;background-color: white;padding-right: 0.2em;padding-left: 0.2em;position: relative;}#sk-container-id-23 div.sk-item {position: relative;z-index: 1;}#sk-container-id-23 div.sk-parallel {display: flex;align-items: stretch;justify-content: center;background-color: white;position: relative;}#sk-container-id-23 div.sk-item::before, #sk-container-id-23 div.sk-parallel-item::before {content: \"\";position: absolute;border-left: 1px solid gray;box-sizing: border-box;top: 0;bottom: 0;left: 50%;z-index: -1;}#sk-container-id-23 div.sk-parallel-item {display: flex;flex-direction: column;z-index: 1;position: relative;background-color: white;}#sk-container-id-23 div.sk-parallel-item:first-child::after {align-self: flex-end;width: 50%;}#sk-container-id-23 div.sk-parallel-item:last-child::after {align-self: flex-start;width: 50%;}#sk-container-id-23 div.sk-parallel-item:only-child::after {width: 0;}#sk-container-id-23 div.sk-dashed-wrapped {border: 1px dashed gray;margin: 0 0.4em 0.5em 0.4em;box-sizing: border-box;padding-bottom: 0.4em;background-color: white;}#sk-container-id-23 div.sk-label label {font-family: monospace;font-weight: bold;display: inline-block;line-height: 1.2em;}#sk-container-id-23 div.sk-label-container {text-align: center;}#sk-container-id-23 div.sk-container {/* jupyter's `normalize.less` sets `[hidden] { display: none; }` but bootstrap.min.css set `[hidden] { display: none !important; }` so we also need the `!important` here to be able to override the default hidden behavior on the sphinx rendered scikit-learn.org. See: https://github.com/scikit-learn/scikit-learn/issues/21755 */display: inline-block !important;position: relative;}#sk-container-id-23 div.sk-text-repr-fallback {display: none;}</style><div id=\"sk-container-id-23\" class=\"sk-top-container\"><div class=\"sk-text-repr-fallback\"><pre>AdaBoostClassifier(learning_rate=0.02, n_estimators=5000)</pre><b>In a Jupyter environment, please rerun this cell to show the HTML representation or trust the notebook. <br />On GitHub, the HTML representation is unable to render, please try loading this page with nbviewer.org.</b></div><div class=\"sk-container\" hidden><div class=\"sk-item\"><div class=\"sk-estimator sk-toggleable\"><input class=\"sk-toggleable__control sk-hidden--visually\" id=\"sk-estimator-id-23\" type=\"checkbox\" checked><label for=\"sk-estimator-id-23\" class=\"sk-toggleable__label sk-toggleable__label-arrow\">AdaBoostClassifier</label><div class=\"sk-toggleable__content\"><pre>AdaBoostClassifier(learning_rate=0.02, n_estimators=5000)</pre></div></div></div></div></div>"
      ],
      "text/plain": [
       "AdaBoostClassifier(learning_rate=0.02, n_estimators=5000)"
      ]
     },
     "execution_count": 243,
     "metadata": {},
     "output_type": "execute_result"
    }
   ],
   "source": [
    "ada"
   ]
  },
  {
   "cell_type": "code",
   "execution_count": 248,
   "id": "8248977f",
   "metadata": {},
   "outputs": [
    {
     "data": {
      "text/html": [
       "<style>#sk-container-id-25 {color: black;}#sk-container-id-25 pre{padding: 0;}#sk-container-id-25 div.sk-toggleable {background-color: white;}#sk-container-id-25 label.sk-toggleable__label {cursor: pointer;display: block;width: 100%;margin-bottom: 0;padding: 0.3em;box-sizing: border-box;text-align: center;}#sk-container-id-25 label.sk-toggleable__label-arrow:before {content: \"▸\";float: left;margin-right: 0.25em;color: #696969;}#sk-container-id-25 label.sk-toggleable__label-arrow:hover:before {color: black;}#sk-container-id-25 div.sk-estimator:hover label.sk-toggleable__label-arrow:before {color: black;}#sk-container-id-25 div.sk-toggleable__content {max-height: 0;max-width: 0;overflow: hidden;text-align: left;background-color: #f0f8ff;}#sk-container-id-25 div.sk-toggleable__content pre {margin: 0.2em;color: black;border-radius: 0.25em;background-color: #f0f8ff;}#sk-container-id-25 input.sk-toggleable__control:checked~div.sk-toggleable__content {max-height: 200px;max-width: 100%;overflow: auto;}#sk-container-id-25 input.sk-toggleable__control:checked~label.sk-toggleable__label-arrow:before {content: \"▾\";}#sk-container-id-25 div.sk-estimator input.sk-toggleable__control:checked~label.sk-toggleable__label {background-color: #d4ebff;}#sk-container-id-25 div.sk-label input.sk-toggleable__control:checked~label.sk-toggleable__label {background-color: #d4ebff;}#sk-container-id-25 input.sk-hidden--visually {border: 0;clip: rect(1px 1px 1px 1px);clip: rect(1px, 1px, 1px, 1px);height: 1px;margin: -1px;overflow: hidden;padding: 0;position: absolute;width: 1px;}#sk-container-id-25 div.sk-estimator {font-family: monospace;background-color: #f0f8ff;border: 1px dotted black;border-radius: 0.25em;box-sizing: border-box;margin-bottom: 0.5em;}#sk-container-id-25 div.sk-estimator:hover {background-color: #d4ebff;}#sk-container-id-25 div.sk-parallel-item::after {content: \"\";width: 100%;border-bottom: 1px solid gray;flex-grow: 1;}#sk-container-id-25 div.sk-label:hover label.sk-toggleable__label {background-color: #d4ebff;}#sk-container-id-25 div.sk-serial::before {content: \"\";position: absolute;border-left: 1px solid gray;box-sizing: border-box;top: 0;bottom: 0;left: 50%;z-index: 0;}#sk-container-id-25 div.sk-serial {display: flex;flex-direction: column;align-items: center;background-color: white;padding-right: 0.2em;padding-left: 0.2em;position: relative;}#sk-container-id-25 div.sk-item {position: relative;z-index: 1;}#sk-container-id-25 div.sk-parallel {display: flex;align-items: stretch;justify-content: center;background-color: white;position: relative;}#sk-container-id-25 div.sk-item::before, #sk-container-id-25 div.sk-parallel-item::before {content: \"\";position: absolute;border-left: 1px solid gray;box-sizing: border-box;top: 0;bottom: 0;left: 50%;z-index: -1;}#sk-container-id-25 div.sk-parallel-item {display: flex;flex-direction: column;z-index: 1;position: relative;background-color: white;}#sk-container-id-25 div.sk-parallel-item:first-child::after {align-self: flex-end;width: 50%;}#sk-container-id-25 div.sk-parallel-item:last-child::after {align-self: flex-start;width: 50%;}#sk-container-id-25 div.sk-parallel-item:only-child::after {width: 0;}#sk-container-id-25 div.sk-dashed-wrapped {border: 1px dashed gray;margin: 0 0.4em 0.5em 0.4em;box-sizing: border-box;padding-bottom: 0.4em;background-color: white;}#sk-container-id-25 div.sk-label label {font-family: monospace;font-weight: bold;display: inline-block;line-height: 1.2em;}#sk-container-id-25 div.sk-label-container {text-align: center;}#sk-container-id-25 div.sk-container {/* jupyter's `normalize.less` sets `[hidden] { display: none; }` but bootstrap.min.css set `[hidden] { display: none !important; }` so we also need the `!important` here to be able to override the default hidden behavior on the sphinx rendered scikit-learn.org. See: https://github.com/scikit-learn/scikit-learn/issues/21755 */display: inline-block !important;position: relative;}#sk-container-id-25 div.sk-text-repr-fallback {display: none;}</style><div id=\"sk-container-id-25\" class=\"sk-top-container\"><div class=\"sk-text-repr-fallback\"><pre>AdaBoostClassifier(learning_rate=0.02, n_estimators=5000)</pre><b>In a Jupyter environment, please rerun this cell to show the HTML representation or trust the notebook. <br />On GitHub, the HTML representation is unable to render, please try loading this page with nbviewer.org.</b></div><div class=\"sk-container\" hidden><div class=\"sk-item\"><div class=\"sk-estimator sk-toggleable\"><input class=\"sk-toggleable__control sk-hidden--visually\" id=\"sk-estimator-id-25\" type=\"checkbox\" checked><label for=\"sk-estimator-id-25\" class=\"sk-toggleable__label sk-toggleable__label-arrow\">AdaBoostClassifier</label><div class=\"sk-toggleable__content\"><pre>AdaBoostClassifier(learning_rate=0.02, n_estimators=5000)</pre></div></div></div></div></div>"
      ],
      "text/plain": [
       "AdaBoostClassifier(learning_rate=0.02, n_estimators=5000)"
      ]
     },
     "execution_count": 248,
     "metadata": {},
     "output_type": "execute_result"
    }
   ],
   "source": [
    "ada.fit(X_train, y_train)"
   ]
  },
  {
   "cell_type": "code",
   "execution_count": 247,
   "id": "9f09530e",
   "metadata": {},
   "outputs": [
    {
     "data": {
      "text/plain": [
       "(1.0, 0.988)"
      ]
     },
     "execution_count": 247,
     "metadata": {},
     "output_type": "execute_result"
    }
   ],
   "source": [
    "train_accuracy = accuracy_score(y_train, ada.predict(X_train))\n",
    "test_accuracy = accuracy_score(y_test, ada.predict(X_test))\n",
    "train_accuracy, test_accuracy"
   ]
  },
  {
   "cell_type": "code",
   "execution_count": 246,
   "id": "ca25e1b7",
   "metadata": {},
   "outputs": [
    {
     "name": "stdout",
     "output_type": "stream",
     "text": [
      "              precision    recall  f1-score   support\n",
      "\n",
      "         0.0       0.98      0.99      0.99       251\n",
      "         1.0       0.99      0.98      0.99       249\n",
      "\n",
      "    accuracy                           0.99       500\n",
      "   macro avg       0.99      0.99      0.99       500\n",
      "weighted avg       0.99      0.99      0.99       500\n",
      "\n"
     ]
    }
   ],
   "source": [
    "yt5_pred = ada.predict(X_test)\n",
    "classification_test = classification_report(yt5_pred, y_test)\n",
    "print(classification_test)"
   ]
  },
  {
   "cell_type": "markdown",
   "id": "3fa5f2ed",
   "metadata": {},
   "source": [
    "### KNN Classifier"
   ]
  },
  {
   "cell_type": "code",
   "execution_count": 250,
   "id": "cfef4012",
   "metadata": {},
   "outputs": [],
   "source": [
    "from sklearn import neighbors\n",
    "from sklearn.model_selection import GridSearchCV"
   ]
  },
  {
   "cell_type": "code",
   "execution_count": 252,
   "id": "4ca5f9d5",
   "metadata": {},
   "outputs": [],
   "source": [
    "knn = neighbors.KNeighborsClassifier()\n",
    "params_knn = {'n_neighbors':np.arange(1,25)}"
   ]
  },
  {
   "cell_type": "code",
   "execution_count": 253,
   "id": "072e6a96",
   "metadata": {},
   "outputs": [
    {
     "data": {
      "text/html": [
       "<style>#sk-container-id-26 {color: black;}#sk-container-id-26 pre{padding: 0;}#sk-container-id-26 div.sk-toggleable {background-color: white;}#sk-container-id-26 label.sk-toggleable__label {cursor: pointer;display: block;width: 100%;margin-bottom: 0;padding: 0.3em;box-sizing: border-box;text-align: center;}#sk-container-id-26 label.sk-toggleable__label-arrow:before {content: \"▸\";float: left;margin-right: 0.25em;color: #696969;}#sk-container-id-26 label.sk-toggleable__label-arrow:hover:before {color: black;}#sk-container-id-26 div.sk-estimator:hover label.sk-toggleable__label-arrow:before {color: black;}#sk-container-id-26 div.sk-toggleable__content {max-height: 0;max-width: 0;overflow: hidden;text-align: left;background-color: #f0f8ff;}#sk-container-id-26 div.sk-toggleable__content pre {margin: 0.2em;color: black;border-radius: 0.25em;background-color: #f0f8ff;}#sk-container-id-26 input.sk-toggleable__control:checked~div.sk-toggleable__content {max-height: 200px;max-width: 100%;overflow: auto;}#sk-container-id-26 input.sk-toggleable__control:checked~label.sk-toggleable__label-arrow:before {content: \"▾\";}#sk-container-id-26 div.sk-estimator input.sk-toggleable__control:checked~label.sk-toggleable__label {background-color: #d4ebff;}#sk-container-id-26 div.sk-label input.sk-toggleable__control:checked~label.sk-toggleable__label {background-color: #d4ebff;}#sk-container-id-26 input.sk-hidden--visually {border: 0;clip: rect(1px 1px 1px 1px);clip: rect(1px, 1px, 1px, 1px);height: 1px;margin: -1px;overflow: hidden;padding: 0;position: absolute;width: 1px;}#sk-container-id-26 div.sk-estimator {font-family: monospace;background-color: #f0f8ff;border: 1px dotted black;border-radius: 0.25em;box-sizing: border-box;margin-bottom: 0.5em;}#sk-container-id-26 div.sk-estimator:hover {background-color: #d4ebff;}#sk-container-id-26 div.sk-parallel-item::after {content: \"\";width: 100%;border-bottom: 1px solid gray;flex-grow: 1;}#sk-container-id-26 div.sk-label:hover label.sk-toggleable__label {background-color: #d4ebff;}#sk-container-id-26 div.sk-serial::before {content: \"\";position: absolute;border-left: 1px solid gray;box-sizing: border-box;top: 0;bottom: 0;left: 50%;z-index: 0;}#sk-container-id-26 div.sk-serial {display: flex;flex-direction: column;align-items: center;background-color: white;padding-right: 0.2em;padding-left: 0.2em;position: relative;}#sk-container-id-26 div.sk-item {position: relative;z-index: 1;}#sk-container-id-26 div.sk-parallel {display: flex;align-items: stretch;justify-content: center;background-color: white;position: relative;}#sk-container-id-26 div.sk-item::before, #sk-container-id-26 div.sk-parallel-item::before {content: \"\";position: absolute;border-left: 1px solid gray;box-sizing: border-box;top: 0;bottom: 0;left: 50%;z-index: -1;}#sk-container-id-26 div.sk-parallel-item {display: flex;flex-direction: column;z-index: 1;position: relative;background-color: white;}#sk-container-id-26 div.sk-parallel-item:first-child::after {align-self: flex-end;width: 50%;}#sk-container-id-26 div.sk-parallel-item:last-child::after {align-self: flex-start;width: 50%;}#sk-container-id-26 div.sk-parallel-item:only-child::after {width: 0;}#sk-container-id-26 div.sk-dashed-wrapped {border: 1px dashed gray;margin: 0 0.4em 0.5em 0.4em;box-sizing: border-box;padding-bottom: 0.4em;background-color: white;}#sk-container-id-26 div.sk-label label {font-family: monospace;font-weight: bold;display: inline-block;line-height: 1.2em;}#sk-container-id-26 div.sk-label-container {text-align: center;}#sk-container-id-26 div.sk-container {/* jupyter's `normalize.less` sets `[hidden] { display: none; }` but bootstrap.min.css set `[hidden] { display: none !important; }` so we also need the `!important` here to be able to override the default hidden behavior on the sphinx rendered scikit-learn.org. See: https://github.com/scikit-learn/scikit-learn/issues/21755 */display: inline-block !important;position: relative;}#sk-container-id-26 div.sk-text-repr-fallback {display: none;}</style><div id=\"sk-container-id-26\" class=\"sk-top-container\"><div class=\"sk-text-repr-fallback\"><pre>KNeighborsClassifier()</pre><b>In a Jupyter environment, please rerun this cell to show the HTML representation or trust the notebook. <br />On GitHub, the HTML representation is unable to render, please try loading this page with nbviewer.org.</b></div><div class=\"sk-container\" hidden><div class=\"sk-item\"><div class=\"sk-estimator sk-toggleable\"><input class=\"sk-toggleable__control sk-hidden--visually\" id=\"sk-estimator-id-26\" type=\"checkbox\" checked><label for=\"sk-estimator-id-26\" class=\"sk-toggleable__label sk-toggleable__label-arrow\">KNeighborsClassifier</label><div class=\"sk-toggleable__content\"><pre>KNeighborsClassifier()</pre></div></div></div></div></div>"
      ],
      "text/plain": [
       "KNeighborsClassifier()"
      ]
     },
     "execution_count": 253,
     "metadata": {},
     "output_type": "execute_result"
    }
   ],
   "source": [
    "knn"
   ]
  },
  {
   "cell_type": "code",
   "execution_count": 254,
   "id": "5e0167b6",
   "metadata": {},
   "outputs": [],
   "source": [
    "knn= GridSearchCV(knn, params_knn, cv = 5)\n"
   ]
  },
  {
   "cell_type": "code",
   "execution_count": 255,
   "id": "95ba5fc1",
   "metadata": {},
   "outputs": [
    {
     "data": {
      "text/html": [
       "<style>#sk-container-id-27 {color: black;}#sk-container-id-27 pre{padding: 0;}#sk-container-id-27 div.sk-toggleable {background-color: white;}#sk-container-id-27 label.sk-toggleable__label {cursor: pointer;display: block;width: 100%;margin-bottom: 0;padding: 0.3em;box-sizing: border-box;text-align: center;}#sk-container-id-27 label.sk-toggleable__label-arrow:before {content: \"▸\";float: left;margin-right: 0.25em;color: #696969;}#sk-container-id-27 label.sk-toggleable__label-arrow:hover:before {color: black;}#sk-container-id-27 div.sk-estimator:hover label.sk-toggleable__label-arrow:before {color: black;}#sk-container-id-27 div.sk-toggleable__content {max-height: 0;max-width: 0;overflow: hidden;text-align: left;background-color: #f0f8ff;}#sk-container-id-27 div.sk-toggleable__content pre {margin: 0.2em;color: black;border-radius: 0.25em;background-color: #f0f8ff;}#sk-container-id-27 input.sk-toggleable__control:checked~div.sk-toggleable__content {max-height: 200px;max-width: 100%;overflow: auto;}#sk-container-id-27 input.sk-toggleable__control:checked~label.sk-toggleable__label-arrow:before {content: \"▾\";}#sk-container-id-27 div.sk-estimator input.sk-toggleable__control:checked~label.sk-toggleable__label {background-color: #d4ebff;}#sk-container-id-27 div.sk-label input.sk-toggleable__control:checked~label.sk-toggleable__label {background-color: #d4ebff;}#sk-container-id-27 input.sk-hidden--visually {border: 0;clip: rect(1px 1px 1px 1px);clip: rect(1px, 1px, 1px, 1px);height: 1px;margin: -1px;overflow: hidden;padding: 0;position: absolute;width: 1px;}#sk-container-id-27 div.sk-estimator {font-family: monospace;background-color: #f0f8ff;border: 1px dotted black;border-radius: 0.25em;box-sizing: border-box;margin-bottom: 0.5em;}#sk-container-id-27 div.sk-estimator:hover {background-color: #d4ebff;}#sk-container-id-27 div.sk-parallel-item::after {content: \"\";width: 100%;border-bottom: 1px solid gray;flex-grow: 1;}#sk-container-id-27 div.sk-label:hover label.sk-toggleable__label {background-color: #d4ebff;}#sk-container-id-27 div.sk-serial::before {content: \"\";position: absolute;border-left: 1px solid gray;box-sizing: border-box;top: 0;bottom: 0;left: 50%;z-index: 0;}#sk-container-id-27 div.sk-serial {display: flex;flex-direction: column;align-items: center;background-color: white;padding-right: 0.2em;padding-left: 0.2em;position: relative;}#sk-container-id-27 div.sk-item {position: relative;z-index: 1;}#sk-container-id-27 div.sk-parallel {display: flex;align-items: stretch;justify-content: center;background-color: white;position: relative;}#sk-container-id-27 div.sk-item::before, #sk-container-id-27 div.sk-parallel-item::before {content: \"\";position: absolute;border-left: 1px solid gray;box-sizing: border-box;top: 0;bottom: 0;left: 50%;z-index: -1;}#sk-container-id-27 div.sk-parallel-item {display: flex;flex-direction: column;z-index: 1;position: relative;background-color: white;}#sk-container-id-27 div.sk-parallel-item:first-child::after {align-self: flex-end;width: 50%;}#sk-container-id-27 div.sk-parallel-item:last-child::after {align-self: flex-start;width: 50%;}#sk-container-id-27 div.sk-parallel-item:only-child::after {width: 0;}#sk-container-id-27 div.sk-dashed-wrapped {border: 1px dashed gray;margin: 0 0.4em 0.5em 0.4em;box-sizing: border-box;padding-bottom: 0.4em;background-color: white;}#sk-container-id-27 div.sk-label label {font-family: monospace;font-weight: bold;display: inline-block;line-height: 1.2em;}#sk-container-id-27 div.sk-label-container {text-align: center;}#sk-container-id-27 div.sk-container {/* jupyter's `normalize.less` sets `[hidden] { display: none; }` but bootstrap.min.css set `[hidden] { display: none !important; }` so we also need the `!important` here to be able to override the default hidden behavior on the sphinx rendered scikit-learn.org. See: https://github.com/scikit-learn/scikit-learn/issues/21755 */display: inline-block !important;position: relative;}#sk-container-id-27 div.sk-text-repr-fallback {display: none;}</style><div id=\"sk-container-id-27\" class=\"sk-top-container\"><div class=\"sk-text-repr-fallback\"><pre>GridSearchCV(cv=5, estimator=KNeighborsClassifier(),\n",
       "             param_grid={&#x27;n_neighbors&#x27;: array([ 1,  2,  3,  4,  5,  6,  7,  8,  9, 10, 11, 12, 13, 14, 15, 16, 17,\n",
       "       18, 19, 20, 21, 22, 23, 24])})</pre><b>In a Jupyter environment, please rerun this cell to show the HTML representation or trust the notebook. <br />On GitHub, the HTML representation is unable to render, please try loading this page with nbviewer.org.</b></div><div class=\"sk-container\" hidden><div class=\"sk-item sk-dashed-wrapped\"><div class=\"sk-label-container\"><div class=\"sk-label sk-toggleable\"><input class=\"sk-toggleable__control sk-hidden--visually\" id=\"sk-estimator-id-27\" type=\"checkbox\" ><label for=\"sk-estimator-id-27\" class=\"sk-toggleable__label sk-toggleable__label-arrow\">GridSearchCV</label><div class=\"sk-toggleable__content\"><pre>GridSearchCV(cv=5, estimator=KNeighborsClassifier(),\n",
       "             param_grid={&#x27;n_neighbors&#x27;: array([ 1,  2,  3,  4,  5,  6,  7,  8,  9, 10, 11, 12, 13, 14, 15, 16, 17,\n",
       "       18, 19, 20, 21, 22, 23, 24])})</pre></div></div></div><div class=\"sk-parallel\"><div class=\"sk-parallel-item\"><div class=\"sk-item\"><div class=\"sk-label-container\"><div class=\"sk-label sk-toggleable\"><input class=\"sk-toggleable__control sk-hidden--visually\" id=\"sk-estimator-id-28\" type=\"checkbox\" ><label for=\"sk-estimator-id-28\" class=\"sk-toggleable__label sk-toggleable__label-arrow\">estimator: KNeighborsClassifier</label><div class=\"sk-toggleable__content\"><pre>KNeighborsClassifier()</pre></div></div></div><div class=\"sk-serial\"><div class=\"sk-item\"><div class=\"sk-estimator sk-toggleable\"><input class=\"sk-toggleable__control sk-hidden--visually\" id=\"sk-estimator-id-29\" type=\"checkbox\" ><label for=\"sk-estimator-id-29\" class=\"sk-toggleable__label sk-toggleable__label-arrow\">KNeighborsClassifier</label><div class=\"sk-toggleable__content\"><pre>KNeighborsClassifier()</pre></div></div></div></div></div></div></div></div></div></div>"
      ],
      "text/plain": [
       "GridSearchCV(cv=5, estimator=KNeighborsClassifier(),\n",
       "             param_grid={'n_neighbors': array([ 1,  2,  3,  4,  5,  6,  7,  8,  9, 10, 11, 12, 13, 14, 15, 16, 17,\n",
       "       18, 19, 20, 21, 22, 23, 24])})"
      ]
     },
     "execution_count": 255,
     "metadata": {},
     "output_type": "execute_result"
    }
   ],
   "source": [
    "knn.fit(X_train, y_train)"
   ]
  },
  {
   "cell_type": "code",
   "execution_count": 256,
   "id": "1cac1d89",
   "metadata": {},
   "outputs": [
    {
     "data": {
      "text/plain": [
       "(0.9645, 0.918)"
      ]
     },
     "execution_count": 256,
     "metadata": {},
     "output_type": "execute_result"
    }
   ],
   "source": [
    "train_accuracy = accuracy_score(y_train, knn.predict(X_train))\n",
    "test_accuracy = accuracy_score(y_test, knn.predict(X_test))\n",
    "train_accuracy, test_accuracy"
   ]
  },
  {
   "cell_type": "code",
   "execution_count": 257,
   "id": "fbd5d485",
   "metadata": {},
   "outputs": [
    {
     "name": "stdout",
     "output_type": "stream",
     "text": [
      "              precision    recall  f1-score   support\n",
      "\n",
      "         0.0       0.91      0.92      0.92       250\n",
      "         1.0       0.92      0.91      0.92       250\n",
      "\n",
      "    accuracy                           0.92       500\n",
      "   macro avg       0.92      0.92      0.92       500\n",
      "weighted avg       0.92      0.92      0.92       500\n",
      "\n"
     ]
    }
   ],
   "source": [
    "yt6_pred = knn.predict(X_test)\n",
    "classification_test = classification_report(yt6_pred, y_test)\n",
    "print(classification_test)"
   ]
  },
  {
   "cell_type": "markdown",
   "id": "8f67fd11",
   "metadata": {},
   "source": [
    "### Naive Bayes Classifier"
   ]
  },
  {
   "cell_type": "code",
   "execution_count": 258,
   "id": "c0908707",
   "metadata": {},
   "outputs": [],
   "source": [
    "from sklearn.naive_bayes import MultinomialNB"
   ]
  },
  {
   "cell_type": "code",
   "execution_count": 259,
   "id": "9b0de174",
   "metadata": {},
   "outputs": [],
   "source": [
    "mul_nb = MultinomialNB()"
   ]
  },
  {
   "cell_type": "code",
   "execution_count": 260,
   "id": "b4b644a0",
   "metadata": {},
   "outputs": [
    {
     "data": {
      "text/html": [
       "<style>#sk-container-id-28 {color: black;}#sk-container-id-28 pre{padding: 0;}#sk-container-id-28 div.sk-toggleable {background-color: white;}#sk-container-id-28 label.sk-toggleable__label {cursor: pointer;display: block;width: 100%;margin-bottom: 0;padding: 0.3em;box-sizing: border-box;text-align: center;}#sk-container-id-28 label.sk-toggleable__label-arrow:before {content: \"▸\";float: left;margin-right: 0.25em;color: #696969;}#sk-container-id-28 label.sk-toggleable__label-arrow:hover:before {color: black;}#sk-container-id-28 div.sk-estimator:hover label.sk-toggleable__label-arrow:before {color: black;}#sk-container-id-28 div.sk-toggleable__content {max-height: 0;max-width: 0;overflow: hidden;text-align: left;background-color: #f0f8ff;}#sk-container-id-28 div.sk-toggleable__content pre {margin: 0.2em;color: black;border-radius: 0.25em;background-color: #f0f8ff;}#sk-container-id-28 input.sk-toggleable__control:checked~div.sk-toggleable__content {max-height: 200px;max-width: 100%;overflow: auto;}#sk-container-id-28 input.sk-toggleable__control:checked~label.sk-toggleable__label-arrow:before {content: \"▾\";}#sk-container-id-28 div.sk-estimator input.sk-toggleable__control:checked~label.sk-toggleable__label {background-color: #d4ebff;}#sk-container-id-28 div.sk-label input.sk-toggleable__control:checked~label.sk-toggleable__label {background-color: #d4ebff;}#sk-container-id-28 input.sk-hidden--visually {border: 0;clip: rect(1px 1px 1px 1px);clip: rect(1px, 1px, 1px, 1px);height: 1px;margin: -1px;overflow: hidden;padding: 0;position: absolute;width: 1px;}#sk-container-id-28 div.sk-estimator {font-family: monospace;background-color: #f0f8ff;border: 1px dotted black;border-radius: 0.25em;box-sizing: border-box;margin-bottom: 0.5em;}#sk-container-id-28 div.sk-estimator:hover {background-color: #d4ebff;}#sk-container-id-28 div.sk-parallel-item::after {content: \"\";width: 100%;border-bottom: 1px solid gray;flex-grow: 1;}#sk-container-id-28 div.sk-label:hover label.sk-toggleable__label {background-color: #d4ebff;}#sk-container-id-28 div.sk-serial::before {content: \"\";position: absolute;border-left: 1px solid gray;box-sizing: border-box;top: 0;bottom: 0;left: 50%;z-index: 0;}#sk-container-id-28 div.sk-serial {display: flex;flex-direction: column;align-items: center;background-color: white;padding-right: 0.2em;padding-left: 0.2em;position: relative;}#sk-container-id-28 div.sk-item {position: relative;z-index: 1;}#sk-container-id-28 div.sk-parallel {display: flex;align-items: stretch;justify-content: center;background-color: white;position: relative;}#sk-container-id-28 div.sk-item::before, #sk-container-id-28 div.sk-parallel-item::before {content: \"\";position: absolute;border-left: 1px solid gray;box-sizing: border-box;top: 0;bottom: 0;left: 50%;z-index: -1;}#sk-container-id-28 div.sk-parallel-item {display: flex;flex-direction: column;z-index: 1;position: relative;background-color: white;}#sk-container-id-28 div.sk-parallel-item:first-child::after {align-self: flex-end;width: 50%;}#sk-container-id-28 div.sk-parallel-item:last-child::after {align-self: flex-start;width: 50%;}#sk-container-id-28 div.sk-parallel-item:only-child::after {width: 0;}#sk-container-id-28 div.sk-dashed-wrapped {border: 1px dashed gray;margin: 0 0.4em 0.5em 0.4em;box-sizing: border-box;padding-bottom: 0.4em;background-color: white;}#sk-container-id-28 div.sk-label label {font-family: monospace;font-weight: bold;display: inline-block;line-height: 1.2em;}#sk-container-id-28 div.sk-label-container {text-align: center;}#sk-container-id-28 div.sk-container {/* jupyter's `normalize.less` sets `[hidden] { display: none; }` but bootstrap.min.css set `[hidden] { display: none !important; }` so we also need the `!important` here to be able to override the default hidden behavior on the sphinx rendered scikit-learn.org. See: https://github.com/scikit-learn/scikit-learn/issues/21755 */display: inline-block !important;position: relative;}#sk-container-id-28 div.sk-text-repr-fallback {display: none;}</style><div id=\"sk-container-id-28\" class=\"sk-top-container\"><div class=\"sk-text-repr-fallback\"><pre>MultinomialNB()</pre><b>In a Jupyter environment, please rerun this cell to show the HTML representation or trust the notebook. <br />On GitHub, the HTML representation is unable to render, please try loading this page with nbviewer.org.</b></div><div class=\"sk-container\" hidden><div class=\"sk-item\"><div class=\"sk-estimator sk-toggleable\"><input class=\"sk-toggleable__control sk-hidden--visually\" id=\"sk-estimator-id-30\" type=\"checkbox\" checked><label for=\"sk-estimator-id-30\" class=\"sk-toggleable__label sk-toggleable__label-arrow\">MultinomialNB</label><div class=\"sk-toggleable__content\"><pre>MultinomialNB()</pre></div></div></div></div></div>"
      ],
      "text/plain": [
       "MultinomialNB()"
      ]
     },
     "execution_count": 260,
     "metadata": {},
     "output_type": "execute_result"
    }
   ],
   "source": [
    "mul_nb"
   ]
  },
  {
   "cell_type": "code",
   "execution_count": 261,
   "id": "f9ab0256",
   "metadata": {},
   "outputs": [
    {
     "data": {
      "text/html": [
       "<style>#sk-container-id-29 {color: black;}#sk-container-id-29 pre{padding: 0;}#sk-container-id-29 div.sk-toggleable {background-color: white;}#sk-container-id-29 label.sk-toggleable__label {cursor: pointer;display: block;width: 100%;margin-bottom: 0;padding: 0.3em;box-sizing: border-box;text-align: center;}#sk-container-id-29 label.sk-toggleable__label-arrow:before {content: \"▸\";float: left;margin-right: 0.25em;color: #696969;}#sk-container-id-29 label.sk-toggleable__label-arrow:hover:before {color: black;}#sk-container-id-29 div.sk-estimator:hover label.sk-toggleable__label-arrow:before {color: black;}#sk-container-id-29 div.sk-toggleable__content {max-height: 0;max-width: 0;overflow: hidden;text-align: left;background-color: #f0f8ff;}#sk-container-id-29 div.sk-toggleable__content pre {margin: 0.2em;color: black;border-radius: 0.25em;background-color: #f0f8ff;}#sk-container-id-29 input.sk-toggleable__control:checked~div.sk-toggleable__content {max-height: 200px;max-width: 100%;overflow: auto;}#sk-container-id-29 input.sk-toggleable__control:checked~label.sk-toggleable__label-arrow:before {content: \"▾\";}#sk-container-id-29 div.sk-estimator input.sk-toggleable__control:checked~label.sk-toggleable__label {background-color: #d4ebff;}#sk-container-id-29 div.sk-label input.sk-toggleable__control:checked~label.sk-toggleable__label {background-color: #d4ebff;}#sk-container-id-29 input.sk-hidden--visually {border: 0;clip: rect(1px 1px 1px 1px);clip: rect(1px, 1px, 1px, 1px);height: 1px;margin: -1px;overflow: hidden;padding: 0;position: absolute;width: 1px;}#sk-container-id-29 div.sk-estimator {font-family: monospace;background-color: #f0f8ff;border: 1px dotted black;border-radius: 0.25em;box-sizing: border-box;margin-bottom: 0.5em;}#sk-container-id-29 div.sk-estimator:hover {background-color: #d4ebff;}#sk-container-id-29 div.sk-parallel-item::after {content: \"\";width: 100%;border-bottom: 1px solid gray;flex-grow: 1;}#sk-container-id-29 div.sk-label:hover label.sk-toggleable__label {background-color: #d4ebff;}#sk-container-id-29 div.sk-serial::before {content: \"\";position: absolute;border-left: 1px solid gray;box-sizing: border-box;top: 0;bottom: 0;left: 50%;z-index: 0;}#sk-container-id-29 div.sk-serial {display: flex;flex-direction: column;align-items: center;background-color: white;padding-right: 0.2em;padding-left: 0.2em;position: relative;}#sk-container-id-29 div.sk-item {position: relative;z-index: 1;}#sk-container-id-29 div.sk-parallel {display: flex;align-items: stretch;justify-content: center;background-color: white;position: relative;}#sk-container-id-29 div.sk-item::before, #sk-container-id-29 div.sk-parallel-item::before {content: \"\";position: absolute;border-left: 1px solid gray;box-sizing: border-box;top: 0;bottom: 0;left: 50%;z-index: -1;}#sk-container-id-29 div.sk-parallel-item {display: flex;flex-direction: column;z-index: 1;position: relative;background-color: white;}#sk-container-id-29 div.sk-parallel-item:first-child::after {align-self: flex-end;width: 50%;}#sk-container-id-29 div.sk-parallel-item:last-child::after {align-self: flex-start;width: 50%;}#sk-container-id-29 div.sk-parallel-item:only-child::after {width: 0;}#sk-container-id-29 div.sk-dashed-wrapped {border: 1px dashed gray;margin: 0 0.4em 0.5em 0.4em;box-sizing: border-box;padding-bottom: 0.4em;background-color: white;}#sk-container-id-29 div.sk-label label {font-family: monospace;font-weight: bold;display: inline-block;line-height: 1.2em;}#sk-container-id-29 div.sk-label-container {text-align: center;}#sk-container-id-29 div.sk-container {/* jupyter's `normalize.less` sets `[hidden] { display: none; }` but bootstrap.min.css set `[hidden] { display: none !important; }` so we also need the `!important` here to be able to override the default hidden behavior on the sphinx rendered scikit-learn.org. See: https://github.com/scikit-learn/scikit-learn/issues/21755 */display: inline-block !important;position: relative;}#sk-container-id-29 div.sk-text-repr-fallback {display: none;}</style><div id=\"sk-container-id-29\" class=\"sk-top-container\"><div class=\"sk-text-repr-fallback\"><pre>MultinomialNB()</pre><b>In a Jupyter environment, please rerun this cell to show the HTML representation or trust the notebook. <br />On GitHub, the HTML representation is unable to render, please try loading this page with nbviewer.org.</b></div><div class=\"sk-container\" hidden><div class=\"sk-item\"><div class=\"sk-estimator sk-toggleable\"><input class=\"sk-toggleable__control sk-hidden--visually\" id=\"sk-estimator-id-31\" type=\"checkbox\" checked><label for=\"sk-estimator-id-31\" class=\"sk-toggleable__label sk-toggleable__label-arrow\">MultinomialNB</label><div class=\"sk-toggleable__content\"><pre>MultinomialNB()</pre></div></div></div></div></div>"
      ],
      "text/plain": [
       "MultinomialNB()"
      ]
     },
     "execution_count": 261,
     "metadata": {},
     "output_type": "execute_result"
    }
   ],
   "source": [
    "mul_nb.fit(X_train, y_train)"
   ]
  },
  {
   "cell_type": "code",
   "execution_count": 262,
   "id": "dfe75c2e",
   "metadata": {},
   "outputs": [
    {
     "data": {
      "text/plain": [
       "(0.7945, 0.786)"
      ]
     },
     "execution_count": 262,
     "metadata": {},
     "output_type": "execute_result"
    }
   ],
   "source": [
    "train_accuracy = accuracy_score(y_train, mul_nb.predict(X_train))\n",
    "test_accuracy = accuracy_score(y_test, mul_nb.predict(X_test))\n",
    "train_accuracy, test_accuracy"
   ]
  },
  {
   "cell_type": "code",
   "execution_count": 263,
   "id": "5eae5adf",
   "metadata": {},
   "outputs": [
    {
     "name": "stdout",
     "output_type": "stream",
     "text": [
      "              precision    recall  f1-score   support\n",
      "\n",
      "         0.0       0.83      0.77      0.80       272\n",
      "         1.0       0.74      0.81      0.77       228\n",
      "\n",
      "    accuracy                           0.79       500\n",
      "   macro avg       0.79      0.79      0.79       500\n",
      "weighted avg       0.79      0.79      0.79       500\n",
      "\n"
     ]
    }
   ],
   "source": [
    "yt7_pred = mul_nb.predict(X_test)\n",
    "classification_test = classification_report(yt7_pred, y_test)\n",
    "print(classification_test)"
   ]
  },
  {
   "cell_type": "markdown",
   "id": "3f0bb9d1",
   "metadata": {},
   "source": [
    "### Logistic Regression"
   ]
  },
  {
   "cell_type": "code",
   "execution_count": 264,
   "id": "7c995e67",
   "metadata": {},
   "outputs": [],
   "source": [
    "from sklearn.linear_model import LogisticRegression"
   ]
  },
  {
   "cell_type": "code",
   "execution_count": 265,
   "id": "bea923ff",
   "metadata": {},
   "outputs": [],
   "source": [
    "lrm = LogisticRegression(solver='lbfgs')"
   ]
  },
  {
   "cell_type": "code",
   "execution_count": 266,
   "id": "10c4ff52",
   "metadata": {},
   "outputs": [
    {
     "data": {
      "text/html": [
       "<style>#sk-container-id-30 {color: black;}#sk-container-id-30 pre{padding: 0;}#sk-container-id-30 div.sk-toggleable {background-color: white;}#sk-container-id-30 label.sk-toggleable__label {cursor: pointer;display: block;width: 100%;margin-bottom: 0;padding: 0.3em;box-sizing: border-box;text-align: center;}#sk-container-id-30 label.sk-toggleable__label-arrow:before {content: \"▸\";float: left;margin-right: 0.25em;color: #696969;}#sk-container-id-30 label.sk-toggleable__label-arrow:hover:before {color: black;}#sk-container-id-30 div.sk-estimator:hover label.sk-toggleable__label-arrow:before {color: black;}#sk-container-id-30 div.sk-toggleable__content {max-height: 0;max-width: 0;overflow: hidden;text-align: left;background-color: #f0f8ff;}#sk-container-id-30 div.sk-toggleable__content pre {margin: 0.2em;color: black;border-radius: 0.25em;background-color: #f0f8ff;}#sk-container-id-30 input.sk-toggleable__control:checked~div.sk-toggleable__content {max-height: 200px;max-width: 100%;overflow: auto;}#sk-container-id-30 input.sk-toggleable__control:checked~label.sk-toggleable__label-arrow:before {content: \"▾\";}#sk-container-id-30 div.sk-estimator input.sk-toggleable__control:checked~label.sk-toggleable__label {background-color: #d4ebff;}#sk-container-id-30 div.sk-label input.sk-toggleable__control:checked~label.sk-toggleable__label {background-color: #d4ebff;}#sk-container-id-30 input.sk-hidden--visually {border: 0;clip: rect(1px 1px 1px 1px);clip: rect(1px, 1px, 1px, 1px);height: 1px;margin: -1px;overflow: hidden;padding: 0;position: absolute;width: 1px;}#sk-container-id-30 div.sk-estimator {font-family: monospace;background-color: #f0f8ff;border: 1px dotted black;border-radius: 0.25em;box-sizing: border-box;margin-bottom: 0.5em;}#sk-container-id-30 div.sk-estimator:hover {background-color: #d4ebff;}#sk-container-id-30 div.sk-parallel-item::after {content: \"\";width: 100%;border-bottom: 1px solid gray;flex-grow: 1;}#sk-container-id-30 div.sk-label:hover label.sk-toggleable__label {background-color: #d4ebff;}#sk-container-id-30 div.sk-serial::before {content: \"\";position: absolute;border-left: 1px solid gray;box-sizing: border-box;top: 0;bottom: 0;left: 50%;z-index: 0;}#sk-container-id-30 div.sk-serial {display: flex;flex-direction: column;align-items: center;background-color: white;padding-right: 0.2em;padding-left: 0.2em;position: relative;}#sk-container-id-30 div.sk-item {position: relative;z-index: 1;}#sk-container-id-30 div.sk-parallel {display: flex;align-items: stretch;justify-content: center;background-color: white;position: relative;}#sk-container-id-30 div.sk-item::before, #sk-container-id-30 div.sk-parallel-item::before {content: \"\";position: absolute;border-left: 1px solid gray;box-sizing: border-box;top: 0;bottom: 0;left: 50%;z-index: -1;}#sk-container-id-30 div.sk-parallel-item {display: flex;flex-direction: column;z-index: 1;position: relative;background-color: white;}#sk-container-id-30 div.sk-parallel-item:first-child::after {align-self: flex-end;width: 50%;}#sk-container-id-30 div.sk-parallel-item:last-child::after {align-self: flex-start;width: 50%;}#sk-container-id-30 div.sk-parallel-item:only-child::after {width: 0;}#sk-container-id-30 div.sk-dashed-wrapped {border: 1px dashed gray;margin: 0 0.4em 0.5em 0.4em;box-sizing: border-box;padding-bottom: 0.4em;background-color: white;}#sk-container-id-30 div.sk-label label {font-family: monospace;font-weight: bold;display: inline-block;line-height: 1.2em;}#sk-container-id-30 div.sk-label-container {text-align: center;}#sk-container-id-30 div.sk-container {/* jupyter's `normalize.less` sets `[hidden] { display: none; }` but bootstrap.min.css set `[hidden] { display: none !important; }` so we also need the `!important` here to be able to override the default hidden behavior on the sphinx rendered scikit-learn.org. See: https://github.com/scikit-learn/scikit-learn/issues/21755 */display: inline-block !important;position: relative;}#sk-container-id-30 div.sk-text-repr-fallback {display: none;}</style><div id=\"sk-container-id-30\" class=\"sk-top-container\"><div class=\"sk-text-repr-fallback\"><pre>LogisticRegression()</pre><b>In a Jupyter environment, please rerun this cell to show the HTML representation or trust the notebook. <br />On GitHub, the HTML representation is unable to render, please try loading this page with nbviewer.org.</b></div><div class=\"sk-container\" hidden><div class=\"sk-item\"><div class=\"sk-estimator sk-toggleable\"><input class=\"sk-toggleable__control sk-hidden--visually\" id=\"sk-estimator-id-32\" type=\"checkbox\" checked><label for=\"sk-estimator-id-32\" class=\"sk-toggleable__label sk-toggleable__label-arrow\">LogisticRegression</label><div class=\"sk-toggleable__content\"><pre>LogisticRegression()</pre></div></div></div></div></div>"
      ],
      "text/plain": [
       "LogisticRegression()"
      ]
     },
     "execution_count": 266,
     "metadata": {},
     "output_type": "execute_result"
    }
   ],
   "source": [
    "lrm"
   ]
  },
  {
   "cell_type": "code",
   "execution_count": 267,
   "id": "425d7819",
   "metadata": {},
   "outputs": [
    {
     "data": {
      "text/html": [
       "<style>#sk-container-id-31 {color: black;}#sk-container-id-31 pre{padding: 0;}#sk-container-id-31 div.sk-toggleable {background-color: white;}#sk-container-id-31 label.sk-toggleable__label {cursor: pointer;display: block;width: 100%;margin-bottom: 0;padding: 0.3em;box-sizing: border-box;text-align: center;}#sk-container-id-31 label.sk-toggleable__label-arrow:before {content: \"▸\";float: left;margin-right: 0.25em;color: #696969;}#sk-container-id-31 label.sk-toggleable__label-arrow:hover:before {color: black;}#sk-container-id-31 div.sk-estimator:hover label.sk-toggleable__label-arrow:before {color: black;}#sk-container-id-31 div.sk-toggleable__content {max-height: 0;max-width: 0;overflow: hidden;text-align: left;background-color: #f0f8ff;}#sk-container-id-31 div.sk-toggleable__content pre {margin: 0.2em;color: black;border-radius: 0.25em;background-color: #f0f8ff;}#sk-container-id-31 input.sk-toggleable__control:checked~div.sk-toggleable__content {max-height: 200px;max-width: 100%;overflow: auto;}#sk-container-id-31 input.sk-toggleable__control:checked~label.sk-toggleable__label-arrow:before {content: \"▾\";}#sk-container-id-31 div.sk-estimator input.sk-toggleable__control:checked~label.sk-toggleable__label {background-color: #d4ebff;}#sk-container-id-31 div.sk-label input.sk-toggleable__control:checked~label.sk-toggleable__label {background-color: #d4ebff;}#sk-container-id-31 input.sk-hidden--visually {border: 0;clip: rect(1px 1px 1px 1px);clip: rect(1px, 1px, 1px, 1px);height: 1px;margin: -1px;overflow: hidden;padding: 0;position: absolute;width: 1px;}#sk-container-id-31 div.sk-estimator {font-family: monospace;background-color: #f0f8ff;border: 1px dotted black;border-radius: 0.25em;box-sizing: border-box;margin-bottom: 0.5em;}#sk-container-id-31 div.sk-estimator:hover {background-color: #d4ebff;}#sk-container-id-31 div.sk-parallel-item::after {content: \"\";width: 100%;border-bottom: 1px solid gray;flex-grow: 1;}#sk-container-id-31 div.sk-label:hover label.sk-toggleable__label {background-color: #d4ebff;}#sk-container-id-31 div.sk-serial::before {content: \"\";position: absolute;border-left: 1px solid gray;box-sizing: border-box;top: 0;bottom: 0;left: 50%;z-index: 0;}#sk-container-id-31 div.sk-serial {display: flex;flex-direction: column;align-items: center;background-color: white;padding-right: 0.2em;padding-left: 0.2em;position: relative;}#sk-container-id-31 div.sk-item {position: relative;z-index: 1;}#sk-container-id-31 div.sk-parallel {display: flex;align-items: stretch;justify-content: center;background-color: white;position: relative;}#sk-container-id-31 div.sk-item::before, #sk-container-id-31 div.sk-parallel-item::before {content: \"\";position: absolute;border-left: 1px solid gray;box-sizing: border-box;top: 0;bottom: 0;left: 50%;z-index: -1;}#sk-container-id-31 div.sk-parallel-item {display: flex;flex-direction: column;z-index: 1;position: relative;background-color: white;}#sk-container-id-31 div.sk-parallel-item:first-child::after {align-self: flex-end;width: 50%;}#sk-container-id-31 div.sk-parallel-item:last-child::after {align-self: flex-start;width: 50%;}#sk-container-id-31 div.sk-parallel-item:only-child::after {width: 0;}#sk-container-id-31 div.sk-dashed-wrapped {border: 1px dashed gray;margin: 0 0.4em 0.5em 0.4em;box-sizing: border-box;padding-bottom: 0.4em;background-color: white;}#sk-container-id-31 div.sk-label label {font-family: monospace;font-weight: bold;display: inline-block;line-height: 1.2em;}#sk-container-id-31 div.sk-label-container {text-align: center;}#sk-container-id-31 div.sk-container {/* jupyter's `normalize.less` sets `[hidden] { display: none; }` but bootstrap.min.css set `[hidden] { display: none !important; }` so we also need the `!important` here to be able to override the default hidden behavior on the sphinx rendered scikit-learn.org. See: https://github.com/scikit-learn/scikit-learn/issues/21755 */display: inline-block !important;position: relative;}#sk-container-id-31 div.sk-text-repr-fallback {display: none;}</style><div id=\"sk-container-id-31\" class=\"sk-top-container\"><div class=\"sk-text-repr-fallback\"><pre>LogisticRegression()</pre><b>In a Jupyter environment, please rerun this cell to show the HTML representation or trust the notebook. <br />On GitHub, the HTML representation is unable to render, please try loading this page with nbviewer.org.</b></div><div class=\"sk-container\" hidden><div class=\"sk-item\"><div class=\"sk-estimator sk-toggleable\"><input class=\"sk-toggleable__control sk-hidden--visually\" id=\"sk-estimator-id-33\" type=\"checkbox\" checked><label for=\"sk-estimator-id-33\" class=\"sk-toggleable__label sk-toggleable__label-arrow\">LogisticRegression</label><div class=\"sk-toggleable__content\"><pre>LogisticRegression()</pre></div></div></div></div></div>"
      ],
      "text/plain": [
       "LogisticRegression()"
      ]
     },
     "execution_count": 267,
     "metadata": {},
     "output_type": "execute_result"
    }
   ],
   "source": [
    "lrm.fit(X_train, y_train)"
   ]
  },
  {
   "cell_type": "code",
   "execution_count": 268,
   "id": "84bed1b4",
   "metadata": {},
   "outputs": [
    {
     "data": {
      "text/plain": [
       "(0.8505, 0.888)"
      ]
     },
     "execution_count": 268,
     "metadata": {},
     "output_type": "execute_result"
    }
   ],
   "source": [
    "train_accuracy = accuracy_score(y_train, lrm.predict(X_train))\n",
    "test_accuracy = accuracy_score(y_test, lrm.predict(X_test))\n",
    "train_accuracy, test_accuracy "
   ]
  },
  {
   "cell_type": "code",
   "execution_count": 270,
   "id": "c0d2ede0",
   "metadata": {},
   "outputs": [
    {
     "name": "stdout",
     "output_type": "stream",
     "text": [
      "              precision    recall  f1-score   support\n",
      "\n",
      "         0.0       0.89      0.89      0.89       251\n",
      "         1.0       0.89      0.88      0.89       249\n",
      "\n",
      "    accuracy                           0.89       500\n",
      "   macro avg       0.89      0.89      0.89       500\n",
      "weighted avg       0.89      0.89      0.89       500\n",
      "\n"
     ]
    }
   ],
   "source": [
    "yt9_pred = lrm.predict(X_test)\n",
    "classification_test = classification_report(yt9_pred, y_test)\n",
    "print(classification_test)"
   ]
  }
 ],
 "metadata": {
  "kernelspec": {
   "display_name": "Python 3 (ipykernel)",
   "language": "python",
   "name": "python3"
  },
  "language_info": {
   "codemirror_mode": {
    "name": "ipython",
    "version": 3
   },
   "file_extension": ".py",
   "mimetype": "text/x-python",
   "name": "python",
   "nbconvert_exporter": "python",
   "pygments_lexer": "ipython3",
   "version": "3.11.5"
  }
 },
 "nbformat": 4,
 "nbformat_minor": 5
}
